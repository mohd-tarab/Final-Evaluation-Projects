{
 "cells": [
  {
   "cell_type": "markdown",
   "metadata": {},
   "source": [
    "# Flight Price Prediction\n",
    "\n",
    "Problem statement: Predicting the prices of flights.\n",
    "\n",
    "    \n",
    "Features:\n",
    "  \n",
    "Airline: The name of the airline.\n",
    "\n",
    "Date_of_Journey: The date of the journey\n",
    "\n",
    "Source: The source from which the service begins.\n",
    "\n",
    "Destination: The destination where the service ends.\n",
    "\n",
    "Route: The route taken by the flight to reach the destination.\n",
    "\n",
    "Dep_Time: The time when the journey starts from the source.\n",
    "\n",
    "Arrival_Time: Time of arrival at the destination.\n",
    "\n",
    "Duration: Total duration of the flight.\n",
    "\n",
    "Total_Stops: Total stops between the source and destination.\n",
    "\n",
    "Additional_Info: Additional information about the flight\n",
    "\n",
    "Price: The price of the ticket"
   ]
  },
  {
   "cell_type": "code",
   "execution_count": 1,
   "metadata": {},
   "outputs": [],
   "source": [
    "# importing libraries.\n",
    "\n",
    "import pandas as pd\n",
    "import numpy as np\n",
    "import matplotlib.pyplot as plt\n",
    "import seaborn as sns\n",
    "import warnings\n",
    "warnings.filterwarnings('ignore')"
   ]
  },
  {
   "cell_type": "code",
   "execution_count": 2,
   "metadata": {},
   "outputs": [],
   "source": [
    "df=pd.read_excel('Flight Price Prediction_Train.xlsx')"
   ]
  },
  {
   "cell_type": "code",
   "execution_count": 3,
   "metadata": {},
   "outputs": [
    {
     "data": {
      "text/html": [
       "<div>\n",
       "<style scoped>\n",
       "    .dataframe tbody tr th:only-of-type {\n",
       "        vertical-align: middle;\n",
       "    }\n",
       "\n",
       "    .dataframe tbody tr th {\n",
       "        vertical-align: top;\n",
       "    }\n",
       "\n",
       "    .dataframe thead th {\n",
       "        text-align: right;\n",
       "    }\n",
       "</style>\n",
       "<table border=\"1\" class=\"dataframe\">\n",
       "  <thead>\n",
       "    <tr style=\"text-align: right;\">\n",
       "      <th></th>\n",
       "      <th>Airline</th>\n",
       "      <th>Date_of_Journey</th>\n",
       "      <th>Source</th>\n",
       "      <th>Destination</th>\n",
       "      <th>Route</th>\n",
       "      <th>Dep_Time</th>\n",
       "      <th>Arrival_Time</th>\n",
       "      <th>Duration</th>\n",
       "      <th>Total_Stops</th>\n",
       "      <th>Additional_Info</th>\n",
       "      <th>Price</th>\n",
       "    </tr>\n",
       "  </thead>\n",
       "  <tbody>\n",
       "    <tr>\n",
       "      <th>0</th>\n",
       "      <td>IndiGo</td>\n",
       "      <td>24/03/2019</td>\n",
       "      <td>Banglore</td>\n",
       "      <td>New Delhi</td>\n",
       "      <td>BLR → DEL</td>\n",
       "      <td>22:20</td>\n",
       "      <td>01:10 22 Mar</td>\n",
       "      <td>2h 50m</td>\n",
       "      <td>non-stop</td>\n",
       "      <td>No info</td>\n",
       "      <td>3897</td>\n",
       "    </tr>\n",
       "    <tr>\n",
       "      <th>1</th>\n",
       "      <td>Air India</td>\n",
       "      <td>1/05/2019</td>\n",
       "      <td>Kolkata</td>\n",
       "      <td>Banglore</td>\n",
       "      <td>CCU → IXR → BBI → BLR</td>\n",
       "      <td>05:50</td>\n",
       "      <td>13:15</td>\n",
       "      <td>7h 25m</td>\n",
       "      <td>2 stops</td>\n",
       "      <td>No info</td>\n",
       "      <td>7662</td>\n",
       "    </tr>\n",
       "    <tr>\n",
       "      <th>2</th>\n",
       "      <td>Jet Airways</td>\n",
       "      <td>9/06/2019</td>\n",
       "      <td>Delhi</td>\n",
       "      <td>Cochin</td>\n",
       "      <td>DEL → LKO → BOM → COK</td>\n",
       "      <td>09:25</td>\n",
       "      <td>04:25 10 Jun</td>\n",
       "      <td>19h</td>\n",
       "      <td>2 stops</td>\n",
       "      <td>No info</td>\n",
       "      <td>13882</td>\n",
       "    </tr>\n",
       "    <tr>\n",
       "      <th>3</th>\n",
       "      <td>IndiGo</td>\n",
       "      <td>12/05/2019</td>\n",
       "      <td>Kolkata</td>\n",
       "      <td>Banglore</td>\n",
       "      <td>CCU → NAG → BLR</td>\n",
       "      <td>18:05</td>\n",
       "      <td>23:30</td>\n",
       "      <td>5h 25m</td>\n",
       "      <td>1 stop</td>\n",
       "      <td>No info</td>\n",
       "      <td>6218</td>\n",
       "    </tr>\n",
       "    <tr>\n",
       "      <th>4</th>\n",
       "      <td>IndiGo</td>\n",
       "      <td>01/03/2019</td>\n",
       "      <td>Banglore</td>\n",
       "      <td>New Delhi</td>\n",
       "      <td>BLR → NAG → DEL</td>\n",
       "      <td>16:50</td>\n",
       "      <td>21:35</td>\n",
       "      <td>4h 45m</td>\n",
       "      <td>1 stop</td>\n",
       "      <td>No info</td>\n",
       "      <td>13302</td>\n",
       "    </tr>\n",
       "    <tr>\n",
       "      <th>...</th>\n",
       "      <td>...</td>\n",
       "      <td>...</td>\n",
       "      <td>...</td>\n",
       "      <td>...</td>\n",
       "      <td>...</td>\n",
       "      <td>...</td>\n",
       "      <td>...</td>\n",
       "      <td>...</td>\n",
       "      <td>...</td>\n",
       "      <td>...</td>\n",
       "      <td>...</td>\n",
       "    </tr>\n",
       "    <tr>\n",
       "      <th>10678</th>\n",
       "      <td>Air Asia</td>\n",
       "      <td>9/04/2019</td>\n",
       "      <td>Kolkata</td>\n",
       "      <td>Banglore</td>\n",
       "      <td>CCU → BLR</td>\n",
       "      <td>19:55</td>\n",
       "      <td>22:25</td>\n",
       "      <td>2h 30m</td>\n",
       "      <td>non-stop</td>\n",
       "      <td>No info</td>\n",
       "      <td>4107</td>\n",
       "    </tr>\n",
       "    <tr>\n",
       "      <th>10679</th>\n",
       "      <td>Air India</td>\n",
       "      <td>27/04/2019</td>\n",
       "      <td>Kolkata</td>\n",
       "      <td>Banglore</td>\n",
       "      <td>CCU → BLR</td>\n",
       "      <td>20:45</td>\n",
       "      <td>23:20</td>\n",
       "      <td>2h 35m</td>\n",
       "      <td>non-stop</td>\n",
       "      <td>No info</td>\n",
       "      <td>4145</td>\n",
       "    </tr>\n",
       "    <tr>\n",
       "      <th>10680</th>\n",
       "      <td>Jet Airways</td>\n",
       "      <td>27/04/2019</td>\n",
       "      <td>Banglore</td>\n",
       "      <td>Delhi</td>\n",
       "      <td>BLR → DEL</td>\n",
       "      <td>08:20</td>\n",
       "      <td>11:20</td>\n",
       "      <td>3h</td>\n",
       "      <td>non-stop</td>\n",
       "      <td>No info</td>\n",
       "      <td>7229</td>\n",
       "    </tr>\n",
       "    <tr>\n",
       "      <th>10681</th>\n",
       "      <td>Vistara</td>\n",
       "      <td>01/03/2019</td>\n",
       "      <td>Banglore</td>\n",
       "      <td>New Delhi</td>\n",
       "      <td>BLR → DEL</td>\n",
       "      <td>11:30</td>\n",
       "      <td>14:10</td>\n",
       "      <td>2h 40m</td>\n",
       "      <td>non-stop</td>\n",
       "      <td>No info</td>\n",
       "      <td>12648</td>\n",
       "    </tr>\n",
       "    <tr>\n",
       "      <th>10682</th>\n",
       "      <td>Air India</td>\n",
       "      <td>9/05/2019</td>\n",
       "      <td>Delhi</td>\n",
       "      <td>Cochin</td>\n",
       "      <td>DEL → GOI → BOM → COK</td>\n",
       "      <td>10:55</td>\n",
       "      <td>19:15</td>\n",
       "      <td>8h 20m</td>\n",
       "      <td>2 stops</td>\n",
       "      <td>No info</td>\n",
       "      <td>11753</td>\n",
       "    </tr>\n",
       "  </tbody>\n",
       "</table>\n",
       "<p>10683 rows × 11 columns</p>\n",
       "</div>"
      ],
      "text/plain": [
       "           Airline Date_of_Journey    Source Destination  \\\n",
       "0           IndiGo      24/03/2019  Banglore   New Delhi   \n",
       "1        Air India       1/05/2019   Kolkata    Banglore   \n",
       "2      Jet Airways       9/06/2019     Delhi      Cochin   \n",
       "3           IndiGo      12/05/2019   Kolkata    Banglore   \n",
       "4           IndiGo      01/03/2019  Banglore   New Delhi   \n",
       "...            ...             ...       ...         ...   \n",
       "10678     Air Asia       9/04/2019   Kolkata    Banglore   \n",
       "10679    Air India      27/04/2019   Kolkata    Banglore   \n",
       "10680  Jet Airways      27/04/2019  Banglore       Delhi   \n",
       "10681      Vistara      01/03/2019  Banglore   New Delhi   \n",
       "10682    Air India       9/05/2019     Delhi      Cochin   \n",
       "\n",
       "                       Route Dep_Time  Arrival_Time Duration Total_Stops  \\\n",
       "0                  BLR → DEL    22:20  01:10 22 Mar   2h 50m    non-stop   \n",
       "1      CCU → IXR → BBI → BLR    05:50         13:15   7h 25m     2 stops   \n",
       "2      DEL → LKO → BOM → COK    09:25  04:25 10 Jun      19h     2 stops   \n",
       "3            CCU → NAG → BLR    18:05         23:30   5h 25m      1 stop   \n",
       "4            BLR → NAG → DEL    16:50         21:35   4h 45m      1 stop   \n",
       "...                      ...      ...           ...      ...         ...   \n",
       "10678              CCU → BLR    19:55         22:25   2h 30m    non-stop   \n",
       "10679              CCU → BLR    20:45         23:20   2h 35m    non-stop   \n",
       "10680              BLR → DEL    08:20         11:20       3h    non-stop   \n",
       "10681              BLR → DEL    11:30         14:10   2h 40m    non-stop   \n",
       "10682  DEL → GOI → BOM → COK    10:55         19:15   8h 20m     2 stops   \n",
       "\n",
       "      Additional_Info  Price  \n",
       "0             No info   3897  \n",
       "1             No info   7662  \n",
       "2             No info  13882  \n",
       "3             No info   6218  \n",
       "4             No info  13302  \n",
       "...               ...    ...  \n",
       "10678         No info   4107  \n",
       "10679         No info   4145  \n",
       "10680         No info   7229  \n",
       "10681         No info  12648  \n",
       "10682         No info  11753  \n",
       "\n",
       "[10683 rows x 11 columns]"
      ]
     },
     "execution_count": 3,
     "metadata": {},
     "output_type": "execute_result"
    }
   ],
   "source": [
    "df"
   ]
  },
  {
   "cell_type": "code",
   "execution_count": 4,
   "metadata": {},
   "outputs": [
    {
     "data": {
      "text/plain": [
       "(10683, 11)"
      ]
     },
     "execution_count": 4,
     "metadata": {},
     "output_type": "execute_result"
    }
   ],
   "source": [
    "df.shape"
   ]
  },
  {
   "cell_type": "code",
   "execution_count": 5,
   "metadata": {},
   "outputs": [
    {
     "data": {
      "text/plain": [
       "Airline            0\n",
       "Date_of_Journey    0\n",
       "Source             0\n",
       "Destination        0\n",
       "Route              1\n",
       "Dep_Time           0\n",
       "Arrival_Time       0\n",
       "Duration           0\n",
       "Total_Stops        1\n",
       "Additional_Info    0\n",
       "Price              0\n",
       "dtype: int64"
      ]
     },
     "execution_count": 5,
     "metadata": {},
     "output_type": "execute_result"
    }
   ],
   "source": [
    "df.isnull().sum()"
   ]
  },
  {
   "cell_type": "code",
   "execution_count": 6,
   "metadata": {},
   "outputs": [],
   "source": [
    "#In additional info there are entries as NO info."
   ]
  },
  {
   "cell_type": "code",
   "execution_count": 7,
   "metadata": {},
   "outputs": [
    {
     "data": {
      "text/plain": [
       "array(['No info', 'In-flight meal not included',\n",
       "       'No check-in baggage included', '1 Short layover', 'No Info',\n",
       "       '1 Long layover', 'Change airports', 'Business class',\n",
       "       'Red-eye flight', '2 Long layover'], dtype=object)"
      ]
     },
     "execution_count": 7,
     "metadata": {},
     "output_type": "execute_result"
    }
   ],
   "source": [
    "df['Additional_Info'].unique()"
   ]
  },
  {
   "cell_type": "code",
   "execution_count": 8,
   "metadata": {},
   "outputs": [
    {
     "data": {
      "text/plain": [
       "No info                         8345\n",
       "In-flight meal not included     1982\n",
       "No check-in baggage included     320\n",
       "1 Long layover                    19\n",
       "Change airports                    7\n",
       "Business class                     4\n",
       "No Info                            3\n",
       "1 Short layover                    1\n",
       "2 Long layover                     1\n",
       "Red-eye flight                     1\n",
       "Name: Additional_Info, dtype: int64"
      ]
     },
     "execution_count": 8,
     "metadata": {},
     "output_type": "execute_result"
    }
   ],
   "source": [
    "df['Additional_Info'].value_counts()"
   ]
  },
  {
   "cell_type": "code",
   "execution_count": 9,
   "metadata": {},
   "outputs": [],
   "source": [
    "# Out of 10683 there are 8345 Null values present.\n",
    "# keeping this will hamper out model prediction so I am dropping this column."
   ]
  },
  {
   "cell_type": "code",
   "execution_count": 10,
   "metadata": {},
   "outputs": [],
   "source": [
    "df.drop(columns=['Additional_Info'],inplace=True)"
   ]
  },
  {
   "cell_type": "code",
   "execution_count": 11,
   "metadata": {},
   "outputs": [
    {
     "data": {
      "text/html": [
       "<div>\n",
       "<style scoped>\n",
       "    .dataframe tbody tr th:only-of-type {\n",
       "        vertical-align: middle;\n",
       "    }\n",
       "\n",
       "    .dataframe tbody tr th {\n",
       "        vertical-align: top;\n",
       "    }\n",
       "\n",
       "    .dataframe thead th {\n",
       "        text-align: right;\n",
       "    }\n",
       "</style>\n",
       "<table border=\"1\" class=\"dataframe\">\n",
       "  <thead>\n",
       "    <tr style=\"text-align: right;\">\n",
       "      <th></th>\n",
       "      <th>Airline</th>\n",
       "      <th>Date_of_Journey</th>\n",
       "      <th>Source</th>\n",
       "      <th>Destination</th>\n",
       "      <th>Route</th>\n",
       "      <th>Dep_Time</th>\n",
       "      <th>Arrival_Time</th>\n",
       "      <th>Duration</th>\n",
       "      <th>Total_Stops</th>\n",
       "      <th>Price</th>\n",
       "    </tr>\n",
       "  </thead>\n",
       "  <tbody>\n",
       "    <tr>\n",
       "      <th>0</th>\n",
       "      <td>IndiGo</td>\n",
       "      <td>24/03/2019</td>\n",
       "      <td>Banglore</td>\n",
       "      <td>New Delhi</td>\n",
       "      <td>BLR → DEL</td>\n",
       "      <td>22:20</td>\n",
       "      <td>01:10 22 Mar</td>\n",
       "      <td>2h 50m</td>\n",
       "      <td>non-stop</td>\n",
       "      <td>3897</td>\n",
       "    </tr>\n",
       "    <tr>\n",
       "      <th>1</th>\n",
       "      <td>Air India</td>\n",
       "      <td>1/05/2019</td>\n",
       "      <td>Kolkata</td>\n",
       "      <td>Banglore</td>\n",
       "      <td>CCU → IXR → BBI → BLR</td>\n",
       "      <td>05:50</td>\n",
       "      <td>13:15</td>\n",
       "      <td>7h 25m</td>\n",
       "      <td>2 stops</td>\n",
       "      <td>7662</td>\n",
       "    </tr>\n",
       "    <tr>\n",
       "      <th>2</th>\n",
       "      <td>Jet Airways</td>\n",
       "      <td>9/06/2019</td>\n",
       "      <td>Delhi</td>\n",
       "      <td>Cochin</td>\n",
       "      <td>DEL → LKO → BOM → COK</td>\n",
       "      <td>09:25</td>\n",
       "      <td>04:25 10 Jun</td>\n",
       "      <td>19h</td>\n",
       "      <td>2 stops</td>\n",
       "      <td>13882</td>\n",
       "    </tr>\n",
       "    <tr>\n",
       "      <th>3</th>\n",
       "      <td>IndiGo</td>\n",
       "      <td>12/05/2019</td>\n",
       "      <td>Kolkata</td>\n",
       "      <td>Banglore</td>\n",
       "      <td>CCU → NAG → BLR</td>\n",
       "      <td>18:05</td>\n",
       "      <td>23:30</td>\n",
       "      <td>5h 25m</td>\n",
       "      <td>1 stop</td>\n",
       "      <td>6218</td>\n",
       "    </tr>\n",
       "    <tr>\n",
       "      <th>4</th>\n",
       "      <td>IndiGo</td>\n",
       "      <td>01/03/2019</td>\n",
       "      <td>Banglore</td>\n",
       "      <td>New Delhi</td>\n",
       "      <td>BLR → NAG → DEL</td>\n",
       "      <td>16:50</td>\n",
       "      <td>21:35</td>\n",
       "      <td>4h 45m</td>\n",
       "      <td>1 stop</td>\n",
       "      <td>13302</td>\n",
       "    </tr>\n",
       "    <tr>\n",
       "      <th>...</th>\n",
       "      <td>...</td>\n",
       "      <td>...</td>\n",
       "      <td>...</td>\n",
       "      <td>...</td>\n",
       "      <td>...</td>\n",
       "      <td>...</td>\n",
       "      <td>...</td>\n",
       "      <td>...</td>\n",
       "      <td>...</td>\n",
       "      <td>...</td>\n",
       "    </tr>\n",
       "    <tr>\n",
       "      <th>10678</th>\n",
       "      <td>Air Asia</td>\n",
       "      <td>9/04/2019</td>\n",
       "      <td>Kolkata</td>\n",
       "      <td>Banglore</td>\n",
       "      <td>CCU → BLR</td>\n",
       "      <td>19:55</td>\n",
       "      <td>22:25</td>\n",
       "      <td>2h 30m</td>\n",
       "      <td>non-stop</td>\n",
       "      <td>4107</td>\n",
       "    </tr>\n",
       "    <tr>\n",
       "      <th>10679</th>\n",
       "      <td>Air India</td>\n",
       "      <td>27/04/2019</td>\n",
       "      <td>Kolkata</td>\n",
       "      <td>Banglore</td>\n",
       "      <td>CCU → BLR</td>\n",
       "      <td>20:45</td>\n",
       "      <td>23:20</td>\n",
       "      <td>2h 35m</td>\n",
       "      <td>non-stop</td>\n",
       "      <td>4145</td>\n",
       "    </tr>\n",
       "    <tr>\n",
       "      <th>10680</th>\n",
       "      <td>Jet Airways</td>\n",
       "      <td>27/04/2019</td>\n",
       "      <td>Banglore</td>\n",
       "      <td>Delhi</td>\n",
       "      <td>BLR → DEL</td>\n",
       "      <td>08:20</td>\n",
       "      <td>11:20</td>\n",
       "      <td>3h</td>\n",
       "      <td>non-stop</td>\n",
       "      <td>7229</td>\n",
       "    </tr>\n",
       "    <tr>\n",
       "      <th>10681</th>\n",
       "      <td>Vistara</td>\n",
       "      <td>01/03/2019</td>\n",
       "      <td>Banglore</td>\n",
       "      <td>New Delhi</td>\n",
       "      <td>BLR → DEL</td>\n",
       "      <td>11:30</td>\n",
       "      <td>14:10</td>\n",
       "      <td>2h 40m</td>\n",
       "      <td>non-stop</td>\n",
       "      <td>12648</td>\n",
       "    </tr>\n",
       "    <tr>\n",
       "      <th>10682</th>\n",
       "      <td>Air India</td>\n",
       "      <td>9/05/2019</td>\n",
       "      <td>Delhi</td>\n",
       "      <td>Cochin</td>\n",
       "      <td>DEL → GOI → BOM → COK</td>\n",
       "      <td>10:55</td>\n",
       "      <td>19:15</td>\n",
       "      <td>8h 20m</td>\n",
       "      <td>2 stops</td>\n",
       "      <td>11753</td>\n",
       "    </tr>\n",
       "  </tbody>\n",
       "</table>\n",
       "<p>10683 rows × 10 columns</p>\n",
       "</div>"
      ],
      "text/plain": [
       "           Airline Date_of_Journey    Source Destination  \\\n",
       "0           IndiGo      24/03/2019  Banglore   New Delhi   \n",
       "1        Air India       1/05/2019   Kolkata    Banglore   \n",
       "2      Jet Airways       9/06/2019     Delhi      Cochin   \n",
       "3           IndiGo      12/05/2019   Kolkata    Banglore   \n",
       "4           IndiGo      01/03/2019  Banglore   New Delhi   \n",
       "...            ...             ...       ...         ...   \n",
       "10678     Air Asia       9/04/2019   Kolkata    Banglore   \n",
       "10679    Air India      27/04/2019   Kolkata    Banglore   \n",
       "10680  Jet Airways      27/04/2019  Banglore       Delhi   \n",
       "10681      Vistara      01/03/2019  Banglore   New Delhi   \n",
       "10682    Air India       9/05/2019     Delhi      Cochin   \n",
       "\n",
       "                       Route Dep_Time  Arrival_Time Duration Total_Stops  \\\n",
       "0                  BLR → DEL    22:20  01:10 22 Mar   2h 50m    non-stop   \n",
       "1      CCU → IXR → BBI → BLR    05:50         13:15   7h 25m     2 stops   \n",
       "2      DEL → LKO → BOM → COK    09:25  04:25 10 Jun      19h     2 stops   \n",
       "3            CCU → NAG → BLR    18:05         23:30   5h 25m      1 stop   \n",
       "4            BLR → NAG → DEL    16:50         21:35   4h 45m      1 stop   \n",
       "...                      ...      ...           ...      ...         ...   \n",
       "10678              CCU → BLR    19:55         22:25   2h 30m    non-stop   \n",
       "10679              CCU → BLR    20:45         23:20   2h 35m    non-stop   \n",
       "10680              BLR → DEL    08:20         11:20       3h    non-stop   \n",
       "10681              BLR → DEL    11:30         14:10   2h 40m    non-stop   \n",
       "10682  DEL → GOI → BOM → COK    10:55         19:15   8h 20m     2 stops   \n",
       "\n",
       "       Price  \n",
       "0       3897  \n",
       "1       7662  \n",
       "2      13882  \n",
       "3       6218  \n",
       "4      13302  \n",
       "...      ...  \n",
       "10678   4107  \n",
       "10679   4145  \n",
       "10680   7229  \n",
       "10681  12648  \n",
       "10682  11753  \n",
       "\n",
       "[10683 rows x 10 columns]"
      ]
     },
     "execution_count": 11,
     "metadata": {},
     "output_type": "execute_result"
    }
   ],
   "source": [
    "df"
   ]
  },
  {
   "cell_type": "code",
   "execution_count": 12,
   "metadata": {},
   "outputs": [],
   "source": [
    "# checking Null vales"
   ]
  },
  {
   "cell_type": "code",
   "execution_count": 13,
   "metadata": {},
   "outputs": [
    {
     "data": {
      "text/plain": [
       "Airline            0\n",
       "Date_of_Journey    0\n",
       "Source             0\n",
       "Destination        0\n",
       "Route              1\n",
       "Dep_Time           0\n",
       "Arrival_Time       0\n",
       "Duration           0\n",
       "Total_Stops        1\n",
       "Price              0\n",
       "dtype: int64"
      ]
     },
     "execution_count": 13,
     "metadata": {},
     "output_type": "execute_result"
    }
   ],
   "source": [
    "df.isnull().sum()"
   ]
  },
  {
   "cell_type": "markdown",
   "metadata": {},
   "source": [
    "There are only 2 null values in the data set,\n",
    "to maintain the quality and riches of the data I'm dropping these two null values."
   ]
  },
  {
   "cell_type": "code",
   "execution_count": 15,
   "metadata": {},
   "outputs": [],
   "source": [
    "df.dropna(axis=0,inplace=True)"
   ]
  },
  {
   "cell_type": "code",
   "execution_count": 16,
   "metadata": {},
   "outputs": [
    {
     "data": {
      "text/plain": [
       "Airline            0\n",
       "Date_of_Journey    0\n",
       "Source             0\n",
       "Destination        0\n",
       "Route              0\n",
       "Dep_Time           0\n",
       "Arrival_Time       0\n",
       "Duration           0\n",
       "Total_Stops        0\n",
       "Price              0\n",
       "dtype: int64"
      ]
     },
     "execution_count": 16,
     "metadata": {},
     "output_type": "execute_result"
    }
   ],
   "source": [
    "df.isnull().sum()"
   ]
  },
  {
   "cell_type": "markdown",
   "metadata": {},
   "source": [
    "------  >             Now we have soomthing to proceed with."
   ]
  },
  {
   "cell_type": "code",
   "execution_count": 18,
   "metadata": {},
   "outputs": [],
   "source": [
    "## Feature Engineering"
   ]
  },
  {
   "cell_type": "code",
   "execution_count": 19,
   "metadata": {},
   "outputs": [
    {
     "data": {
      "text/plain": [
       "Index(['Airline', 'Date_of_Journey', 'Source', 'Destination', 'Route',\n",
       "       'Dep_Time', 'Arrival_Time', 'Duration', 'Total_Stops', 'Price'],\n",
       "      dtype='object')"
      ]
     },
     "execution_count": 19,
     "metadata": {},
     "output_type": "execute_result"
    }
   ],
   "source": [
    "df.columns"
   ]
  },
  {
   "cell_type": "markdown",
   "metadata": {},
   "source": [
    "From these columns in particular I'll extract data.\n",
    ".\n",
    ".\n",
    ".\n",
    "- Date_of_Journey is in date  time format.\n",
    "- We have multiple points in Route.\n",
    "- Dep_Time is in date time format.\n",
    "- Arrival_Time is in date  time format.\n",
    "- Duration is in date  time format.\n",
    "- Total Stops"
   ]
  },
  {
   "cell_type": "code",
   "execution_count": 22,
   "metadata": {},
   "outputs": [],
   "source": [
    "##### First I'll extact date and months from columns and create seperate columns."
   ]
  },
  {
   "cell_type": "code",
   "execution_count": 23,
   "metadata": {},
   "outputs": [],
   "source": [
    "#Extracting date time from Date_ofJourney.\n",
    "\n",
    "\n",
    "df['JourneyDate']=pd.to_datetime(df.Date_of_Journey, format='%d/%m/%Y').dt.day\n"
   ]
  },
  {
   "cell_type": "code",
   "execution_count": 24,
   "metadata": {},
   "outputs": [],
   "source": [
    "df['JourneyMonth']=pd.to_datetime(df.Date_of_Journey, format='%d/%m/%Y').dt.month"
   ]
  },
  {
   "cell_type": "code",
   "execution_count": 25,
   "metadata": {},
   "outputs": [
    {
     "data": {
      "text/html": [
       "<div>\n",
       "<style scoped>\n",
       "    .dataframe tbody tr th:only-of-type {\n",
       "        vertical-align: middle;\n",
       "    }\n",
       "\n",
       "    .dataframe tbody tr th {\n",
       "        vertical-align: top;\n",
       "    }\n",
       "\n",
       "    .dataframe thead th {\n",
       "        text-align: right;\n",
       "    }\n",
       "</style>\n",
       "<table border=\"1\" class=\"dataframe\">\n",
       "  <thead>\n",
       "    <tr style=\"text-align: right;\">\n",
       "      <th></th>\n",
       "      <th>Airline</th>\n",
       "      <th>Date_of_Journey</th>\n",
       "      <th>Source</th>\n",
       "      <th>Destination</th>\n",
       "      <th>Route</th>\n",
       "      <th>Dep_Time</th>\n",
       "      <th>Arrival_Time</th>\n",
       "      <th>Duration</th>\n",
       "      <th>Total_Stops</th>\n",
       "      <th>Price</th>\n",
       "      <th>JourneyDate</th>\n",
       "      <th>JourneyMonth</th>\n",
       "    </tr>\n",
       "  </thead>\n",
       "  <tbody>\n",
       "    <tr>\n",
       "      <th>0</th>\n",
       "      <td>IndiGo</td>\n",
       "      <td>24/03/2019</td>\n",
       "      <td>Banglore</td>\n",
       "      <td>New Delhi</td>\n",
       "      <td>BLR → DEL</td>\n",
       "      <td>22:20</td>\n",
       "      <td>01:10 22 Mar</td>\n",
       "      <td>2h 50m</td>\n",
       "      <td>non-stop</td>\n",
       "      <td>3897</td>\n",
       "      <td>24</td>\n",
       "      <td>3</td>\n",
       "    </tr>\n",
       "    <tr>\n",
       "      <th>1</th>\n",
       "      <td>Air India</td>\n",
       "      <td>1/05/2019</td>\n",
       "      <td>Kolkata</td>\n",
       "      <td>Banglore</td>\n",
       "      <td>CCU → IXR → BBI → BLR</td>\n",
       "      <td>05:50</td>\n",
       "      <td>13:15</td>\n",
       "      <td>7h 25m</td>\n",
       "      <td>2 stops</td>\n",
       "      <td>7662</td>\n",
       "      <td>1</td>\n",
       "      <td>5</td>\n",
       "    </tr>\n",
       "    <tr>\n",
       "      <th>2</th>\n",
       "      <td>Jet Airways</td>\n",
       "      <td>9/06/2019</td>\n",
       "      <td>Delhi</td>\n",
       "      <td>Cochin</td>\n",
       "      <td>DEL → LKO → BOM → COK</td>\n",
       "      <td>09:25</td>\n",
       "      <td>04:25 10 Jun</td>\n",
       "      <td>19h</td>\n",
       "      <td>2 stops</td>\n",
       "      <td>13882</td>\n",
       "      <td>9</td>\n",
       "      <td>6</td>\n",
       "    </tr>\n",
       "    <tr>\n",
       "      <th>3</th>\n",
       "      <td>IndiGo</td>\n",
       "      <td>12/05/2019</td>\n",
       "      <td>Kolkata</td>\n",
       "      <td>Banglore</td>\n",
       "      <td>CCU → NAG → BLR</td>\n",
       "      <td>18:05</td>\n",
       "      <td>23:30</td>\n",
       "      <td>5h 25m</td>\n",
       "      <td>1 stop</td>\n",
       "      <td>6218</td>\n",
       "      <td>12</td>\n",
       "      <td>5</td>\n",
       "    </tr>\n",
       "    <tr>\n",
       "      <th>4</th>\n",
       "      <td>IndiGo</td>\n",
       "      <td>01/03/2019</td>\n",
       "      <td>Banglore</td>\n",
       "      <td>New Delhi</td>\n",
       "      <td>BLR → NAG → DEL</td>\n",
       "      <td>16:50</td>\n",
       "      <td>21:35</td>\n",
       "      <td>4h 45m</td>\n",
       "      <td>1 stop</td>\n",
       "      <td>13302</td>\n",
       "      <td>1</td>\n",
       "      <td>3</td>\n",
       "    </tr>\n",
       "  </tbody>\n",
       "</table>\n",
       "</div>"
      ],
      "text/plain": [
       "       Airline Date_of_Journey    Source Destination                  Route  \\\n",
       "0       IndiGo      24/03/2019  Banglore   New Delhi              BLR → DEL   \n",
       "1    Air India       1/05/2019   Kolkata    Banglore  CCU → IXR → BBI → BLR   \n",
       "2  Jet Airways       9/06/2019     Delhi      Cochin  DEL → LKO → BOM → COK   \n",
       "3       IndiGo      12/05/2019   Kolkata    Banglore        CCU → NAG → BLR   \n",
       "4       IndiGo      01/03/2019  Banglore   New Delhi        BLR → NAG → DEL   \n",
       "\n",
       "  Dep_Time  Arrival_Time Duration Total_Stops  Price  JourneyDate  \\\n",
       "0    22:20  01:10 22 Mar   2h 50m    non-stop   3897           24   \n",
       "1    05:50         13:15   7h 25m     2 stops   7662            1   \n",
       "2    09:25  04:25 10 Jun      19h     2 stops  13882            9   \n",
       "3    18:05         23:30   5h 25m      1 stop   6218           12   \n",
       "4    16:50         21:35   4h 45m      1 stop  13302            1   \n",
       "\n",
       "   JourneyMonth  \n",
       "0             3  \n",
       "1             5  \n",
       "2             6  \n",
       "3             5  \n",
       "4             3  "
      ]
     },
     "execution_count": 25,
     "metadata": {},
     "output_type": "execute_result"
    }
   ],
   "source": [
    "df.head()"
   ]
  },
  {
   "cell_type": "code",
   "execution_count": 26,
   "metadata": {},
   "outputs": [],
   "source": [
    "#dropping Date_of_Journey\n",
    "\n",
    "df.drop(columns=['Date_of_Journey'],inplace=True)"
   ]
  },
  {
   "cell_type": "code",
   "execution_count": 27,
   "metadata": {},
   "outputs": [
    {
     "data": {
      "text/html": [
       "<div>\n",
       "<style scoped>\n",
       "    .dataframe tbody tr th:only-of-type {\n",
       "        vertical-align: middle;\n",
       "    }\n",
       "\n",
       "    .dataframe tbody tr th {\n",
       "        vertical-align: top;\n",
       "    }\n",
       "\n",
       "    .dataframe thead th {\n",
       "        text-align: right;\n",
       "    }\n",
       "</style>\n",
       "<table border=\"1\" class=\"dataframe\">\n",
       "  <thead>\n",
       "    <tr style=\"text-align: right;\">\n",
       "      <th></th>\n",
       "      <th>Airline</th>\n",
       "      <th>Source</th>\n",
       "      <th>Destination</th>\n",
       "      <th>Route</th>\n",
       "      <th>Dep_Time</th>\n",
       "      <th>Arrival_Time</th>\n",
       "      <th>Duration</th>\n",
       "      <th>Total_Stops</th>\n",
       "      <th>Price</th>\n",
       "      <th>JourneyDate</th>\n",
       "      <th>JourneyMonth</th>\n",
       "    </tr>\n",
       "  </thead>\n",
       "  <tbody>\n",
       "    <tr>\n",
       "      <th>0</th>\n",
       "      <td>IndiGo</td>\n",
       "      <td>Banglore</td>\n",
       "      <td>New Delhi</td>\n",
       "      <td>BLR → DEL</td>\n",
       "      <td>22:20</td>\n",
       "      <td>01:10 22 Mar</td>\n",
       "      <td>2h 50m</td>\n",
       "      <td>non-stop</td>\n",
       "      <td>3897</td>\n",
       "      <td>24</td>\n",
       "      <td>3</td>\n",
       "    </tr>\n",
       "    <tr>\n",
       "      <th>1</th>\n",
       "      <td>Air India</td>\n",
       "      <td>Kolkata</td>\n",
       "      <td>Banglore</td>\n",
       "      <td>CCU → IXR → BBI → BLR</td>\n",
       "      <td>05:50</td>\n",
       "      <td>13:15</td>\n",
       "      <td>7h 25m</td>\n",
       "      <td>2 stops</td>\n",
       "      <td>7662</td>\n",
       "      <td>1</td>\n",
       "      <td>5</td>\n",
       "    </tr>\n",
       "    <tr>\n",
       "      <th>2</th>\n",
       "      <td>Jet Airways</td>\n",
       "      <td>Delhi</td>\n",
       "      <td>Cochin</td>\n",
       "      <td>DEL → LKO → BOM → COK</td>\n",
       "      <td>09:25</td>\n",
       "      <td>04:25 10 Jun</td>\n",
       "      <td>19h</td>\n",
       "      <td>2 stops</td>\n",
       "      <td>13882</td>\n",
       "      <td>9</td>\n",
       "      <td>6</td>\n",
       "    </tr>\n",
       "    <tr>\n",
       "      <th>3</th>\n",
       "      <td>IndiGo</td>\n",
       "      <td>Kolkata</td>\n",
       "      <td>Banglore</td>\n",
       "      <td>CCU → NAG → BLR</td>\n",
       "      <td>18:05</td>\n",
       "      <td>23:30</td>\n",
       "      <td>5h 25m</td>\n",
       "      <td>1 stop</td>\n",
       "      <td>6218</td>\n",
       "      <td>12</td>\n",
       "      <td>5</td>\n",
       "    </tr>\n",
       "    <tr>\n",
       "      <th>4</th>\n",
       "      <td>IndiGo</td>\n",
       "      <td>Banglore</td>\n",
       "      <td>New Delhi</td>\n",
       "      <td>BLR → NAG → DEL</td>\n",
       "      <td>16:50</td>\n",
       "      <td>21:35</td>\n",
       "      <td>4h 45m</td>\n",
       "      <td>1 stop</td>\n",
       "      <td>13302</td>\n",
       "      <td>1</td>\n",
       "      <td>3</td>\n",
       "    </tr>\n",
       "  </tbody>\n",
       "</table>\n",
       "</div>"
      ],
      "text/plain": [
       "       Airline    Source Destination                  Route Dep_Time  \\\n",
       "0       IndiGo  Banglore   New Delhi              BLR → DEL    22:20   \n",
       "1    Air India   Kolkata    Banglore  CCU → IXR → BBI → BLR    05:50   \n",
       "2  Jet Airways     Delhi      Cochin  DEL → LKO → BOM → COK    09:25   \n",
       "3       IndiGo   Kolkata    Banglore        CCU → NAG → BLR    18:05   \n",
       "4       IndiGo  Banglore   New Delhi        BLR → NAG → DEL    16:50   \n",
       "\n",
       "   Arrival_Time Duration Total_Stops  Price  JourneyDate  JourneyMonth  \n",
       "0  01:10 22 Mar   2h 50m    non-stop   3897           24             3  \n",
       "1         13:15   7h 25m     2 stops   7662            1             5  \n",
       "2  04:25 10 Jun      19h     2 stops  13882            9             6  \n",
       "3         23:30   5h 25m      1 stop   6218           12             5  \n",
       "4         21:35   4h 45m      1 stop  13302            1             3  "
      ]
     },
     "execution_count": 27,
     "metadata": {},
     "output_type": "execute_result"
    }
   ],
   "source": [
    "df.head()"
   ]
  },
  {
   "cell_type": "code",
   "execution_count": 28,
   "metadata": {},
   "outputs": [],
   "source": [
    "# Extracting Departure time \n",
    "\n",
    "\n",
    "df['Dep_hr']=pd.to_datetime(df['Dep_Time']).dt.hour"
   ]
  },
  {
   "cell_type": "code",
   "execution_count": 29,
   "metadata": {},
   "outputs": [],
   "source": [
    "df['Dep_min']=pd.to_datetime(df['Dep_Time']).dt.minute"
   ]
  },
  {
   "cell_type": "code",
   "execution_count": 30,
   "metadata": {},
   "outputs": [],
   "source": [
    "# Now dropping the Dep_Time\n",
    "df.drop(columns=['Dep_Time'],inplace=True)"
   ]
  },
  {
   "cell_type": "code",
   "execution_count": 31,
   "metadata": {},
   "outputs": [
    {
     "data": {
      "text/html": [
       "<div>\n",
       "<style scoped>\n",
       "    .dataframe tbody tr th:only-of-type {\n",
       "        vertical-align: middle;\n",
       "    }\n",
       "\n",
       "    .dataframe tbody tr th {\n",
       "        vertical-align: top;\n",
       "    }\n",
       "\n",
       "    .dataframe thead th {\n",
       "        text-align: right;\n",
       "    }\n",
       "</style>\n",
       "<table border=\"1\" class=\"dataframe\">\n",
       "  <thead>\n",
       "    <tr style=\"text-align: right;\">\n",
       "      <th></th>\n",
       "      <th>Airline</th>\n",
       "      <th>Source</th>\n",
       "      <th>Destination</th>\n",
       "      <th>Route</th>\n",
       "      <th>Arrival_Time</th>\n",
       "      <th>Duration</th>\n",
       "      <th>Total_Stops</th>\n",
       "      <th>Price</th>\n",
       "      <th>JourneyDate</th>\n",
       "      <th>JourneyMonth</th>\n",
       "      <th>Dep_hr</th>\n",
       "      <th>Dep_min</th>\n",
       "    </tr>\n",
       "  </thead>\n",
       "  <tbody>\n",
       "    <tr>\n",
       "      <th>0</th>\n",
       "      <td>IndiGo</td>\n",
       "      <td>Banglore</td>\n",
       "      <td>New Delhi</td>\n",
       "      <td>BLR → DEL</td>\n",
       "      <td>01:10 22 Mar</td>\n",
       "      <td>2h 50m</td>\n",
       "      <td>non-stop</td>\n",
       "      <td>3897</td>\n",
       "      <td>24</td>\n",
       "      <td>3</td>\n",
       "      <td>22</td>\n",
       "      <td>20</td>\n",
       "    </tr>\n",
       "    <tr>\n",
       "      <th>1</th>\n",
       "      <td>Air India</td>\n",
       "      <td>Kolkata</td>\n",
       "      <td>Banglore</td>\n",
       "      <td>CCU → IXR → BBI → BLR</td>\n",
       "      <td>13:15</td>\n",
       "      <td>7h 25m</td>\n",
       "      <td>2 stops</td>\n",
       "      <td>7662</td>\n",
       "      <td>1</td>\n",
       "      <td>5</td>\n",
       "      <td>5</td>\n",
       "      <td>50</td>\n",
       "    </tr>\n",
       "    <tr>\n",
       "      <th>2</th>\n",
       "      <td>Jet Airways</td>\n",
       "      <td>Delhi</td>\n",
       "      <td>Cochin</td>\n",
       "      <td>DEL → LKO → BOM → COK</td>\n",
       "      <td>04:25 10 Jun</td>\n",
       "      <td>19h</td>\n",
       "      <td>2 stops</td>\n",
       "      <td>13882</td>\n",
       "      <td>9</td>\n",
       "      <td>6</td>\n",
       "      <td>9</td>\n",
       "      <td>25</td>\n",
       "    </tr>\n",
       "    <tr>\n",
       "      <th>3</th>\n",
       "      <td>IndiGo</td>\n",
       "      <td>Kolkata</td>\n",
       "      <td>Banglore</td>\n",
       "      <td>CCU → NAG → BLR</td>\n",
       "      <td>23:30</td>\n",
       "      <td>5h 25m</td>\n",
       "      <td>1 stop</td>\n",
       "      <td>6218</td>\n",
       "      <td>12</td>\n",
       "      <td>5</td>\n",
       "      <td>18</td>\n",
       "      <td>5</td>\n",
       "    </tr>\n",
       "    <tr>\n",
       "      <th>4</th>\n",
       "      <td>IndiGo</td>\n",
       "      <td>Banglore</td>\n",
       "      <td>New Delhi</td>\n",
       "      <td>BLR → NAG → DEL</td>\n",
       "      <td>21:35</td>\n",
       "      <td>4h 45m</td>\n",
       "      <td>1 stop</td>\n",
       "      <td>13302</td>\n",
       "      <td>1</td>\n",
       "      <td>3</td>\n",
       "      <td>16</td>\n",
       "      <td>50</td>\n",
       "    </tr>\n",
       "  </tbody>\n",
       "</table>\n",
       "</div>"
      ],
      "text/plain": [
       "       Airline    Source Destination                  Route  Arrival_Time  \\\n",
       "0       IndiGo  Banglore   New Delhi              BLR → DEL  01:10 22 Mar   \n",
       "1    Air India   Kolkata    Banglore  CCU → IXR → BBI → BLR         13:15   \n",
       "2  Jet Airways     Delhi      Cochin  DEL → LKO → BOM → COK  04:25 10 Jun   \n",
       "3       IndiGo   Kolkata    Banglore        CCU → NAG → BLR         23:30   \n",
       "4       IndiGo  Banglore   New Delhi        BLR → NAG → DEL         21:35   \n",
       "\n",
       "  Duration Total_Stops  Price  JourneyDate  JourneyMonth  Dep_hr  Dep_min  \n",
       "0   2h 50m    non-stop   3897           24             3      22       20  \n",
       "1   7h 25m     2 stops   7662            1             5       5       50  \n",
       "2      19h     2 stops  13882            9             6       9       25  \n",
       "3   5h 25m      1 stop   6218           12             5      18        5  \n",
       "4   4h 45m      1 stop  13302            1             3      16       50  "
      ]
     },
     "execution_count": 31,
     "metadata": {},
     "output_type": "execute_result"
    }
   ],
   "source": [
    "df.head()"
   ]
  },
  {
   "cell_type": "code",
   "execution_count": 32,
   "metadata": {},
   "outputs": [],
   "source": [
    "#extracting Arrival time\n",
    "\n",
    "df['Arrival_hr']=pd.to_datetime(df.Arrival_Time).dt.hour\n",
    "\n",
    "df['Arrival_min']=pd.to_datetime(df.Arrival_Time).dt.minute\n",
    "\n",
    "df.drop(columns=['Arrival_Time'],inplace=True)"
   ]
  },
  {
   "cell_type": "code",
   "execution_count": 33,
   "metadata": {},
   "outputs": [
    {
     "data": {
      "text/html": [
       "<div>\n",
       "<style scoped>\n",
       "    .dataframe tbody tr th:only-of-type {\n",
       "        vertical-align: middle;\n",
       "    }\n",
       "\n",
       "    .dataframe tbody tr th {\n",
       "        vertical-align: top;\n",
       "    }\n",
       "\n",
       "    .dataframe thead th {\n",
       "        text-align: right;\n",
       "    }\n",
       "</style>\n",
       "<table border=\"1\" class=\"dataframe\">\n",
       "  <thead>\n",
       "    <tr style=\"text-align: right;\">\n",
       "      <th></th>\n",
       "      <th>Airline</th>\n",
       "      <th>Source</th>\n",
       "      <th>Destination</th>\n",
       "      <th>Route</th>\n",
       "      <th>Duration</th>\n",
       "      <th>Total_Stops</th>\n",
       "      <th>Price</th>\n",
       "      <th>JourneyDate</th>\n",
       "      <th>JourneyMonth</th>\n",
       "      <th>Dep_hr</th>\n",
       "      <th>Dep_min</th>\n",
       "      <th>Arrival_hr</th>\n",
       "      <th>Arrival_min</th>\n",
       "    </tr>\n",
       "  </thead>\n",
       "  <tbody>\n",
       "    <tr>\n",
       "      <th>0</th>\n",
       "      <td>IndiGo</td>\n",
       "      <td>Banglore</td>\n",
       "      <td>New Delhi</td>\n",
       "      <td>BLR → DEL</td>\n",
       "      <td>2h 50m</td>\n",
       "      <td>non-stop</td>\n",
       "      <td>3897</td>\n",
       "      <td>24</td>\n",
       "      <td>3</td>\n",
       "      <td>22</td>\n",
       "      <td>20</td>\n",
       "      <td>1</td>\n",
       "      <td>10</td>\n",
       "    </tr>\n",
       "    <tr>\n",
       "      <th>1</th>\n",
       "      <td>Air India</td>\n",
       "      <td>Kolkata</td>\n",
       "      <td>Banglore</td>\n",
       "      <td>CCU → IXR → BBI → BLR</td>\n",
       "      <td>7h 25m</td>\n",
       "      <td>2 stops</td>\n",
       "      <td>7662</td>\n",
       "      <td>1</td>\n",
       "      <td>5</td>\n",
       "      <td>5</td>\n",
       "      <td>50</td>\n",
       "      <td>13</td>\n",
       "      <td>15</td>\n",
       "    </tr>\n",
       "    <tr>\n",
       "      <th>2</th>\n",
       "      <td>Jet Airways</td>\n",
       "      <td>Delhi</td>\n",
       "      <td>Cochin</td>\n",
       "      <td>DEL → LKO → BOM → COK</td>\n",
       "      <td>19h</td>\n",
       "      <td>2 stops</td>\n",
       "      <td>13882</td>\n",
       "      <td>9</td>\n",
       "      <td>6</td>\n",
       "      <td>9</td>\n",
       "      <td>25</td>\n",
       "      <td>4</td>\n",
       "      <td>25</td>\n",
       "    </tr>\n",
       "    <tr>\n",
       "      <th>3</th>\n",
       "      <td>IndiGo</td>\n",
       "      <td>Kolkata</td>\n",
       "      <td>Banglore</td>\n",
       "      <td>CCU → NAG → BLR</td>\n",
       "      <td>5h 25m</td>\n",
       "      <td>1 stop</td>\n",
       "      <td>6218</td>\n",
       "      <td>12</td>\n",
       "      <td>5</td>\n",
       "      <td>18</td>\n",
       "      <td>5</td>\n",
       "      <td>23</td>\n",
       "      <td>30</td>\n",
       "    </tr>\n",
       "    <tr>\n",
       "      <th>4</th>\n",
       "      <td>IndiGo</td>\n",
       "      <td>Banglore</td>\n",
       "      <td>New Delhi</td>\n",
       "      <td>BLR → NAG → DEL</td>\n",
       "      <td>4h 45m</td>\n",
       "      <td>1 stop</td>\n",
       "      <td>13302</td>\n",
       "      <td>1</td>\n",
       "      <td>3</td>\n",
       "      <td>16</td>\n",
       "      <td>50</td>\n",
       "      <td>21</td>\n",
       "      <td>35</td>\n",
       "    </tr>\n",
       "  </tbody>\n",
       "</table>\n",
       "</div>"
      ],
      "text/plain": [
       "       Airline    Source Destination                  Route Duration  \\\n",
       "0       IndiGo  Banglore   New Delhi              BLR → DEL   2h 50m   \n",
       "1    Air India   Kolkata    Banglore  CCU → IXR → BBI → BLR   7h 25m   \n",
       "2  Jet Airways     Delhi      Cochin  DEL → LKO → BOM → COK      19h   \n",
       "3       IndiGo   Kolkata    Banglore        CCU → NAG → BLR   5h 25m   \n",
       "4       IndiGo  Banglore   New Delhi        BLR → NAG → DEL   4h 45m   \n",
       "\n",
       "  Total_Stops  Price  JourneyDate  JourneyMonth  Dep_hr  Dep_min  Arrival_hr  \\\n",
       "0    non-stop   3897           24             3      22       20           1   \n",
       "1     2 stops   7662            1             5       5       50          13   \n",
       "2     2 stops  13882            9             6       9       25           4   \n",
       "3      1 stop   6218           12             5      18        5          23   \n",
       "4      1 stop  13302            1             3      16       50          21   \n",
       "\n",
       "   Arrival_min  \n",
       "0           10  \n",
       "1           15  \n",
       "2           25  \n",
       "3           30  \n",
       "4           35  "
      ]
     },
     "execution_count": 33,
     "metadata": {},
     "output_type": "execute_result"
    }
   ],
   "source": [
    "df.head()"
   ]
  },
  {
   "cell_type": "markdown",
   "metadata": {},
   "source": [
    "###### Extracting duraion..\n",
    "\n",
    "So in duration column\n",
    "- I'm going to split the data in betwwn hr and mins\n",
    "- check null values in new columns..\n",
    "- clean it further..\n",
    "- then convert hrs in mins by multi by 60\n",
    "- then adding converted mins to mins..\n",
    "- then adding new data in main data frame.."
   ]
  },
  {
   "cell_type": "markdown",
   "metadata": {},
   "source": [
    "I'm using split function to extract betwwn H and min..\n"
   ]
  },
  {
   "cell_type": "code",
   "execution_count": 36,
   "metadata": {},
   "outputs": [
    {
     "data": {
      "text/plain": [
       "0        [2,  50m]\n",
       "1        [7,  25m]\n",
       "2           [19, ]\n",
       "3        [5,  25m]\n",
       "4        [4,  45m]\n",
       "           ...    \n",
       "10678    [2,  30m]\n",
       "10679    [2,  35m]\n",
       "10680        [3, ]\n",
       "10681    [2,  40m]\n",
       "10682    [8,  20m]\n",
       "Name: Duration, Length: 10682, dtype: object"
      ]
     },
     "execution_count": 36,
     "metadata": {},
     "output_type": "execute_result"
    }
   ],
   "source": [
    "\n",
    "df['Duration'].str.split('h')"
   ]
  },
  {
   "cell_type": "code",
   "execution_count": 37,
   "metadata": {},
   "outputs": [],
   "source": [
    "d=df['Duration'].str.split('h',expand=True)"
   ]
  },
  {
   "cell_type": "code",
   "execution_count": 38,
   "metadata": {},
   "outputs": [
    {
     "data": {
      "text/html": [
       "<div>\n",
       "<style scoped>\n",
       "    .dataframe tbody tr th:only-of-type {\n",
       "        vertical-align: middle;\n",
       "    }\n",
       "\n",
       "    .dataframe tbody tr th {\n",
       "        vertical-align: top;\n",
       "    }\n",
       "\n",
       "    .dataframe thead th {\n",
       "        text-align: right;\n",
       "    }\n",
       "</style>\n",
       "<table border=\"1\" class=\"dataframe\">\n",
       "  <thead>\n",
       "    <tr style=\"text-align: right;\">\n",
       "      <th></th>\n",
       "      <th>0</th>\n",
       "      <th>1</th>\n",
       "    </tr>\n",
       "  </thead>\n",
       "  <tbody>\n",
       "    <tr>\n",
       "      <th>0</th>\n",
       "      <td>2</td>\n",
       "      <td>50m</td>\n",
       "    </tr>\n",
       "    <tr>\n",
       "      <th>1</th>\n",
       "      <td>7</td>\n",
       "      <td>25m</td>\n",
       "    </tr>\n",
       "    <tr>\n",
       "      <th>2</th>\n",
       "      <td>19</td>\n",
       "      <td></td>\n",
       "    </tr>\n",
       "    <tr>\n",
       "      <th>3</th>\n",
       "      <td>5</td>\n",
       "      <td>25m</td>\n",
       "    </tr>\n",
       "    <tr>\n",
       "      <th>4</th>\n",
       "      <td>4</td>\n",
       "      <td>45m</td>\n",
       "    </tr>\n",
       "    <tr>\n",
       "      <th>...</th>\n",
       "      <td>...</td>\n",
       "      <td>...</td>\n",
       "    </tr>\n",
       "    <tr>\n",
       "      <th>10678</th>\n",
       "      <td>2</td>\n",
       "      <td>30m</td>\n",
       "    </tr>\n",
       "    <tr>\n",
       "      <th>10679</th>\n",
       "      <td>2</td>\n",
       "      <td>35m</td>\n",
       "    </tr>\n",
       "    <tr>\n",
       "      <th>10680</th>\n",
       "      <td>3</td>\n",
       "      <td></td>\n",
       "    </tr>\n",
       "    <tr>\n",
       "      <th>10681</th>\n",
       "      <td>2</td>\n",
       "      <td>40m</td>\n",
       "    </tr>\n",
       "    <tr>\n",
       "      <th>10682</th>\n",
       "      <td>8</td>\n",
       "      <td>20m</td>\n",
       "    </tr>\n",
       "  </tbody>\n",
       "</table>\n",
       "<p>10682 rows × 2 columns</p>\n",
       "</div>"
      ],
      "text/plain": [
       "        0     1\n",
       "0       2   50m\n",
       "1       7   25m\n",
       "2      19      \n",
       "3       5   25m\n",
       "4       4   45m\n",
       "...    ..   ...\n",
       "10678   2   30m\n",
       "10679   2   35m\n",
       "10680   3      \n",
       "10681   2   40m\n",
       "10682   8   20m\n",
       "\n",
       "[10682 rows x 2 columns]"
      ]
     },
     "execution_count": 38,
     "metadata": {},
     "output_type": "execute_result"
    }
   ],
   "source": [
    "d"
   ]
  },
  {
   "cell_type": "code",
   "execution_count": 39,
   "metadata": {},
   "outputs": [
    {
     "data": {
      "text/plain": [
       "0    0\n",
       "1    1\n",
       "dtype: int64"
      ]
     },
     "execution_count": 39,
     "metadata": {},
     "output_type": "execute_result"
    }
   ],
   "source": [
    "d.isnull().sum()"
   ]
  },
  {
   "cell_type": "code",
   "execution_count": 40,
   "metadata": {},
   "outputs": [],
   "source": [
    " d[1] = d[1].fillna(0)"
   ]
  },
  {
   "cell_type": "code",
   "execution_count": 41,
   "metadata": {},
   "outputs": [],
   "source": [
    "d.rename(columns={0:'Duration_Hrs',1:'Duration_mins'},inplace=True)"
   ]
  },
  {
   "cell_type": "code",
   "execution_count": 42,
   "metadata": {},
   "outputs": [
    {
     "data": {
      "text/html": [
       "<div>\n",
       "<style scoped>\n",
       "    .dataframe tbody tr th:only-of-type {\n",
       "        vertical-align: middle;\n",
       "    }\n",
       "\n",
       "    .dataframe tbody tr th {\n",
       "        vertical-align: top;\n",
       "    }\n",
       "\n",
       "    .dataframe thead th {\n",
       "        text-align: right;\n",
       "    }\n",
       "</style>\n",
       "<table border=\"1\" class=\"dataframe\">\n",
       "  <thead>\n",
       "    <tr style=\"text-align: right;\">\n",
       "      <th></th>\n",
       "      <th>Duration_Hrs</th>\n",
       "      <th>Duration_mins</th>\n",
       "    </tr>\n",
       "  </thead>\n",
       "  <tbody>\n",
       "    <tr>\n",
       "      <th>0</th>\n",
       "      <td>2</td>\n",
       "      <td>50m</td>\n",
       "    </tr>\n",
       "    <tr>\n",
       "      <th>1</th>\n",
       "      <td>7</td>\n",
       "      <td>25m</td>\n",
       "    </tr>\n",
       "    <tr>\n",
       "      <th>2</th>\n",
       "      <td>19</td>\n",
       "      <td></td>\n",
       "    </tr>\n",
       "    <tr>\n",
       "      <th>3</th>\n",
       "      <td>5</td>\n",
       "      <td>25m</td>\n",
       "    </tr>\n",
       "    <tr>\n",
       "      <th>4</th>\n",
       "      <td>4</td>\n",
       "      <td>45m</td>\n",
       "    </tr>\n",
       "    <tr>\n",
       "      <th>...</th>\n",
       "      <td>...</td>\n",
       "      <td>...</td>\n",
       "    </tr>\n",
       "    <tr>\n",
       "      <th>10678</th>\n",
       "      <td>2</td>\n",
       "      <td>30m</td>\n",
       "    </tr>\n",
       "    <tr>\n",
       "      <th>10679</th>\n",
       "      <td>2</td>\n",
       "      <td>35m</td>\n",
       "    </tr>\n",
       "    <tr>\n",
       "      <th>10680</th>\n",
       "      <td>3</td>\n",
       "      <td></td>\n",
       "    </tr>\n",
       "    <tr>\n",
       "      <th>10681</th>\n",
       "      <td>2</td>\n",
       "      <td>40m</td>\n",
       "    </tr>\n",
       "    <tr>\n",
       "      <th>10682</th>\n",
       "      <td>8</td>\n",
       "      <td>20m</td>\n",
       "    </tr>\n",
       "  </tbody>\n",
       "</table>\n",
       "<p>10682 rows × 2 columns</p>\n",
       "</div>"
      ],
      "text/plain": [
       "      Duration_Hrs Duration_mins\n",
       "0                2           50m\n",
       "1                7           25m\n",
       "2               19              \n",
       "3                5           25m\n",
       "4                4           45m\n",
       "...            ...           ...\n",
       "10678            2           30m\n",
       "10679            2           35m\n",
       "10680            3              \n",
       "10681            2           40m\n",
       "10682            8           20m\n",
       "\n",
       "[10682 rows x 2 columns]"
      ]
     },
     "execution_count": 42,
     "metadata": {},
     "output_type": "execute_result"
    }
   ],
   "source": [
    "d"
   ]
  },
  {
   "cell_type": "code",
   "execution_count": 43,
   "metadata": {},
   "outputs": [
    {
     "data": {
      "text/plain": [
       "array([' 50m', ' 25m', '', ' 45m', ' 30m', ' 5m', ' 15m', ' 35m', ' 10m',\n",
       "       ' 20m', ' 55m', ' 40m', 0], dtype=object)"
      ]
     },
     "execution_count": 43,
     "metadata": {},
     "output_type": "execute_result"
    }
   ],
   "source": [
    "d['Duration_mins'].unique()"
   ]
  },
  {
   "cell_type": "code",
   "execution_count": 44,
   "metadata": {},
   "outputs": [],
   "source": [
    "d['Duration_mins']=d.Duration_mins.str.replace(' None','0')"
   ]
  },
  {
   "cell_type": "code",
   "execution_count": 45,
   "metadata": {},
   "outputs": [],
   "source": [
    "v=d['Duration_mins'].str.split(' ',expand=True)"
   ]
  },
  {
   "cell_type": "code",
   "execution_count": 46,
   "metadata": {},
   "outputs": [
    {
     "data": {
      "text/html": [
       "<div>\n",
       "<style scoped>\n",
       "    .dataframe tbody tr th:only-of-type {\n",
       "        vertical-align: middle;\n",
       "    }\n",
       "\n",
       "    .dataframe tbody tr th {\n",
       "        vertical-align: top;\n",
       "    }\n",
       "\n",
       "    .dataframe thead th {\n",
       "        text-align: right;\n",
       "    }\n",
       "</style>\n",
       "<table border=\"1\" class=\"dataframe\">\n",
       "  <thead>\n",
       "    <tr style=\"text-align: right;\">\n",
       "      <th></th>\n",
       "      <th>0</th>\n",
       "      <th>1</th>\n",
       "    </tr>\n",
       "  </thead>\n",
       "  <tbody>\n",
       "    <tr>\n",
       "      <th>0</th>\n",
       "      <td></td>\n",
       "      <td>50m</td>\n",
       "    </tr>\n",
       "    <tr>\n",
       "      <th>1</th>\n",
       "      <td></td>\n",
       "      <td>25m</td>\n",
       "    </tr>\n",
       "    <tr>\n",
       "      <th>2</th>\n",
       "      <td></td>\n",
       "      <td>None</td>\n",
       "    </tr>\n",
       "    <tr>\n",
       "      <th>3</th>\n",
       "      <td></td>\n",
       "      <td>25m</td>\n",
       "    </tr>\n",
       "    <tr>\n",
       "      <th>4</th>\n",
       "      <td></td>\n",
       "      <td>45m</td>\n",
       "    </tr>\n",
       "    <tr>\n",
       "      <th>...</th>\n",
       "      <td>...</td>\n",
       "      <td>...</td>\n",
       "    </tr>\n",
       "    <tr>\n",
       "      <th>10678</th>\n",
       "      <td></td>\n",
       "      <td>30m</td>\n",
       "    </tr>\n",
       "    <tr>\n",
       "      <th>10679</th>\n",
       "      <td></td>\n",
       "      <td>35m</td>\n",
       "    </tr>\n",
       "    <tr>\n",
       "      <th>10680</th>\n",
       "      <td></td>\n",
       "      <td>None</td>\n",
       "    </tr>\n",
       "    <tr>\n",
       "      <th>10681</th>\n",
       "      <td></td>\n",
       "      <td>40m</td>\n",
       "    </tr>\n",
       "    <tr>\n",
       "      <th>10682</th>\n",
       "      <td></td>\n",
       "      <td>20m</td>\n",
       "    </tr>\n",
       "  </tbody>\n",
       "</table>\n",
       "<p>10682 rows × 2 columns</p>\n",
       "</div>"
      ],
      "text/plain": [
       "      0      1\n",
       "0          50m\n",
       "1          25m\n",
       "2         None\n",
       "3          25m\n",
       "4          45m\n",
       "...   ..   ...\n",
       "10678      30m\n",
       "10679      35m\n",
       "10680     None\n",
       "10681      40m\n",
       "10682      20m\n",
       "\n",
       "[10682 rows x 2 columns]"
      ]
     },
     "execution_count": 46,
     "metadata": {},
     "output_type": "execute_result"
    }
   ],
   "source": [
    "v"
   ]
  },
  {
   "cell_type": "code",
   "execution_count": 47,
   "metadata": {},
   "outputs": [],
   "source": [
    "# further splitting coluns to extract just the numbers..."
   ]
  },
  {
   "cell_type": "code",
   "execution_count": 48,
   "metadata": {},
   "outputs": [],
   "source": [
    "a=v[1].str.split('m',expand =True)"
   ]
  },
  {
   "cell_type": "code",
   "execution_count": 49,
   "metadata": {},
   "outputs": [
    {
     "data": {
      "text/html": [
       "<div>\n",
       "<style scoped>\n",
       "    .dataframe tbody tr th:only-of-type {\n",
       "        vertical-align: middle;\n",
       "    }\n",
       "\n",
       "    .dataframe tbody tr th {\n",
       "        vertical-align: top;\n",
       "    }\n",
       "\n",
       "    .dataframe thead th {\n",
       "        text-align: right;\n",
       "    }\n",
       "</style>\n",
       "<table border=\"1\" class=\"dataframe\">\n",
       "  <thead>\n",
       "    <tr style=\"text-align: right;\">\n",
       "      <th></th>\n",
       "      <th>0</th>\n",
       "      <th>1</th>\n",
       "    </tr>\n",
       "  </thead>\n",
       "  <tbody>\n",
       "    <tr>\n",
       "      <th>0</th>\n",
       "      <td>50</td>\n",
       "      <td></td>\n",
       "    </tr>\n",
       "    <tr>\n",
       "      <th>1</th>\n",
       "      <td>25</td>\n",
       "      <td></td>\n",
       "    </tr>\n",
       "    <tr>\n",
       "      <th>2</th>\n",
       "      <td>None</td>\n",
       "      <td>None</td>\n",
       "    </tr>\n",
       "    <tr>\n",
       "      <th>3</th>\n",
       "      <td>25</td>\n",
       "      <td></td>\n",
       "    </tr>\n",
       "    <tr>\n",
       "      <th>4</th>\n",
       "      <td>45</td>\n",
       "      <td></td>\n",
       "    </tr>\n",
       "    <tr>\n",
       "      <th>...</th>\n",
       "      <td>...</td>\n",
       "      <td>...</td>\n",
       "    </tr>\n",
       "    <tr>\n",
       "      <th>10678</th>\n",
       "      <td>30</td>\n",
       "      <td></td>\n",
       "    </tr>\n",
       "    <tr>\n",
       "      <th>10679</th>\n",
       "      <td>35</td>\n",
       "      <td></td>\n",
       "    </tr>\n",
       "    <tr>\n",
       "      <th>10680</th>\n",
       "      <td>None</td>\n",
       "      <td>None</td>\n",
       "    </tr>\n",
       "    <tr>\n",
       "      <th>10681</th>\n",
       "      <td>40</td>\n",
       "      <td></td>\n",
       "    </tr>\n",
       "    <tr>\n",
       "      <th>10682</th>\n",
       "      <td>20</td>\n",
       "      <td></td>\n",
       "    </tr>\n",
       "  </tbody>\n",
       "</table>\n",
       "<p>10682 rows × 2 columns</p>\n",
       "</div>"
      ],
      "text/plain": [
       "          0     1\n",
       "0        50      \n",
       "1        25      \n",
       "2      None  None\n",
       "3        25      \n",
       "4        45      \n",
       "...     ...   ...\n",
       "10678    30      \n",
       "10679    35      \n",
       "10680  None  None\n",
       "10681    40      \n",
       "10682    20      \n",
       "\n",
       "[10682 rows x 2 columns]"
      ]
     },
     "execution_count": 49,
     "metadata": {},
     "output_type": "execute_result"
    }
   ],
   "source": [
    "a"
   ]
  },
  {
   "cell_type": "code",
   "execution_count": 50,
   "metadata": {},
   "outputs": [],
   "source": [
    "a.rename(columns={0:'min'}, inplace= True)"
   ]
  },
  {
   "cell_type": "code",
   "execution_count": 51,
   "metadata": {},
   "outputs": [
    {
     "data": {
      "text/plain": [
       "array(['50', '25', None, '45', '30', '5', '15', '35', '10', '20', '55',\n",
       "       '40', nan], dtype=object)"
      ]
     },
     "execution_count": 51,
     "metadata": {},
     "output_type": "execute_result"
    }
   ],
   "source": [
    "a['min'].unique()"
   ]
  },
  {
   "cell_type": "code",
   "execution_count": 52,
   "metadata": {},
   "outputs": [],
   "source": [
    "a['min']=a['min'].fillna(0)"
   ]
  },
  {
   "cell_type": "code",
   "execution_count": 53,
   "metadata": {},
   "outputs": [
    {
     "data": {
      "text/plain": [
       "array(['50', '25', 0, '45', '30', '5', '15', '35', '10', '20', '55', '40'],\n",
       "      dtype=object)"
      ]
     },
     "execution_count": 53,
     "metadata": {},
     "output_type": "execute_result"
    }
   ],
   "source": [
    "a['min'].unique()"
   ]
  },
  {
   "cell_type": "code",
   "execution_count": 54,
   "metadata": {},
   "outputs": [],
   "source": [
    "a['min']=a['min'].astype(str).astype(int)"
   ]
  },
  {
   "cell_type": "code",
   "execution_count": 55,
   "metadata": {},
   "outputs": [
    {
     "data": {
      "text/plain": [
       "min     int32\n",
       "1      object\n",
       "dtype: object"
      ]
     },
     "execution_count": 55,
     "metadata": {},
     "output_type": "execute_result"
    }
   ],
   "source": [
    "a.dtypes"
   ]
  },
  {
   "cell_type": "code",
   "execution_count": 56,
   "metadata": {},
   "outputs": [],
   "source": [
    "#concatnating two dataframes.....\n",
    "\n",
    "\n",
    "\n",
    "dur=pd.concat([a,d],axis=1)"
   ]
  },
  {
   "cell_type": "code",
   "execution_count": 57,
   "metadata": {},
   "outputs": [
    {
     "data": {
      "text/html": [
       "<div>\n",
       "<style scoped>\n",
       "    .dataframe tbody tr th:only-of-type {\n",
       "        vertical-align: middle;\n",
       "    }\n",
       "\n",
       "    .dataframe tbody tr th {\n",
       "        vertical-align: top;\n",
       "    }\n",
       "\n",
       "    .dataframe thead th {\n",
       "        text-align: right;\n",
       "    }\n",
       "</style>\n",
       "<table border=\"1\" class=\"dataframe\">\n",
       "  <thead>\n",
       "    <tr style=\"text-align: right;\">\n",
       "      <th></th>\n",
       "      <th>min</th>\n",
       "      <th>1</th>\n",
       "      <th>Duration_Hrs</th>\n",
       "      <th>Duration_mins</th>\n",
       "    </tr>\n",
       "  </thead>\n",
       "  <tbody>\n",
       "    <tr>\n",
       "      <th>0</th>\n",
       "      <td>50</td>\n",
       "      <td></td>\n",
       "      <td>2</td>\n",
       "      <td>50m</td>\n",
       "    </tr>\n",
       "    <tr>\n",
       "      <th>1</th>\n",
       "      <td>25</td>\n",
       "      <td></td>\n",
       "      <td>7</td>\n",
       "      <td>25m</td>\n",
       "    </tr>\n",
       "    <tr>\n",
       "      <th>2</th>\n",
       "      <td>0</td>\n",
       "      <td>None</td>\n",
       "      <td>19</td>\n",
       "      <td></td>\n",
       "    </tr>\n",
       "    <tr>\n",
       "      <th>3</th>\n",
       "      <td>25</td>\n",
       "      <td></td>\n",
       "      <td>5</td>\n",
       "      <td>25m</td>\n",
       "    </tr>\n",
       "    <tr>\n",
       "      <th>4</th>\n",
       "      <td>45</td>\n",
       "      <td></td>\n",
       "      <td>4</td>\n",
       "      <td>45m</td>\n",
       "    </tr>\n",
       "    <tr>\n",
       "      <th>...</th>\n",
       "      <td>...</td>\n",
       "      <td>...</td>\n",
       "      <td>...</td>\n",
       "      <td>...</td>\n",
       "    </tr>\n",
       "    <tr>\n",
       "      <th>10678</th>\n",
       "      <td>30</td>\n",
       "      <td></td>\n",
       "      <td>2</td>\n",
       "      <td>30m</td>\n",
       "    </tr>\n",
       "    <tr>\n",
       "      <th>10679</th>\n",
       "      <td>35</td>\n",
       "      <td></td>\n",
       "      <td>2</td>\n",
       "      <td>35m</td>\n",
       "    </tr>\n",
       "    <tr>\n",
       "      <th>10680</th>\n",
       "      <td>0</td>\n",
       "      <td>None</td>\n",
       "      <td>3</td>\n",
       "      <td></td>\n",
       "    </tr>\n",
       "    <tr>\n",
       "      <th>10681</th>\n",
       "      <td>40</td>\n",
       "      <td></td>\n",
       "      <td>2</td>\n",
       "      <td>40m</td>\n",
       "    </tr>\n",
       "    <tr>\n",
       "      <th>10682</th>\n",
       "      <td>20</td>\n",
       "      <td></td>\n",
       "      <td>8</td>\n",
       "      <td>20m</td>\n",
       "    </tr>\n",
       "  </tbody>\n",
       "</table>\n",
       "<p>10682 rows × 4 columns</p>\n",
       "</div>"
      ],
      "text/plain": [
       "       min     1 Duration_Hrs Duration_mins\n",
       "0       50                  2           50m\n",
       "1       25                  7           25m\n",
       "2        0  None           19              \n",
       "3       25                  5           25m\n",
       "4       45                  4           45m\n",
       "...    ...   ...          ...           ...\n",
       "10678   30                  2           30m\n",
       "10679   35                  2           35m\n",
       "10680    0  None            3              \n",
       "10681   40                  2           40m\n",
       "10682   20                  8           20m\n",
       "\n",
       "[10682 rows x 4 columns]"
      ]
     },
     "execution_count": 57,
     "metadata": {},
     "output_type": "execute_result"
    }
   ],
   "source": [
    "dur"
   ]
  },
  {
   "cell_type": "code",
   "execution_count": 58,
   "metadata": {},
   "outputs": [],
   "source": [
    "# DROPPING COLUMNS\n",
    "\n",
    "dur.drop(columns=[1,'Duration_mins'],inplace=True)"
   ]
  },
  {
   "cell_type": "code",
   "execution_count": 59,
   "metadata": {},
   "outputs": [
    {
     "data": {
      "text/html": [
       "<div>\n",
       "<style scoped>\n",
       "    .dataframe tbody tr th:only-of-type {\n",
       "        vertical-align: middle;\n",
       "    }\n",
       "\n",
       "    .dataframe tbody tr th {\n",
       "        vertical-align: top;\n",
       "    }\n",
       "\n",
       "    .dataframe thead th {\n",
       "        text-align: right;\n",
       "    }\n",
       "</style>\n",
       "<table border=\"1\" class=\"dataframe\">\n",
       "  <thead>\n",
       "    <tr style=\"text-align: right;\">\n",
       "      <th></th>\n",
       "      <th>min</th>\n",
       "      <th>Duration_Hrs</th>\n",
       "    </tr>\n",
       "  </thead>\n",
       "  <tbody>\n",
       "    <tr>\n",
       "      <th>0</th>\n",
       "      <td>50</td>\n",
       "      <td>2</td>\n",
       "    </tr>\n",
       "    <tr>\n",
       "      <th>1</th>\n",
       "      <td>25</td>\n",
       "      <td>7</td>\n",
       "    </tr>\n",
       "    <tr>\n",
       "      <th>2</th>\n",
       "      <td>0</td>\n",
       "      <td>19</td>\n",
       "    </tr>\n",
       "    <tr>\n",
       "      <th>3</th>\n",
       "      <td>25</td>\n",
       "      <td>5</td>\n",
       "    </tr>\n",
       "    <tr>\n",
       "      <th>4</th>\n",
       "      <td>45</td>\n",
       "      <td>4</td>\n",
       "    </tr>\n",
       "    <tr>\n",
       "      <th>...</th>\n",
       "      <td>...</td>\n",
       "      <td>...</td>\n",
       "    </tr>\n",
       "    <tr>\n",
       "      <th>10678</th>\n",
       "      <td>30</td>\n",
       "      <td>2</td>\n",
       "    </tr>\n",
       "    <tr>\n",
       "      <th>10679</th>\n",
       "      <td>35</td>\n",
       "      <td>2</td>\n",
       "    </tr>\n",
       "    <tr>\n",
       "      <th>10680</th>\n",
       "      <td>0</td>\n",
       "      <td>3</td>\n",
       "    </tr>\n",
       "    <tr>\n",
       "      <th>10681</th>\n",
       "      <td>40</td>\n",
       "      <td>2</td>\n",
       "    </tr>\n",
       "    <tr>\n",
       "      <th>10682</th>\n",
       "      <td>20</td>\n",
       "      <td>8</td>\n",
       "    </tr>\n",
       "  </tbody>\n",
       "</table>\n",
       "<p>10682 rows × 2 columns</p>\n",
       "</div>"
      ],
      "text/plain": [
       "       min Duration_Hrs\n",
       "0       50            2\n",
       "1       25            7\n",
       "2        0           19\n",
       "3       25            5\n",
       "4       45            4\n",
       "...    ...          ...\n",
       "10678   30            2\n",
       "10679   35            2\n",
       "10680    0            3\n",
       "10681   40            2\n",
       "10682   20            8\n",
       "\n",
       "[10682 rows x 2 columns]"
      ]
     },
     "execution_count": 59,
     "metadata": {},
     "output_type": "execute_result"
    }
   ],
   "source": [
    "dur"
   ]
  },
  {
   "cell_type": "code",
   "execution_count": 60,
   "metadata": {},
   "outputs": [
    {
     "data": {
      "text/plain": [
       "array(['2', '7', '19', '5', '4', '15', '21', '25', '13', '12', '26', '22',\n",
       "       '23', '20', '10', '6', '11', '8', '16', '3', '27', '1', '14', '9',\n",
       "       '18', '17', '24', '30', '28', '29', '37', '34', '38', '35', '36',\n",
       "       '47', '33', '32', '31', '42', '39', '5m', '41', '40'], dtype=object)"
      ]
     },
     "execution_count": 60,
     "metadata": {},
     "output_type": "execute_result"
    }
   ],
   "source": [
    "dur['Duration_Hrs'].unique()"
   ]
  },
  {
   "cell_type": "code",
   "execution_count": 61,
   "metadata": {},
   "outputs": [],
   "source": [
    "dur['Duration_Hrs']=dur.Duration_Hrs.str.replace('5m','0')"
   ]
  },
  {
   "cell_type": "code",
   "execution_count": 62,
   "metadata": {},
   "outputs": [],
   "source": [
    "dur['Duration_Hrs']=dur['Duration_Hrs'].astype(str).astype(int)"
   ]
  },
  {
   "cell_type": "code",
   "execution_count": 63,
   "metadata": {},
   "outputs": [],
   "source": [
    "#coverting hrs to mins...\n",
    "\n",
    "dur['Duration_Hrs']=dur['Duration_Hrs']*60"
   ]
  },
  {
   "cell_type": "code",
   "execution_count": 64,
   "metadata": {},
   "outputs": [
    {
     "data": {
      "text/plain": [
       "0         120\n",
       "1         420\n",
       "2        1140\n",
       "3         300\n",
       "4         240\n",
       "         ... \n",
       "10678     120\n",
       "10679     120\n",
       "10680     180\n",
       "10681     120\n",
       "10682     480\n",
       "Name: Duration_Hrs, Length: 10682, dtype: int32"
      ]
     },
     "execution_count": 64,
     "metadata": {},
     "output_type": "execute_result"
    }
   ],
   "source": [
    "dur['Duration_Hrs']"
   ]
  },
  {
   "cell_type": "code",
   "execution_count": 65,
   "metadata": {},
   "outputs": [],
   "source": [
    "#adding Converted hr and mins....\n",
    "\n",
    "\n",
    "\n",
    "dur['Total_Duration(mins)']=dur.sum(axis=1)"
   ]
  },
  {
   "cell_type": "code",
   "execution_count": 66,
   "metadata": {},
   "outputs": [
    {
     "data": {
      "text/html": [
       "<div>\n",
       "<style scoped>\n",
       "    .dataframe tbody tr th:only-of-type {\n",
       "        vertical-align: middle;\n",
       "    }\n",
       "\n",
       "    .dataframe tbody tr th {\n",
       "        vertical-align: top;\n",
       "    }\n",
       "\n",
       "    .dataframe thead th {\n",
       "        text-align: right;\n",
       "    }\n",
       "</style>\n",
       "<table border=\"1\" class=\"dataframe\">\n",
       "  <thead>\n",
       "    <tr style=\"text-align: right;\">\n",
       "      <th></th>\n",
       "      <th>min</th>\n",
       "      <th>Duration_Hrs</th>\n",
       "      <th>Total_Duration(mins)</th>\n",
       "    </tr>\n",
       "  </thead>\n",
       "  <tbody>\n",
       "    <tr>\n",
       "      <th>0</th>\n",
       "      <td>50</td>\n",
       "      <td>120</td>\n",
       "      <td>170</td>\n",
       "    </tr>\n",
       "    <tr>\n",
       "      <th>1</th>\n",
       "      <td>25</td>\n",
       "      <td>420</td>\n",
       "      <td>445</td>\n",
       "    </tr>\n",
       "    <tr>\n",
       "      <th>2</th>\n",
       "      <td>0</td>\n",
       "      <td>1140</td>\n",
       "      <td>1140</td>\n",
       "    </tr>\n",
       "    <tr>\n",
       "      <th>3</th>\n",
       "      <td>25</td>\n",
       "      <td>300</td>\n",
       "      <td>325</td>\n",
       "    </tr>\n",
       "    <tr>\n",
       "      <th>4</th>\n",
       "      <td>45</td>\n",
       "      <td>240</td>\n",
       "      <td>285</td>\n",
       "    </tr>\n",
       "    <tr>\n",
       "      <th>...</th>\n",
       "      <td>...</td>\n",
       "      <td>...</td>\n",
       "      <td>...</td>\n",
       "    </tr>\n",
       "    <tr>\n",
       "      <th>10678</th>\n",
       "      <td>30</td>\n",
       "      <td>120</td>\n",
       "      <td>150</td>\n",
       "    </tr>\n",
       "    <tr>\n",
       "      <th>10679</th>\n",
       "      <td>35</td>\n",
       "      <td>120</td>\n",
       "      <td>155</td>\n",
       "    </tr>\n",
       "    <tr>\n",
       "      <th>10680</th>\n",
       "      <td>0</td>\n",
       "      <td>180</td>\n",
       "      <td>180</td>\n",
       "    </tr>\n",
       "    <tr>\n",
       "      <th>10681</th>\n",
       "      <td>40</td>\n",
       "      <td>120</td>\n",
       "      <td>160</td>\n",
       "    </tr>\n",
       "    <tr>\n",
       "      <th>10682</th>\n",
       "      <td>20</td>\n",
       "      <td>480</td>\n",
       "      <td>500</td>\n",
       "    </tr>\n",
       "  </tbody>\n",
       "</table>\n",
       "<p>10682 rows × 3 columns</p>\n",
       "</div>"
      ],
      "text/plain": [
       "       min  Duration_Hrs  Total_Duration(mins)\n",
       "0       50           120                   170\n",
       "1       25           420                   445\n",
       "2        0          1140                  1140\n",
       "3       25           300                   325\n",
       "4       45           240                   285\n",
       "...    ...           ...                   ...\n",
       "10678   30           120                   150\n",
       "10679   35           120                   155\n",
       "10680    0           180                   180\n",
       "10681   40           120                   160\n",
       "10682   20           480                   500\n",
       "\n",
       "[10682 rows x 3 columns]"
      ]
     },
     "execution_count": 66,
     "metadata": {},
     "output_type": "execute_result"
    }
   ],
   "source": [
    "dur"
   ]
  },
  {
   "cell_type": "code",
   "execution_count": 67,
   "metadata": {},
   "outputs": [],
   "source": [
    "# now i'll be dropping min and hrs column \n",
    "\n",
    "\n",
    "dur.drop(columns=['min','Duration_Hrs'],inplace=True)"
   ]
  },
  {
   "cell_type": "code",
   "execution_count": 68,
   "metadata": {},
   "outputs": [
    {
     "data": {
      "text/html": [
       "<div>\n",
       "<style scoped>\n",
       "    .dataframe tbody tr th:only-of-type {\n",
       "        vertical-align: middle;\n",
       "    }\n",
       "\n",
       "    .dataframe tbody tr th {\n",
       "        vertical-align: top;\n",
       "    }\n",
       "\n",
       "    .dataframe thead th {\n",
       "        text-align: right;\n",
       "    }\n",
       "</style>\n",
       "<table border=\"1\" class=\"dataframe\">\n",
       "  <thead>\n",
       "    <tr style=\"text-align: right;\">\n",
       "      <th></th>\n",
       "      <th>Total_Duration(mins)</th>\n",
       "    </tr>\n",
       "  </thead>\n",
       "  <tbody>\n",
       "    <tr>\n",
       "      <th>0</th>\n",
       "      <td>170</td>\n",
       "    </tr>\n",
       "    <tr>\n",
       "      <th>1</th>\n",
       "      <td>445</td>\n",
       "    </tr>\n",
       "    <tr>\n",
       "      <th>2</th>\n",
       "      <td>1140</td>\n",
       "    </tr>\n",
       "    <tr>\n",
       "      <th>3</th>\n",
       "      <td>325</td>\n",
       "    </tr>\n",
       "    <tr>\n",
       "      <th>4</th>\n",
       "      <td>285</td>\n",
       "    </tr>\n",
       "    <tr>\n",
       "      <th>...</th>\n",
       "      <td>...</td>\n",
       "    </tr>\n",
       "    <tr>\n",
       "      <th>10678</th>\n",
       "      <td>150</td>\n",
       "    </tr>\n",
       "    <tr>\n",
       "      <th>10679</th>\n",
       "      <td>155</td>\n",
       "    </tr>\n",
       "    <tr>\n",
       "      <th>10680</th>\n",
       "      <td>180</td>\n",
       "    </tr>\n",
       "    <tr>\n",
       "      <th>10681</th>\n",
       "      <td>160</td>\n",
       "    </tr>\n",
       "    <tr>\n",
       "      <th>10682</th>\n",
       "      <td>500</td>\n",
       "    </tr>\n",
       "  </tbody>\n",
       "</table>\n",
       "<p>10682 rows × 1 columns</p>\n",
       "</div>"
      ],
      "text/plain": [
       "       Total_Duration(mins)\n",
       "0                       170\n",
       "1                       445\n",
       "2                      1140\n",
       "3                       325\n",
       "4                       285\n",
       "...                     ...\n",
       "10678                   150\n",
       "10679                   155\n",
       "10680                   180\n",
       "10681                   160\n",
       "10682                   500\n",
       "\n",
       "[10682 rows x 1 columns]"
      ]
     },
     "execution_count": 68,
     "metadata": {},
     "output_type": "execute_result"
    }
   ],
   "source": [
    "dur"
   ]
  },
  {
   "cell_type": "code",
   "execution_count": 69,
   "metadata": {},
   "outputs": [],
   "source": [
    "#concatnating two dataframes.\n",
    "\n",
    "df=pd.concat([df,dur],axis=1)"
   ]
  },
  {
   "cell_type": "code",
   "execution_count": 70,
   "metadata": {},
   "outputs": [],
   "source": [
    "# dropping duration column from dataframe\n",
    "\n",
    "\n",
    "df.drop(columns=['Duration'],inplace=True)"
   ]
  },
  {
   "cell_type": "code",
   "execution_count": 71,
   "metadata": {},
   "outputs": [
    {
     "data": {
      "text/html": [
       "<div>\n",
       "<style scoped>\n",
       "    .dataframe tbody tr th:only-of-type {\n",
       "        vertical-align: middle;\n",
       "    }\n",
       "\n",
       "    .dataframe tbody tr th {\n",
       "        vertical-align: top;\n",
       "    }\n",
       "\n",
       "    .dataframe thead th {\n",
       "        text-align: right;\n",
       "    }\n",
       "</style>\n",
       "<table border=\"1\" class=\"dataframe\">\n",
       "  <thead>\n",
       "    <tr style=\"text-align: right;\">\n",
       "      <th></th>\n",
       "      <th>Airline</th>\n",
       "      <th>Source</th>\n",
       "      <th>Destination</th>\n",
       "      <th>Route</th>\n",
       "      <th>Total_Stops</th>\n",
       "      <th>Price</th>\n",
       "      <th>JourneyDate</th>\n",
       "      <th>JourneyMonth</th>\n",
       "      <th>Dep_hr</th>\n",
       "      <th>Dep_min</th>\n",
       "      <th>Arrival_hr</th>\n",
       "      <th>Arrival_min</th>\n",
       "      <th>Total_Duration(mins)</th>\n",
       "    </tr>\n",
       "  </thead>\n",
       "  <tbody>\n",
       "    <tr>\n",
       "      <th>0</th>\n",
       "      <td>IndiGo</td>\n",
       "      <td>Banglore</td>\n",
       "      <td>New Delhi</td>\n",
       "      <td>BLR → DEL</td>\n",
       "      <td>non-stop</td>\n",
       "      <td>3897</td>\n",
       "      <td>24</td>\n",
       "      <td>3</td>\n",
       "      <td>22</td>\n",
       "      <td>20</td>\n",
       "      <td>1</td>\n",
       "      <td>10</td>\n",
       "      <td>170</td>\n",
       "    </tr>\n",
       "    <tr>\n",
       "      <th>1</th>\n",
       "      <td>Air India</td>\n",
       "      <td>Kolkata</td>\n",
       "      <td>Banglore</td>\n",
       "      <td>CCU → IXR → BBI → BLR</td>\n",
       "      <td>2 stops</td>\n",
       "      <td>7662</td>\n",
       "      <td>1</td>\n",
       "      <td>5</td>\n",
       "      <td>5</td>\n",
       "      <td>50</td>\n",
       "      <td>13</td>\n",
       "      <td>15</td>\n",
       "      <td>445</td>\n",
       "    </tr>\n",
       "    <tr>\n",
       "      <th>2</th>\n",
       "      <td>Jet Airways</td>\n",
       "      <td>Delhi</td>\n",
       "      <td>Cochin</td>\n",
       "      <td>DEL → LKO → BOM → COK</td>\n",
       "      <td>2 stops</td>\n",
       "      <td>13882</td>\n",
       "      <td>9</td>\n",
       "      <td>6</td>\n",
       "      <td>9</td>\n",
       "      <td>25</td>\n",
       "      <td>4</td>\n",
       "      <td>25</td>\n",
       "      <td>1140</td>\n",
       "    </tr>\n",
       "    <tr>\n",
       "      <th>3</th>\n",
       "      <td>IndiGo</td>\n",
       "      <td>Kolkata</td>\n",
       "      <td>Banglore</td>\n",
       "      <td>CCU → NAG → BLR</td>\n",
       "      <td>1 stop</td>\n",
       "      <td>6218</td>\n",
       "      <td>12</td>\n",
       "      <td>5</td>\n",
       "      <td>18</td>\n",
       "      <td>5</td>\n",
       "      <td>23</td>\n",
       "      <td>30</td>\n",
       "      <td>325</td>\n",
       "    </tr>\n",
       "    <tr>\n",
       "      <th>4</th>\n",
       "      <td>IndiGo</td>\n",
       "      <td>Banglore</td>\n",
       "      <td>New Delhi</td>\n",
       "      <td>BLR → NAG → DEL</td>\n",
       "      <td>1 stop</td>\n",
       "      <td>13302</td>\n",
       "      <td>1</td>\n",
       "      <td>3</td>\n",
       "      <td>16</td>\n",
       "      <td>50</td>\n",
       "      <td>21</td>\n",
       "      <td>35</td>\n",
       "      <td>285</td>\n",
       "    </tr>\n",
       "  </tbody>\n",
       "</table>\n",
       "</div>"
      ],
      "text/plain": [
       "       Airline    Source Destination                  Route Total_Stops  \\\n",
       "0       IndiGo  Banglore   New Delhi              BLR → DEL    non-stop   \n",
       "1    Air India   Kolkata    Banglore  CCU → IXR → BBI → BLR     2 stops   \n",
       "2  Jet Airways     Delhi      Cochin  DEL → LKO → BOM → COK     2 stops   \n",
       "3       IndiGo   Kolkata    Banglore        CCU → NAG → BLR      1 stop   \n",
       "4       IndiGo  Banglore   New Delhi        BLR → NAG → DEL      1 stop   \n",
       "\n",
       "   Price  JourneyDate  JourneyMonth  Dep_hr  Dep_min  Arrival_hr  Arrival_min  \\\n",
       "0   3897           24             3      22       20           1           10   \n",
       "1   7662            1             5       5       50          13           15   \n",
       "2  13882            9             6       9       25           4           25   \n",
       "3   6218           12             5      18        5          23           30   \n",
       "4  13302            1             3      16       50          21           35   \n",
       "\n",
       "   Total_Duration(mins)  \n",
       "0                   170  \n",
       "1                   445  \n",
       "2                  1140  \n",
       "3                   325  \n",
       "4                   285  "
      ]
     },
     "execution_count": 71,
     "metadata": {},
     "output_type": "execute_result"
    }
   ],
   "source": [
    "df.head()"
   ]
  },
  {
   "cell_type": "code",
   "execution_count": 72,
   "metadata": {},
   "outputs": [],
   "source": [
    "###### Route and stops are working in the same manner..\n",
    "\n",
    "# Number of stops are equal to Routs\n",
    "\n",
    "#so dropping route column\n",
    "\n",
    "df.drop(columns=['Route'],inplace=True)"
   ]
  },
  {
   "cell_type": "code",
   "execution_count": 73,
   "metadata": {},
   "outputs": [
    {
     "data": {
      "text/html": [
       "<div>\n",
       "<style scoped>\n",
       "    .dataframe tbody tr th:only-of-type {\n",
       "        vertical-align: middle;\n",
       "    }\n",
       "\n",
       "    .dataframe tbody tr th {\n",
       "        vertical-align: top;\n",
       "    }\n",
       "\n",
       "    .dataframe thead th {\n",
       "        text-align: right;\n",
       "    }\n",
       "</style>\n",
       "<table border=\"1\" class=\"dataframe\">\n",
       "  <thead>\n",
       "    <tr style=\"text-align: right;\">\n",
       "      <th></th>\n",
       "      <th>Airline</th>\n",
       "      <th>Source</th>\n",
       "      <th>Destination</th>\n",
       "      <th>Total_Stops</th>\n",
       "      <th>Price</th>\n",
       "      <th>JourneyDate</th>\n",
       "      <th>JourneyMonth</th>\n",
       "      <th>Dep_hr</th>\n",
       "      <th>Dep_min</th>\n",
       "      <th>Arrival_hr</th>\n",
       "      <th>Arrival_min</th>\n",
       "      <th>Total_Duration(mins)</th>\n",
       "    </tr>\n",
       "  </thead>\n",
       "  <tbody>\n",
       "    <tr>\n",
       "      <th>0</th>\n",
       "      <td>IndiGo</td>\n",
       "      <td>Banglore</td>\n",
       "      <td>New Delhi</td>\n",
       "      <td>non-stop</td>\n",
       "      <td>3897</td>\n",
       "      <td>24</td>\n",
       "      <td>3</td>\n",
       "      <td>22</td>\n",
       "      <td>20</td>\n",
       "      <td>1</td>\n",
       "      <td>10</td>\n",
       "      <td>170</td>\n",
       "    </tr>\n",
       "    <tr>\n",
       "      <th>1</th>\n",
       "      <td>Air India</td>\n",
       "      <td>Kolkata</td>\n",
       "      <td>Banglore</td>\n",
       "      <td>2 stops</td>\n",
       "      <td>7662</td>\n",
       "      <td>1</td>\n",
       "      <td>5</td>\n",
       "      <td>5</td>\n",
       "      <td>50</td>\n",
       "      <td>13</td>\n",
       "      <td>15</td>\n",
       "      <td>445</td>\n",
       "    </tr>\n",
       "    <tr>\n",
       "      <th>2</th>\n",
       "      <td>Jet Airways</td>\n",
       "      <td>Delhi</td>\n",
       "      <td>Cochin</td>\n",
       "      <td>2 stops</td>\n",
       "      <td>13882</td>\n",
       "      <td>9</td>\n",
       "      <td>6</td>\n",
       "      <td>9</td>\n",
       "      <td>25</td>\n",
       "      <td>4</td>\n",
       "      <td>25</td>\n",
       "      <td>1140</td>\n",
       "    </tr>\n",
       "    <tr>\n",
       "      <th>3</th>\n",
       "      <td>IndiGo</td>\n",
       "      <td>Kolkata</td>\n",
       "      <td>Banglore</td>\n",
       "      <td>1 stop</td>\n",
       "      <td>6218</td>\n",
       "      <td>12</td>\n",
       "      <td>5</td>\n",
       "      <td>18</td>\n",
       "      <td>5</td>\n",
       "      <td>23</td>\n",
       "      <td>30</td>\n",
       "      <td>325</td>\n",
       "    </tr>\n",
       "    <tr>\n",
       "      <th>4</th>\n",
       "      <td>IndiGo</td>\n",
       "      <td>Banglore</td>\n",
       "      <td>New Delhi</td>\n",
       "      <td>1 stop</td>\n",
       "      <td>13302</td>\n",
       "      <td>1</td>\n",
       "      <td>3</td>\n",
       "      <td>16</td>\n",
       "      <td>50</td>\n",
       "      <td>21</td>\n",
       "      <td>35</td>\n",
       "      <td>285</td>\n",
       "    </tr>\n",
       "    <tr>\n",
       "      <th>...</th>\n",
       "      <td>...</td>\n",
       "      <td>...</td>\n",
       "      <td>...</td>\n",
       "      <td>...</td>\n",
       "      <td>...</td>\n",
       "      <td>...</td>\n",
       "      <td>...</td>\n",
       "      <td>...</td>\n",
       "      <td>...</td>\n",
       "      <td>...</td>\n",
       "      <td>...</td>\n",
       "      <td>...</td>\n",
       "    </tr>\n",
       "    <tr>\n",
       "      <th>10678</th>\n",
       "      <td>Air Asia</td>\n",
       "      <td>Kolkata</td>\n",
       "      <td>Banglore</td>\n",
       "      <td>non-stop</td>\n",
       "      <td>4107</td>\n",
       "      <td>9</td>\n",
       "      <td>4</td>\n",
       "      <td>19</td>\n",
       "      <td>55</td>\n",
       "      <td>22</td>\n",
       "      <td>25</td>\n",
       "      <td>150</td>\n",
       "    </tr>\n",
       "    <tr>\n",
       "      <th>10679</th>\n",
       "      <td>Air India</td>\n",
       "      <td>Kolkata</td>\n",
       "      <td>Banglore</td>\n",
       "      <td>non-stop</td>\n",
       "      <td>4145</td>\n",
       "      <td>27</td>\n",
       "      <td>4</td>\n",
       "      <td>20</td>\n",
       "      <td>45</td>\n",
       "      <td>23</td>\n",
       "      <td>20</td>\n",
       "      <td>155</td>\n",
       "    </tr>\n",
       "    <tr>\n",
       "      <th>10680</th>\n",
       "      <td>Jet Airways</td>\n",
       "      <td>Banglore</td>\n",
       "      <td>Delhi</td>\n",
       "      <td>non-stop</td>\n",
       "      <td>7229</td>\n",
       "      <td>27</td>\n",
       "      <td>4</td>\n",
       "      <td>8</td>\n",
       "      <td>20</td>\n",
       "      <td>11</td>\n",
       "      <td>20</td>\n",
       "      <td>180</td>\n",
       "    </tr>\n",
       "    <tr>\n",
       "      <th>10681</th>\n",
       "      <td>Vistara</td>\n",
       "      <td>Banglore</td>\n",
       "      <td>New Delhi</td>\n",
       "      <td>non-stop</td>\n",
       "      <td>12648</td>\n",
       "      <td>1</td>\n",
       "      <td>3</td>\n",
       "      <td>11</td>\n",
       "      <td>30</td>\n",
       "      <td>14</td>\n",
       "      <td>10</td>\n",
       "      <td>160</td>\n",
       "    </tr>\n",
       "    <tr>\n",
       "      <th>10682</th>\n",
       "      <td>Air India</td>\n",
       "      <td>Delhi</td>\n",
       "      <td>Cochin</td>\n",
       "      <td>2 stops</td>\n",
       "      <td>11753</td>\n",
       "      <td>9</td>\n",
       "      <td>5</td>\n",
       "      <td>10</td>\n",
       "      <td>55</td>\n",
       "      <td>19</td>\n",
       "      <td>15</td>\n",
       "      <td>500</td>\n",
       "    </tr>\n",
       "  </tbody>\n",
       "</table>\n",
       "<p>10682 rows × 12 columns</p>\n",
       "</div>"
      ],
      "text/plain": [
       "           Airline    Source Destination Total_Stops  Price  JourneyDate  \\\n",
       "0           IndiGo  Banglore   New Delhi    non-stop   3897           24   \n",
       "1        Air India   Kolkata    Banglore     2 stops   7662            1   \n",
       "2      Jet Airways     Delhi      Cochin     2 stops  13882            9   \n",
       "3           IndiGo   Kolkata    Banglore      1 stop   6218           12   \n",
       "4           IndiGo  Banglore   New Delhi      1 stop  13302            1   \n",
       "...            ...       ...         ...         ...    ...          ...   \n",
       "10678     Air Asia   Kolkata    Banglore    non-stop   4107            9   \n",
       "10679    Air India   Kolkata    Banglore    non-stop   4145           27   \n",
       "10680  Jet Airways  Banglore       Delhi    non-stop   7229           27   \n",
       "10681      Vistara  Banglore   New Delhi    non-stop  12648            1   \n",
       "10682    Air India     Delhi      Cochin     2 stops  11753            9   \n",
       "\n",
       "       JourneyMonth  Dep_hr  Dep_min  Arrival_hr  Arrival_min  \\\n",
       "0                 3      22       20           1           10   \n",
       "1                 5       5       50          13           15   \n",
       "2                 6       9       25           4           25   \n",
       "3                 5      18        5          23           30   \n",
       "4                 3      16       50          21           35   \n",
       "...             ...     ...      ...         ...          ...   \n",
       "10678             4      19       55          22           25   \n",
       "10679             4      20       45          23           20   \n",
       "10680             4       8       20          11           20   \n",
       "10681             3      11       30          14           10   \n",
       "10682             5      10       55          19           15   \n",
       "\n",
       "       Total_Duration(mins)  \n",
       "0                       170  \n",
       "1                       445  \n",
       "2                      1140  \n",
       "3                       325  \n",
       "4                       285  \n",
       "...                     ...  \n",
       "10678                   150  \n",
       "10679                   155  \n",
       "10680                   180  \n",
       "10681                   160  \n",
       "10682                   500  \n",
       "\n",
       "[10682 rows x 12 columns]"
      ]
     },
     "execution_count": 73,
     "metadata": {},
     "output_type": "execute_result"
    }
   ],
   "source": [
    "df"
   ]
  },
  {
   "cell_type": "code",
   "execution_count": 74,
   "metadata": {},
   "outputs": [],
   "source": [
    "# EDA"
   ]
  },
  {
   "cell_type": "code",
   "execution_count": 75,
   "metadata": {},
   "outputs": [],
   "source": [
    "### Univariate Analysis."
   ]
  },
  {
   "cell_type": "code",
   "execution_count": 76,
   "metadata": {},
   "outputs": [
    {
     "name": "stdout",
     "output_type": "stream",
     "text": [
      "Jet Airways                          3849\n",
      "IndiGo                               2053\n",
      "Air India                            1751\n",
      "Multiple carriers                    1196\n",
      "SpiceJet                              818\n",
      "Vistara                               479\n",
      "Air Asia                              319\n",
      "GoAir                                 194\n",
      "Multiple carriers Premium economy      13\n",
      "Jet Airways Business                    6\n",
      "Vistara Premium economy                 3\n",
      "Trujet                                  1\n",
      "Name: Airline, dtype: int64\n"
     ]
    },
    {
     "data": {
      "image/png": "[encoded data removed]",
      "text/plain": [
       "<Figure size 1080x720 with 1 Axes>"
      ]
     },
     "metadata": {
      "needs_background": "light"
     },
     "output_type": "display_data"
    }
   ],
   "source": [
    "# Airline\n",
    "\n",
    "print(df[\"Airline\"].value_counts())\n",
    "\n",
    "plt.figure(figsize=(15,10))\n",
    "sns.countplot(df['Airline'])\n",
    "plt.xticks(rotation=90)\n",
    "plt.show()"
   ]
  },
  {
   "cell_type": "markdown",
   "metadata": {},
   "source": [
    "- Jet Airways is the most used flight\n",
    "- Trujet is the least.\n",
    "- While Indigo is the second most choice of passengers.\n"
   ]
  },
  {
   "cell_type": "code",
   "execution_count": 78,
   "metadata": {},
   "outputs": [
    {
     "name": "stdout",
     "output_type": "stream",
     "text": [
      "Delhi       4536\n",
      "Kolkata     2871\n",
      "Banglore    2197\n",
      "Mumbai       697\n",
      "Chennai      381\n",
      "Name: Source, dtype: int64\n"
     ]
    },
    {
     "data": {
      "image/png": "[encoded data removed]",
      "text/plain": [
       "<Figure size 432x288 with 1 Axes>"
      ]
     },
     "metadata": {
      "needs_background": "light"
     },
     "output_type": "display_data"
    }
   ],
   "source": [
    "# Source\n",
    "\n",
    "print(df[\"Source\"].value_counts())\n",
    "\n",
    "ax=sns.countplot(df['Source'])\n",
    "plt.xticks(rotation=90)\n",
    "plt.show()"
   ]
  },
  {
   "cell_type": "markdown",
   "metadata": {},
   "source": [
    "- Mostly flights are departing from delhi\n",
    "- then comes kolkata\n",
    "- Chennai has the least deparing flights."
   ]
  },
  {
   "cell_type": "code",
   "execution_count": 80,
   "metadata": {},
   "outputs": [
    {
     "name": "stdout",
     "output_type": "stream",
     "text": [
      "Cochin       4536\n",
      "Banglore     2871\n",
      "Delhi        1265\n",
      "New Delhi     932\n",
      "Hyderabad     697\n",
      "Kolkata       381\n",
      "Name: Destination, dtype: int64\n"
     ]
    },
    {
     "data": {
      "image/png": "[encoded data removed]",
      "text/plain": [
       "<Figure size 432x288 with 1 Axes>"
      ]
     },
     "metadata": {
      "needs_background": "light"
     },
     "output_type": "display_data"
    }
   ],
   "source": [
    "# Destination\n",
    "\n",
    "print(df[\"Destination\"].value_counts())\n",
    "\n",
    "ax=sns.countplot(df['Destination'])\n",
    "plt.xticks(rotation=90)\n",
    "plt.show()"
   ]
  },
  {
   "cell_type": "markdown",
   "metadata": {},
   "source": [
    "- Mostly the destination is cochin\n",
    "- Bangalore being the second highest destination point."
   ]
  },
  {
   "cell_type": "code",
   "execution_count": 81,
   "metadata": {},
   "outputs": [
    {
     "name": "stdout",
     "output_type": "stream",
     "text": [
      "1 stop      5625\n",
      "non-stop    3491\n",
      "2 stops     1520\n",
      "3 stops       45\n",
      "4 stops        1\n",
      "Name: Total_Stops, dtype: int64\n"
     ]
    },
    {
     "data": {
      "image/png": "[encoded data removed]",
      "text/plain": [
       "<Figure size 432x288 with 1 Axes>"
      ]
     },
     "metadata": {
      "needs_background": "light"
     },
     "output_type": "display_data"
    }
   ],
   "source": [
    "# Total_Stops\n",
    "\n",
    "print(df[\"Total_Stops\"].value_counts())\n",
    "\n",
    "ax=sns.countplot(df['Total_Stops'])\n",
    "plt.xticks(rotation=90)\n",
    "plt.show()"
   ]
  },
  {
   "cell_type": "markdown",
   "metadata": {},
   "source": [
    "- 5625 fights have atleast 1 stop \n",
    "- Non-Stop  flights have second preference\n",
    "- There is only 1 flight that has 4 stops."
   ]
  },
  {
   "cell_type": "code",
   "execution_count": 83,
   "metadata": {},
   "outputs": [
    {
     "name": "stdout",
     "output_type": "stream",
     "text": [
      "9     1406\n",
      "6     1287\n",
      "27    1130\n",
      "21    1111\n",
      "1     1075\n",
      "24    1052\n",
      "15     984\n",
      "12     957\n",
      "3      848\n",
      "18     832\n",
      "Name: JourneyDate, dtype: int64\n"
     ]
    },
    {
     "data": {
      "image/png": "[encoded data removed]",
      "text/plain": [
       "<Figure size 432x288 with 1 Axes>"
      ]
     },
     "metadata": {
      "needs_background": "light"
     },
     "output_type": "display_data"
    }
   ],
   "source": [
    "# JourneyDate\n",
    "\n",
    "print(df[\"JourneyDate\"].value_counts())\n",
    "\n",
    "ax=sns.countplot(df['JourneyDate'])\n",
    "plt.xticks(rotation=90)\n",
    "plt.show()"
   ]
  },
  {
   "cell_type": "markdown",
   "metadata": {},
   "source": [
    "- Most prefered date is 9th.\n",
    "- Least prefered date is 18th"
   ]
  },
  {
   "cell_type": "code",
   "execution_count": 85,
   "metadata": {},
   "outputs": [
    {
     "name": "stdout",
     "output_type": "stream",
     "text": [
      "5    3465\n",
      "6    3414\n",
      "3    2724\n",
      "4    1079\n",
      "Name: JourneyMonth, dtype: int64\n"
     ]
    },
    {
     "data": {
      "image/png": "[encoded data removed]",
      "text/plain": [
       "<Figure size 432x288 with 1 Axes>"
      ]
     },
     "metadata": {
      "needs_background": "light"
     },
     "output_type": "display_data"
    }
   ],
   "source": [
    "# JourneyMonth\n",
    "\n",
    "\n",
    "print(df[\"JourneyMonth\"].value_counts())\n",
    "\n",
    "ax=sns.countplot(df['JourneyMonth'])\n",
    "plt.xticks(rotation=90)\n",
    "plt.show()"
   ]
  },
  {
   "cell_type": "markdown",
   "metadata": {},
   "source": [
    "- May  and June is the most travelled months,\n",
    "- while April being the least."
   ]
  },
  {
   "cell_type": "code",
   "execution_count": 86,
   "metadata": {},
   "outputs": [
    {
     "name": "stdout",
     "output_type": "stream",
     "text": [
      "9     915\n",
      "7     867\n",
      "8     697\n",
      "17    695\n",
      "6     687\n",
      "20    651\n",
      "5     629\n",
      "11    580\n",
      "19    567\n",
      "10    536\n",
      "14    523\n",
      "21    492\n",
      "16    472\n",
      "18    444\n",
      "13    417\n",
      "22    387\n",
      "15    319\n",
      "2     194\n",
      "12    178\n",
      "4     170\n",
      "23    161\n",
      "0      40\n",
      "1      37\n",
      "3      24\n",
      "Name: Dep_hr, dtype: int64\n"
     ]
    },
    {
     "data": {
      "image/png": "[encoded data removed]",
      "text/plain": [
       "<Figure size 432x288 with 1 Axes>"
      ]
     },
     "metadata": {
      "needs_background": "light"
     },
     "output_type": "display_data"
    }
   ],
   "source": [
    "# Dep_hr\n",
    "\n",
    "print(df[\"Dep_hr\"].value_counts())\n",
    "\n",
    "ax=sns.countplot(df['Dep_hr'])\n",
    "plt.xticks(rotation=90)\n",
    "plt.show()"
   ]
  },
  {
   "cell_type": "markdown",
   "metadata": {},
   "source": [
    "- Most (915) fights are taking off at 9AM.\n",
    "- Only 24 flights are taking off at 3AM, making it the least dep time.\n"
   ]
  },
  {
   "cell_type": "code",
   "execution_count": 87,
   "metadata": {},
   "outputs": [
    {
     "name": "stdout",
     "output_type": "stream",
     "text": [
      "19    1626\n",
      "12     897\n",
      "4      838\n",
      "21     703\n",
      "22     647\n",
      "1      529\n",
      "18     514\n",
      "9      489\n",
      "23     485\n",
      "10     476\n",
      "8      471\n",
      "7      417\n",
      "20     377\n",
      "16     370\n",
      "0      322\n",
      "13     308\n",
      "11     298\n",
      "14     295\n",
      "17     191\n",
      "15     182\n",
      "2       79\n",
      "5       69\n",
      "6       52\n",
      "3       47\n",
      "Name: Arrival_hr, dtype: int64\n"
     ]
    },
    {
     "data": {
      "image/png": "[encoded data removed]",
      "text/plain": [
       "<Figure size 432x288 with 1 Axes>"
      ]
     },
     "metadata": {
      "needs_background": "light"
     },
     "output_type": "display_data"
    }
   ],
   "source": [
    "# Arrival_hr\n",
    "\n",
    "\n",
    "print(df[\"Arrival_hr\"].value_counts())\n",
    "\n",
    "ax=sns.countplot(df['Arrival_hr'])\n",
    "plt.xticks(rotation=90)\n",
    "plt.show()"
   ]
  },
  {
   "cell_type": "markdown",
   "metadata": {},
   "source": [
    "- Mostly flights are Arriving (landing) at 1900 hrs i.e (7)\n",
    "- There are only 3 flights that are landing at 3AM."
   ]
  },
  {
   "cell_type": "code",
   "execution_count": 88,
   "metadata": {},
   "outputs": [
    {
     "name": "stdout",
     "output_type": "stream",
     "text": [
      "170     550\n",
      "90      386\n",
      "175     337\n",
      "165     337\n",
      "155     329\n",
      "       ... \n",
      "250       1\n",
      "2025      1\n",
      "1825      1\n",
      "2480      1\n",
      "0         1\n",
      "Name: Total_Duration(mins), Length: 368, dtype: int64\n"
     ]
    },
    {
     "data": {
      "image/png": "[encoded data removed]",
      "text/plain": [
       "<Figure size 432x288 with 1 Axes>"
      ]
     },
     "metadata": {
      "needs_background": "light"
     },
     "output_type": "display_data"
    }
   ],
   "source": [
    "# Duration\n",
    "\n",
    "print(df[\"Total_Duration(mins)\"].value_counts())\n",
    "\n",
    "ax=sns.boxplot(df['Total_Duration(mins)'])\n",
    "plt.xticks(rotation=90)\n",
    "plt.show()"
   ]
  },
  {
   "cell_type": "markdown",
   "metadata": {},
   "source": [
    "- Majorly the flights are flying for 500 mins.\n",
    "- There are very few flights who flew for more than 2000 mins."
   ]
  },
  {
   "cell_type": "code",
   "execution_count": 89,
   "metadata": {},
   "outputs": [],
   "source": [
    "### BiVariate and Multi-Variate Analysis"
   ]
  },
  {
   "cell_type": "code",
   "execution_count": 90,
   "metadata": {},
   "outputs": [
    {
     "data": {
      "image/png": "[encoded data removed]",
      "text/plain": [
       "<Figure size 1080x720 with 1 Axes>"
      ]
     },
     "metadata": {
      "needs_background": "light"
     },
     "output_type": "display_data"
    }
   ],
   "source": [
    "plt.figure(figsize=(15,10))\n",
    "sns.barplot(x='Airline',y='Price',hue='Total_Stops',data=df)\n",
    "plt.xticks(rotation=90)\n",
    "plt.show()"
   ]
  },
  {
   "cell_type": "markdown",
   "metadata": {},
   "source": [
    "On the basis of Total Stops.\n",
    "\n",
    "- Jet Business has the maximum pricce with 1 -2 stops.\n",
    "- In terms of no of stops Air India is the one with all the flights having non-stop as well as 1-4 stops.\n",
    "- While vistara Permium Economy has only Non stop Flights."
   ]
  },
  {
   "cell_type": "code",
   "execution_count": 91,
   "metadata": {},
   "outputs": [
    {
     "data": {
      "image/png": "[encoded data removed]",
      "text/plain": [
       "<Figure size 360x360 with 1 Axes>"
      ]
     },
     "metadata": {
      "needs_background": "light"
     },
     "output_type": "display_data"
    }
   ],
   "source": [
    "ax=sns.catplot(x='Source',y='Price',data=df.sort_values('Price',ascending=False),kind='boxen')\n",
    "plt.show()"
   ]
  },
  {
   "cell_type": "markdown",
   "metadata": {},
   "source": [
    "- Banglore flights are having highest price.\n",
    "- Delhi flight price mean is higher than banglore.\n",
    "\n",
    "####### This also shows that there are few outliers, tho we won't be treating it as it is object data."
   ]
  },
  {
   "cell_type": "code",
   "execution_count": 92,
   "metadata": {},
   "outputs": [
    {
     "data": {
      "image/png": "[encoded data removed]",
      "text/plain": [
       "<Figure size 360x360 with 1 Axes>"
      ]
     },
     "metadata": {
      "needs_background": "light"
     },
     "output_type": "display_data"
    }
   ],
   "source": [
    "ax=sns.catplot(x='JourneyDate',y='Price',data=df.sort_values('Price',ascending=False),kind='boxen')\n",
    "plt.show()"
   ]
  },
  {
   "cell_type": "markdown",
   "metadata": {},
   "source": [
    "- Flight flying on 1st of any month are having Higher prices.\n",
    "- while fights on 15th have comparitivly low price than of 1st."
   ]
  },
  {
   "cell_type": "code",
   "execution_count": 93,
   "metadata": {},
   "outputs": [
    {
     "data": {
      "image/png": "[encoded data removed]",
      "text/plain": [
       "<Figure size 432x288 with 1 Axes>"
      ]
     },
     "metadata": {
      "needs_background": "light"
     },
     "output_type": "display_data"
    }
   ],
   "source": [
    "ax=sns.lineplot(x='Airline',y='Total_Duration(mins)',data=df)\n",
    "plt.xticks(rotation=90)\n",
    "plt.show()"
   ]
  },
  {
   "cell_type": "markdown",
   "metadata": {},
   "source": [
    "- Spice Jet and Truejet have least flying mins.\n",
    "- Whereas AirIndia have the maximum flying mins.\n",
    "- Then there is JetAirways after AirIndia having most flying mins"
   ]
  },
  {
   "cell_type": "code",
   "execution_count": 94,
   "metadata": {},
   "outputs": [],
   "source": [
    "### Encoding data for better visulisation."
   ]
  },
  {
   "cell_type": "code",
   "execution_count": 95,
   "metadata": {},
   "outputs": [],
   "source": [
    "from sklearn import preprocessing\n",
    "le = preprocessing.LabelEncoder()"
   ]
  },
  {
   "cell_type": "code",
   "execution_count": 96,
   "metadata": {},
   "outputs": [],
   "source": [
    "for i in df.columns:\n",
    "    if df[i].dtypes==\"object\":\n",
    "        df[i]=le.fit_transform(df[i].values.reshape(-1,1))"
   ]
  },
  {
   "cell_type": "code",
   "execution_count": 97,
   "metadata": {},
   "outputs": [
    {
     "data": {
      "text/html": [
       "<div>\n",
       "<style scoped>\n",
       "    .dataframe tbody tr th:only-of-type {\n",
       "        vertical-align: middle;\n",
       "    }\n",
       "\n",
       "    .dataframe tbody tr th {\n",
       "        vertical-align: top;\n",
       "    }\n",
       "\n",
       "    .dataframe thead th {\n",
       "        text-align: right;\n",
       "    }\n",
       "</style>\n",
       "<table border=\"1\" class=\"dataframe\">\n",
       "  <thead>\n",
       "    <tr style=\"text-align: right;\">\n",
       "      <th></th>\n",
       "      <th>Airline</th>\n",
       "      <th>Source</th>\n",
       "      <th>Destination</th>\n",
       "      <th>Total_Stops</th>\n",
       "      <th>Price</th>\n",
       "      <th>JourneyDate</th>\n",
       "      <th>JourneyMonth</th>\n",
       "      <th>Dep_hr</th>\n",
       "      <th>Dep_min</th>\n",
       "      <th>Arrival_hr</th>\n",
       "      <th>Arrival_min</th>\n",
       "      <th>Total_Duration(mins)</th>\n",
       "    </tr>\n",
       "  </thead>\n",
       "  <tbody>\n",
       "    <tr>\n",
       "      <th>0</th>\n",
       "      <td>3</td>\n",
       "      <td>0</td>\n",
       "      <td>5</td>\n",
       "      <td>4</td>\n",
       "      <td>3897</td>\n",
       "      <td>24</td>\n",
       "      <td>3</td>\n",
       "      <td>22</td>\n",
       "      <td>20</td>\n",
       "      <td>1</td>\n",
       "      <td>10</td>\n",
       "      <td>170</td>\n",
       "    </tr>\n",
       "    <tr>\n",
       "      <th>1</th>\n",
       "      <td>1</td>\n",
       "      <td>3</td>\n",
       "      <td>0</td>\n",
       "      <td>1</td>\n",
       "      <td>7662</td>\n",
       "      <td>1</td>\n",
       "      <td>5</td>\n",
       "      <td>5</td>\n",
       "      <td>50</td>\n",
       "      <td>13</td>\n",
       "      <td>15</td>\n",
       "      <td>445</td>\n",
       "    </tr>\n",
       "    <tr>\n",
       "      <th>2</th>\n",
       "      <td>4</td>\n",
       "      <td>2</td>\n",
       "      <td>1</td>\n",
       "      <td>1</td>\n",
       "      <td>13882</td>\n",
       "      <td>9</td>\n",
       "      <td>6</td>\n",
       "      <td>9</td>\n",
       "      <td>25</td>\n",
       "      <td>4</td>\n",
       "      <td>25</td>\n",
       "      <td>1140</td>\n",
       "    </tr>\n",
       "    <tr>\n",
       "      <th>3</th>\n",
       "      <td>3</td>\n",
       "      <td>3</td>\n",
       "      <td>0</td>\n",
       "      <td>0</td>\n",
       "      <td>6218</td>\n",
       "      <td>12</td>\n",
       "      <td>5</td>\n",
       "      <td>18</td>\n",
       "      <td>5</td>\n",
       "      <td>23</td>\n",
       "      <td>30</td>\n",
       "      <td>325</td>\n",
       "    </tr>\n",
       "    <tr>\n",
       "      <th>4</th>\n",
       "      <td>3</td>\n",
       "      <td>0</td>\n",
       "      <td>5</td>\n",
       "      <td>0</td>\n",
       "      <td>13302</td>\n",
       "      <td>1</td>\n",
       "      <td>3</td>\n",
       "      <td>16</td>\n",
       "      <td>50</td>\n",
       "      <td>21</td>\n",
       "      <td>35</td>\n",
       "      <td>285</td>\n",
       "    </tr>\n",
       "    <tr>\n",
       "      <th>...</th>\n",
       "      <td>...</td>\n",
       "      <td>...</td>\n",
       "      <td>...</td>\n",
       "      <td>...</td>\n",
       "      <td>...</td>\n",
       "      <td>...</td>\n",
       "      <td>...</td>\n",
       "      <td>...</td>\n",
       "      <td>...</td>\n",
       "      <td>...</td>\n",
       "      <td>...</td>\n",
       "      <td>...</td>\n",
       "    </tr>\n",
       "    <tr>\n",
       "      <th>10678</th>\n",
       "      <td>0</td>\n",
       "      <td>3</td>\n",
       "      <td>0</td>\n",
       "      <td>4</td>\n",
       "      <td>4107</td>\n",
       "      <td>9</td>\n",
       "      <td>4</td>\n",
       "      <td>19</td>\n",
       "      <td>55</td>\n",
       "      <td>22</td>\n",
       "      <td>25</td>\n",
       "      <td>150</td>\n",
       "    </tr>\n",
       "    <tr>\n",
       "      <th>10679</th>\n",
       "      <td>1</td>\n",
       "      <td>3</td>\n",
       "      <td>0</td>\n",
       "      <td>4</td>\n",
       "      <td>4145</td>\n",
       "      <td>27</td>\n",
       "      <td>4</td>\n",
       "      <td>20</td>\n",
       "      <td>45</td>\n",
       "      <td>23</td>\n",
       "      <td>20</td>\n",
       "      <td>155</td>\n",
       "    </tr>\n",
       "    <tr>\n",
       "      <th>10680</th>\n",
       "      <td>4</td>\n",
       "      <td>0</td>\n",
       "      <td>2</td>\n",
       "      <td>4</td>\n",
       "      <td>7229</td>\n",
       "      <td>27</td>\n",
       "      <td>4</td>\n",
       "      <td>8</td>\n",
       "      <td>20</td>\n",
       "      <td>11</td>\n",
       "      <td>20</td>\n",
       "      <td>180</td>\n",
       "    </tr>\n",
       "    <tr>\n",
       "      <th>10681</th>\n",
       "      <td>10</td>\n",
       "      <td>0</td>\n",
       "      <td>5</td>\n",
       "      <td>4</td>\n",
       "      <td>12648</td>\n",
       "      <td>1</td>\n",
       "      <td>3</td>\n",
       "      <td>11</td>\n",
       "      <td>30</td>\n",
       "      <td>14</td>\n",
       "      <td>10</td>\n",
       "      <td>160</td>\n",
       "    </tr>\n",
       "    <tr>\n",
       "      <th>10682</th>\n",
       "      <td>1</td>\n",
       "      <td>2</td>\n",
       "      <td>1</td>\n",
       "      <td>1</td>\n",
       "      <td>11753</td>\n",
       "      <td>9</td>\n",
       "      <td>5</td>\n",
       "      <td>10</td>\n",
       "      <td>55</td>\n",
       "      <td>19</td>\n",
       "      <td>15</td>\n",
       "      <td>500</td>\n",
       "    </tr>\n",
       "  </tbody>\n",
       "</table>\n",
       "<p>10682 rows × 12 columns</p>\n",
       "</div>"
      ],
      "text/plain": [
       "       Airline  Source  Destination  Total_Stops  Price  JourneyDate  \\\n",
       "0            3       0            5            4   3897           24   \n",
       "1            1       3            0            1   7662            1   \n",
       "2            4       2            1            1  13882            9   \n",
       "3            3       3            0            0   6218           12   \n",
       "4            3       0            5            0  13302            1   \n",
       "...        ...     ...          ...          ...    ...          ...   \n",
       "10678        0       3            0            4   4107            9   \n",
       "10679        1       3            0            4   4145           27   \n",
       "10680        4       0            2            4   7229           27   \n",
       "10681       10       0            5            4  12648            1   \n",
       "10682        1       2            1            1  11753            9   \n",
       "\n",
       "       JourneyMonth  Dep_hr  Dep_min  Arrival_hr  Arrival_min  \\\n",
       "0                 3      22       20           1           10   \n",
       "1                 5       5       50          13           15   \n",
       "2                 6       9       25           4           25   \n",
       "3                 5      18        5          23           30   \n",
       "4                 3      16       50          21           35   \n",
       "...             ...     ...      ...         ...          ...   \n",
       "10678             4      19       55          22           25   \n",
       "10679             4      20       45          23           20   \n",
       "10680             4       8       20          11           20   \n",
       "10681             3      11       30          14           10   \n",
       "10682             5      10       55          19           15   \n",
       "\n",
       "       Total_Duration(mins)  \n",
       "0                       170  \n",
       "1                       445  \n",
       "2                      1140  \n",
       "3                       325  \n",
       "4                       285  \n",
       "...                     ...  \n",
       "10678                   150  \n",
       "10679                   155  \n",
       "10680                   180  \n",
       "10681                   160  \n",
       "10682                   500  \n",
       "\n",
       "[10682 rows x 12 columns]"
      ]
     },
     "execution_count": 97,
     "metadata": {},
     "output_type": "execute_result"
    }
   ],
   "source": [
    "df"
   ]
  },
  {
   "cell_type": "code",
   "execution_count": 98,
   "metadata": {},
   "outputs": [],
   "source": [
    "### Checking Correlation"
   ]
  },
  {
   "cell_type": "code",
   "execution_count": 99,
   "metadata": {},
   "outputs": [
    {
     "data": {
      "text/html": [
       "<div>\n",
       "<style scoped>\n",
       "    .dataframe tbody tr th:only-of-type {\n",
       "        vertical-align: middle;\n",
       "    }\n",
       "\n",
       "    .dataframe tbody tr th {\n",
       "        vertical-align: top;\n",
       "    }\n",
       "\n",
       "    .dataframe thead th {\n",
       "        text-align: right;\n",
       "    }\n",
       "</style>\n",
       "<table border=\"1\" class=\"dataframe\">\n",
       "  <thead>\n",
       "    <tr style=\"text-align: right;\">\n",
       "      <th></th>\n",
       "      <th>Airline</th>\n",
       "      <th>Source</th>\n",
       "      <th>Destination</th>\n",
       "      <th>Total_Stops</th>\n",
       "      <th>Price</th>\n",
       "      <th>JourneyDate</th>\n",
       "      <th>JourneyMonth</th>\n",
       "      <th>Dep_hr</th>\n",
       "      <th>Dep_min</th>\n",
       "      <th>Arrival_hr</th>\n",
       "      <th>Arrival_min</th>\n",
       "      <th>Total_Duration(mins)</th>\n",
       "    </tr>\n",
       "  </thead>\n",
       "  <tbody>\n",
       "    <tr>\n",
       "      <th>Airline</th>\n",
       "      <td>1.000000</td>\n",
       "      <td>-0.013397</td>\n",
       "      <td>0.018446</td>\n",
       "      <td>0.035973</td>\n",
       "      <td>-0.039565</td>\n",
       "      <td>0.026137</td>\n",
       "      <td>0.024674</td>\n",
       "      <td>-0.035269</td>\n",
       "      <td>-0.059922</td>\n",
       "      <td>-0.007567</td>\n",
       "      <td>-0.071092</td>\n",
       "      <td>-0.159650</td>\n",
       "    </tr>\n",
       "    <tr>\n",
       "      <th>Source</th>\n",
       "      <td>-0.013397</td>\n",
       "      <td>1.000000</td>\n",
       "      <td>-0.592576</td>\n",
       "      <td>-0.225605</td>\n",
       "      <td>0.015999</td>\n",
       "      <td>0.004902</td>\n",
       "      <td>0.183268</td>\n",
       "      <td>0.059047</td>\n",
       "      <td>-0.056998</td>\n",
       "      <td>0.025635</td>\n",
       "      <td>0.021040</td>\n",
       "      <td>0.161884</td>\n",
       "    </tr>\n",
       "    <tr>\n",
       "      <th>Destination</th>\n",
       "      <td>0.018446</td>\n",
       "      <td>-0.592576</td>\n",
       "      <td>1.000000</td>\n",
       "      <td>0.337872</td>\n",
       "      <td>-0.071122</td>\n",
       "      <td>-0.041025</td>\n",
       "      <td>-0.364682</td>\n",
       "      <td>-0.072997</td>\n",
       "      <td>0.127931</td>\n",
       "      <td>-0.039729</td>\n",
       "      <td>0.017196</td>\n",
       "      <td>-0.257353</td>\n",
       "    </tr>\n",
       "    <tr>\n",
       "      <th>Total_Stops</th>\n",
       "      <td>0.035973</td>\n",
       "      <td>-0.225605</td>\n",
       "      <td>0.337872</td>\n",
       "      <td>1.000000</td>\n",
       "      <td>-0.571221</td>\n",
       "      <td>0.029225</td>\n",
       "      <td>-0.026328</td>\n",
       "      <td>0.039224</td>\n",
       "      <td>0.048901</td>\n",
       "      <td>-0.095650</td>\n",
       "      <td>0.175980</td>\n",
       "      <td>-0.602281</td>\n",
       "    </tr>\n",
       "    <tr>\n",
       "      <th>Price</th>\n",
       "      <td>-0.039565</td>\n",
       "      <td>0.015999</td>\n",
       "      <td>-0.071122</td>\n",
       "      <td>-0.571221</td>\n",
       "      <td>1.000000</td>\n",
       "      <td>-0.153774</td>\n",
       "      <td>-0.103643</td>\n",
       "      <td>0.006799</td>\n",
       "      <td>-0.024458</td>\n",
       "      <td>0.024244</td>\n",
       "      <td>-0.086155</td>\n",
       "      <td>0.506478</td>\n",
       "    </tr>\n",
       "    <tr>\n",
       "      <th>JourneyDate</th>\n",
       "      <td>0.026137</td>\n",
       "      <td>0.004902</td>\n",
       "      <td>-0.041025</td>\n",
       "      <td>0.029225</td>\n",
       "      <td>-0.153774</td>\n",
       "      <td>1.000000</td>\n",
       "      <td>-0.038359</td>\n",
       "      <td>0.002170</td>\n",
       "      <td>-0.008170</td>\n",
       "      <td>-0.003245</td>\n",
       "      <td>-0.017510</td>\n",
       "      <td>-0.022438</td>\n",
       "    </tr>\n",
       "    <tr>\n",
       "      <th>JourneyMonth</th>\n",
       "      <td>0.024674</td>\n",
       "      <td>0.183268</td>\n",
       "      <td>-0.364682</td>\n",
       "      <td>-0.026328</td>\n",
       "      <td>-0.103643</td>\n",
       "      <td>-0.038359</td>\n",
       "      <td>1.000000</td>\n",
       "      <td>0.039127</td>\n",
       "      <td>-0.059267</td>\n",
       "      <td>-0.003927</td>\n",
       "      <td>-0.100626</td>\n",
       "      <td>0.014837</td>\n",
       "    </tr>\n",
       "    <tr>\n",
       "      <th>Dep_hr</th>\n",
       "      <td>-0.035269</td>\n",
       "      <td>0.059047</td>\n",
       "      <td>-0.072997</td>\n",
       "      <td>0.039224</td>\n",
       "      <td>0.006799</td>\n",
       "      <td>0.002170</td>\n",
       "      <td>0.039127</td>\n",
       "      <td>1.000000</td>\n",
       "      <td>-0.024745</td>\n",
       "      <td>0.005180</td>\n",
       "      <td>0.067911</td>\n",
       "      <td>0.002088</td>\n",
       "    </tr>\n",
       "    <tr>\n",
       "      <th>Dep_min</th>\n",
       "      <td>-0.059922</td>\n",
       "      <td>-0.056998</td>\n",
       "      <td>0.127931</td>\n",
       "      <td>0.048901</td>\n",
       "      <td>-0.024458</td>\n",
       "      <td>-0.008170</td>\n",
       "      <td>-0.059267</td>\n",
       "      <td>-0.024745</td>\n",
       "      <td>1.000000</td>\n",
       "      <td>0.043122</td>\n",
       "      <td>-0.017597</td>\n",
       "      <td>-0.019100</td>\n",
       "    </tr>\n",
       "    <tr>\n",
       "      <th>Arrival_hr</th>\n",
       "      <td>-0.007567</td>\n",
       "      <td>0.025635</td>\n",
       "      <td>-0.039729</td>\n",
       "      <td>-0.095650</td>\n",
       "      <td>0.024244</td>\n",
       "      <td>-0.003245</td>\n",
       "      <td>-0.003927</td>\n",
       "      <td>0.005180</td>\n",
       "      <td>0.043122</td>\n",
       "      <td>1.000000</td>\n",
       "      <td>-0.154363</td>\n",
       "      <td>0.051531</td>\n",
       "    </tr>\n",
       "    <tr>\n",
       "      <th>Arrival_min</th>\n",
       "      <td>-0.071092</td>\n",
       "      <td>0.021040</td>\n",
       "      <td>0.017196</td>\n",
       "      <td>0.175980</td>\n",
       "      <td>-0.086155</td>\n",
       "      <td>-0.017510</td>\n",
       "      <td>-0.100626</td>\n",
       "      <td>0.067911</td>\n",
       "      <td>-0.017597</td>\n",
       "      <td>-0.154363</td>\n",
       "      <td>1.000000</td>\n",
       "      <td>-0.069665</td>\n",
       "    </tr>\n",
       "    <tr>\n",
       "      <th>Total_Duration(mins)</th>\n",
       "      <td>-0.159650</td>\n",
       "      <td>0.161884</td>\n",
       "      <td>-0.257353</td>\n",
       "      <td>-0.602281</td>\n",
       "      <td>0.506478</td>\n",
       "      <td>-0.022438</td>\n",
       "      <td>0.014837</td>\n",
       "      <td>0.002088</td>\n",
       "      <td>-0.019100</td>\n",
       "      <td>0.051531</td>\n",
       "      <td>-0.069665</td>\n",
       "      <td>1.000000</td>\n",
       "    </tr>\n",
       "  </tbody>\n",
       "</table>\n",
       "</div>"
      ],
      "text/plain": [
       "                       Airline    Source  Destination  Total_Stops     Price  \\\n",
       "Airline               1.000000 -0.013397     0.018446     0.035973 -0.039565   \n",
       "Source               -0.013397  1.000000    -0.592576    -0.225605  0.015999   \n",
       "Destination           0.018446 -0.592576     1.000000     0.337872 -0.071122   \n",
       "Total_Stops           0.035973 -0.225605     0.337872     1.000000 -0.571221   \n",
       "Price                -0.039565  0.015999    -0.071122    -0.571221  1.000000   \n",
       "JourneyDate           0.026137  0.004902    -0.041025     0.029225 -0.153774   \n",
       "JourneyMonth          0.024674  0.183268    -0.364682    -0.026328 -0.103643   \n",
       "Dep_hr               -0.035269  0.059047    -0.072997     0.039224  0.006799   \n",
       "Dep_min              -0.059922 -0.056998     0.127931     0.048901 -0.024458   \n",
       "Arrival_hr           -0.007567  0.025635    -0.039729    -0.095650  0.024244   \n",
       "Arrival_min          -0.071092  0.021040     0.017196     0.175980 -0.086155   \n",
       "Total_Duration(mins) -0.159650  0.161884    -0.257353    -0.602281  0.506478   \n",
       "\n",
       "                      JourneyDate  JourneyMonth    Dep_hr   Dep_min  \\\n",
       "Airline                  0.026137      0.024674 -0.035269 -0.059922   \n",
       "Source                   0.004902      0.183268  0.059047 -0.056998   \n",
       "Destination             -0.041025     -0.364682 -0.072997  0.127931   \n",
       "Total_Stops              0.029225     -0.026328  0.039224  0.048901   \n",
       "Price                   -0.153774     -0.103643  0.006799 -0.024458   \n",
       "JourneyDate              1.000000     -0.038359  0.002170 -0.008170   \n",
       "JourneyMonth            -0.038359      1.000000  0.039127 -0.059267   \n",
       "Dep_hr                   0.002170      0.039127  1.000000 -0.024745   \n",
       "Dep_min                 -0.008170     -0.059267 -0.024745  1.000000   \n",
       "Arrival_hr              -0.003245     -0.003927  0.005180  0.043122   \n",
       "Arrival_min             -0.017510     -0.100626  0.067911 -0.017597   \n",
       "Total_Duration(mins)    -0.022438      0.014837  0.002088 -0.019100   \n",
       "\n",
       "                      Arrival_hr  Arrival_min  Total_Duration(mins)  \n",
       "Airline                -0.007567    -0.071092             -0.159650  \n",
       "Source                  0.025635     0.021040              0.161884  \n",
       "Destination            -0.039729     0.017196             -0.257353  \n",
       "Total_Stops            -0.095650     0.175980             -0.602281  \n",
       "Price                   0.024244    -0.086155              0.506478  \n",
       "JourneyDate            -0.003245    -0.017510             -0.022438  \n",
       "JourneyMonth           -0.003927    -0.100626              0.014837  \n",
       "Dep_hr                  0.005180     0.067911              0.002088  \n",
       "Dep_min                 0.043122    -0.017597             -0.019100  \n",
       "Arrival_hr              1.000000    -0.154363              0.051531  \n",
       "Arrival_min            -0.154363     1.000000             -0.069665  \n",
       "Total_Duration(mins)    0.051531    -0.069665              1.000000  "
      ]
     },
     "execution_count": 99,
     "metadata": {},
     "output_type": "execute_result"
    }
   ],
   "source": [
    "df.corr()"
   ]
  },
  {
   "cell_type": "code",
   "execution_count": 100,
   "metadata": {},
   "outputs": [
    {
     "data": {
      "text/plain": [
       "Price                   1.000000\n",
       "Total_Duration(mins)    0.506478\n",
       "Arrival_hr              0.024244\n",
       "Source                  0.015999\n",
       "Dep_hr                  0.006799\n",
       "Dep_min                -0.024458\n",
       "Airline                -0.039565\n",
       "Destination            -0.071122\n",
       "Arrival_min            -0.086155\n",
       "JourneyMonth           -0.103643\n",
       "JourneyDate            -0.153774\n",
       "Total_Stops            -0.571221\n",
       "Name: Price, dtype: float64"
      ]
     },
     "execution_count": 100,
     "metadata": {},
     "output_type": "execute_result"
    }
   ],
   "source": [
    "corr_matrix=df.corr()\n",
    "corr_matrix['Price'].sort_values(ascending=False)"
   ]
  },
  {
   "cell_type": "code",
   "execution_count": 101,
   "metadata": {},
   "outputs": [
    {
     "data": {
      "image/png": "[encoded data removed]",
      "text/plain": [
       "<Figure size 1080x720 with 2 Axes>"
      ]
     },
     "metadata": {
      "needs_background": "light"
     },
     "output_type": "display_data"
    }
   ],
   "source": [
    "plt.figure(figsize=(15,10))\n",
    "sns.heatmap(df.corr(),annot=True,cmap='RdYlGn')\n",
    "plt.show()"
   ]
  },
  {
   "cell_type": "code",
   "execution_count": 102,
   "metadata": {},
   "outputs": [
    {
     "data": {
      "image/png": "[encoded data removed]",
      "text/plain": [
       "<Figure size 1584x504 with 1 Axes>"
      ]
     },
     "metadata": {
      "needs_background": "light"
     },
     "output_type": "display_data"
    }
   ],
   "source": [
    "plt.figure(figsize=(22,7))\n",
    "df.corr()['Price'].sort_values(ascending=False).drop(['Price']).plot(kind='bar',color='purple')\n",
    "plt.xlabel('Feature',fontsize=14)\n",
    "plt.ylabel(\"Target\",fontsize=14)\n",
    "plt.title('Correlation',fontsize=20)\n",
    "plt.show()"
   ]
  },
  {
   "cell_type": "markdown",
   "metadata": {},
   "source": [
    "- Total Duration is most correated with the price\n",
    "- while Total Stops is negativly corelated, which means the more the stops the more the price."
   ]
  },
  {
   "cell_type": "markdown",
   "metadata": {},
   "source": [
    "### Pre-processing pipeline"
   ]
  },
  {
   "cell_type": "markdown",
   "metadata": {},
   "source": [
    "### checking outliers."
   ]
  },
  {
   "cell_type": "code",
   "execution_count": 107,
   "metadata": {},
   "outputs": [
    {
     "name": "stdout",
     "output_type": "stream",
     "text": [
      "Airline\n",
      "AxesSubplot(0.125,0.125;0.775x0.755)\n"
     ]
    },
    {
     "data": {
      "image/png": "[encoded data removed]",
      "text/plain": [
       "<Figure size 432x288 with 1 Axes>"
      ]
     },
     "metadata": {
      "needs_background": "light"
     },
     "output_type": "display_data"
    },
    {
     "name": "stdout",
     "output_type": "stream",
     "text": [
      "Source\n",
      "AxesSubplot(0.125,0.125;0.775x0.755)\n"
     ]
    },
    {
     "data": {
      "image/png": "[encoded data removed]",
      "text/plain": [
       "<Figure size 432x288 with 1 Axes>"
      ]
     },
     "metadata": {
      "needs_background": "light"
     },
     "output_type": "display_data"
    },
    {
     "name": "stdout",
     "output_type": "stream",
     "text": [
      "Destination\n",
      "AxesSubplot(0.125,0.125;0.775x0.755)\n"
     ]
    },
    {
     "data": {
      "image/png": "[encoded data removed]",
      "text/plain": [
       "<Figure size 432x288 with 1 Axes>"
      ]
     },
     "metadata": {
      "needs_background": "light"
     },
     "output_type": "display_data"
    },
    {
     "name": "stdout",
     "output_type": "stream",
     "text": [
      "Total_Stops\n",
      "AxesSubplot(0.125,0.125;0.775x0.755)\n"
     ]
    },
    {
     "data": {
      "image/png": "[encoded data removed]",
      "text/plain": [
       "<Figure size 432x288 with 1 Axes>"
      ]
     },
     "metadata": {
      "needs_background": "light"
     },
     "output_type": "display_data"
    },
    {
     "name": "stdout",
     "output_type": "stream",
     "text": [
      "Price\n",
      "AxesSubplot(0.125,0.125;0.775x0.755)\n"
     ]
    },
    {
     "data": {
      "image/png": "[encoded data removed]",
      "text/plain": [
       "<Figure size 432x288 with 1 Axes>"
      ]
     },
     "metadata": {
      "needs_background": "light"
     },
     "output_type": "display_data"
    },
    {
     "name": "stdout",
     "output_type": "stream",
     "text": [
      "JourneyDate\n",
      "AxesSubplot(0.125,0.125;0.775x0.755)\n"
     ]
    },
    {
     "data": {
      "image/png": "[encoded data removed]",
      "text/plain": [
       "<Figure size 432x288 with 1 Axes>"
      ]
     },
     "metadata": {
      "needs_background": "light"
     },
     "output_type": "display_data"
    },
    {
     "name": "stdout",
     "output_type": "stream",
     "text": [
      "JourneyMonth\n",
      "AxesSubplot(0.125,0.125;0.775x0.755)\n"
     ]
    },
    {
     "data": {
      "image/png": "[encoded data removed]",
      "text/plain": [
       "<Figure size 432x288 with 1 Axes>"
      ]
     },
     "metadata": {
      "needs_background": "light"
     },
     "output_type": "display_data"
    },
    {
     "name": "stdout",
     "output_type": "stream",
     "text": [
      "Dep_hr\n",
      "AxesSubplot(0.125,0.125;0.775x0.755)\n"
     ]
    },
    {
     "data": {
      "image/png": "[encoded data removed]",
      "text/plain": [
       "<Figure size 432x288 with 1 Axes>"
      ]
     },
     "metadata": {
      "needs_background": "light"
     },
     "output_type": "display_data"
    },
    {
     "name": "stdout",
     "output_type": "stream",
     "text": [
      "Dep_min\n",
      "AxesSubplot(0.125,0.125;0.775x0.755)\n"
     ]
    },
    {
     "data": {
      "image/png": "[encoded data removed]",
      "text/plain": [
       "<Figure size 432x288 with 1 Axes>"
      ]
     },
     "metadata": {
      "needs_background": "light"
     },
     "output_type": "display_data"
    },
    {
     "name": "stdout",
     "output_type": "stream",
     "text": [
      "Arrival_hr\n",
      "AxesSubplot(0.125,0.125;0.775x0.755)\n"
     ]
    },
    {
     "data": {
      "image/png": "[encoded data removed]",
      "text/plain": [
       "<Figure size 432x288 with 1 Axes>"
      ]
     },
     "metadata": {
      "needs_background": "light"
     },
     "output_type": "display_data"
    },
    {
     "name": "stdout",
     "output_type": "stream",
     "text": [
      "Arrival_min\n",
      "AxesSubplot(0.125,0.125;0.775x0.755)\n"
     ]
    },
    {
     "data": {
      "image/png": "[encoded data removed]",
      "text/plain": [
       "<Figure size 432x288 with 1 Axes>"
      ]
     },
     "metadata": {
      "needs_background": "light"
     },
     "output_type": "display_data"
    },
    {
     "name": "stdout",
     "output_type": "stream",
     "text": [
      "Total_Duration(mins)\n",
      "AxesSubplot(0.125,0.125;0.775x0.755)\n"
     ]
    },
    {
     "data": {
      "image/png": "[encoded data removed]",
      "text/plain": [
       "<Figure size 432x288 with 1 Axes>"
      ]
     },
     "metadata": {
      "needs_background": "light"
     },
     "output_type": "display_data"
    }
   ],
   "source": [
    "for i in df:\n",
    "    print(i)\n",
    "    print(df[i].plot.box())\n",
    "    plt.show()"
   ]
  },
  {
   "cell_type": "code",
   "execution_count": 108,
   "metadata": {},
   "outputs": [
    {
     "data": {
      "text/plain": [
       "array([ 170,  445, 1140,  325,  285,  145,  930, 1265, 1530,  470,  795,\n",
       "        155,  135,  730, 1595,  270, 1355, 1380, 1235,  310,  920,  175,\n",
       "        800,  910,  345,  355,  805, 1320,  330,  625,  315,  150,  375,\n",
       "        715,  665,  510, 1325,  165,  720,  965, 1195,  195, 1520,  180,\n",
       "        975,  905,  390, 1505,  745, 1640,  615,  630,   90,   85, 1590,\n",
       "        440,  810,  300, 1145,  890,  160, 1330,  575,  600, 1280, 1125,\n",
       "        740, 1080,  555, 1050,  995,  735,  450, 1440,  535,  430,  870,\n",
       "       1820,  900,  765,  610,  925,  845, 1215, 1390, 1090,  960,  140,\n",
       "        480, 1015,  190,  840, 1430, 1300, 1275,  650,  495,  515,  710,\n",
       "       1655,  505, 1255,  290,  490, 1465, 1415, 1545, 1570, 1730, 1515,\n",
       "        560,  550,  185,  690,  570, 1055,  305, 1550, 1200,  780, 1105,\n",
       "       1450,  295, 1535,  380, 1120, 1165, 1760,  545,  645,  700, 1375,\n",
       "       2245, 1540,  835,  520, 1410,  755, 1455,   80,  660,  675,  875,\n",
       "        775,  540,  460,  705, 1495, 1025, 1795, 1335,  880,  435, 1210,\n",
       "       1245, 1620, 1470, 1225,  335,  885,  340,  245,  955,  465, 1700,\n",
       "        260,  220,  530, 1425, 1485, 1295,  485,  385,  950, 1585, 1490,\n",
       "       1560, 1385,  475, 1580, 1395,  320,  240,  585,  500, 1045,  425,\n",
       "       2045,  365,  350,  420,  265,  825, 1155, 1350,  985,  830, 1625,\n",
       "       1690,  280,  940,  275, 1110, 2295,  395,  750,  680,  455, 1775,\n",
       "       1615, 1420,  770,  590, 1315,  655, 1270, 1240, 1800,  790,  525,\n",
       "        370, 1065, 1305,  235, 1040, 1830, 1285,  760, 1475, 1150, 1360,\n",
       "        895, 1260,  405, 1720,  580, 1000,  980, 1005,   75,  415,  685,\n",
       "        860,  725, 1445, 1695, 1070, 1220, 1685,  620,  855, 2115, 2135,\n",
       "       1600, 1680,  865,  785, 2240, 2170, 1555, 2105, 1185, 1675, 2820,\n",
       "        635,   95,  970, 2300,  360, 1010,  850, 1400, 1060,  695, 1100,\n",
       "        400, 1855, 1480, 1790, 1705, 1035, 1365, 1525, 1310, 1995, 1815,\n",
       "        215, 1660, 1825, 1130, 1665,  915,  640, 1575, 2185, 1610,  945,\n",
       "       1180, 1345, 1175, 1500, 1605, 2280,  255, 1510, 1095,  410, 1435,\n",
       "       1075, 1405, 1030, 1460, 1710, 1630, 1160,  935,  565, 1290, 2065,\n",
       "       1115, 1780, 1565, 1745, 1645,  990,  670, 1735, 1750, 2040, 1840,\n",
       "       1845, 1975,  605, 2120, 1925, 1900, 1190, 2025, 1810,  820, 1170,\n",
       "       1890, 2070, 1670, 2315, 2525,  250, 2345,  230,    0, 1950, 1915,\n",
       "       2000, 1650, 1135,  595, 2480, 1205, 1910, 2565,  205, 2230, 1770,\n",
       "       1940, 1250, 2420,  815, 2860], dtype=int64)"
      ]
     },
     "execution_count": 108,
     "metadata": {},
     "output_type": "execute_result"
    }
   ],
   "source": [
    "df['Total_Duration(mins)'].unique()"
   ]
  },
  {
   "cell_type": "markdown",
   "metadata": {},
   "source": [
    "There are outliers in these columns...\n",
    "\n",
    "- Airline\n",
    "- Price\n",
    "- Total Duration\n",
    "\n",
    "tho I wont be treating any of them as,\n",
    "- Airline is our categorical column.\n",
    "- price is our target variable.\n",
    "- Total duration there are flights that have 4 layby (stops). that might be the case for the high duration time."
   ]
  },
  {
   "cell_type": "markdown",
   "metadata": {},
   "source": [
    "### checking skewness.."
   ]
  },
  {
   "cell_type": "code",
   "execution_count": 111,
   "metadata": {},
   "outputs": [
    {
     "data": {
      "text/plain": [
       "Airline                 0.731057\n",
       "Source                 -0.424023\n",
       "Destination             1.244046\n",
       "Total_Stops             0.631532\n",
       "Price                   1.812405\n",
       "JourneyDate             0.118174\n",
       "JourneyMonth           -0.387409\n",
       "Dep_hr                  0.112924\n",
       "Dep_min                 0.167234\n",
       "Arrival_hr             -0.370146\n",
       "Arrival_min             0.110945\n",
       "Total_Duration(mins)    0.861407\n",
       "dtype: float64"
      ]
     },
     "execution_count": 111,
     "metadata": {},
     "output_type": "execute_result"
    }
   ],
   "source": [
    "df.skew()"
   ]
  },
  {
   "cell_type": "code",
   "execution_count": 112,
   "metadata": {},
   "outputs": [],
   "source": [
    "# The skewness need not to be treated as destination is a categorical variable and price is our taregt variable"
   ]
  },
  {
   "cell_type": "code",
   "execution_count": 113,
   "metadata": {},
   "outputs": [
    {
     "data": {
      "image/png": "[encoded data removed]",
      "text/plain": [
       "<Figure size 936x576 with 15 Axes>"
      ]
     },
     "metadata": {
      "needs_background": "light"
     },
     "output_type": "display_data"
    }
   ],
   "source": [
    "# checking data distribution among all columns.\n",
    "\n",
    "\n",
    "df.plot(kind='density',subplots=True, layout=(3,5), sharex=False, legend=False, fontsize=1,figsize=(13,8))\n",
    "plt.show()"
   ]
  },
  {
   "cell_type": "code",
   "execution_count": 114,
   "metadata": {},
   "outputs": [],
   "source": [
    "###### Now the data is ready"
   ]
  },
  {
   "cell_type": "code",
   "execution_count": 115,
   "metadata": {},
   "outputs": [],
   "source": [
    "# Making dataframe ready for ml\n",
    "\n",
    "features=df.drop('Price',axis=1)\n",
    "target=df[\"Price\"]"
   ]
  },
  {
   "cell_type": "code",
   "execution_count": 116,
   "metadata": {},
   "outputs": [
    {
     "data": {
      "text/plain": [
       "(10682, 11)"
      ]
     },
     "execution_count": 116,
     "metadata": {},
     "output_type": "execute_result"
    }
   ],
   "source": [
    "features.shape"
   ]
  },
  {
   "cell_type": "code",
   "execution_count": 117,
   "metadata": {},
   "outputs": [
    {
     "data": {
      "text/plain": [
       "0         3897\n",
       "1         7662\n",
       "2        13882\n",
       "3         6218\n",
       "4        13302\n",
       "         ...  \n",
       "10678     4107\n",
       "10679     4145\n",
       "10680     7229\n",
       "10681    12648\n",
       "10682    11753\n",
       "Name: Price, Length: 10682, dtype: int64"
      ]
     },
     "execution_count": 117,
     "metadata": {},
     "output_type": "execute_result"
    }
   ],
   "source": [
    "target"
   ]
  },
  {
   "cell_type": "markdown",
   "metadata": {},
   "source": [
    "### Scaling "
   ]
  },
  {
   "cell_type": "code",
   "execution_count": 119,
   "metadata": {},
   "outputs": [],
   "source": [
    "from sklearn.preprocessing import StandardScaler"
   ]
  },
  {
   "cell_type": "code",
   "execution_count": 120,
   "metadata": {},
   "outputs": [
    {
     "data": {
      "text/plain": [
       "array([[-0.41080484, -1.65835945,  2.41653414, ..., -1.80043628,\n",
       "        -0.8900139 , -0.93149578],\n",
       "       [-1.26115217,  0.89001433, -0.97381203, ..., -0.05090913,\n",
       "        -0.5870944 , -0.3899514 ],\n",
       "       [ 0.01436882,  0.04055641, -0.2957428 , ..., -1.3630545 ,\n",
       "         0.0187446 ,  0.97867893],\n",
       "       ...,\n",
       "       [ 0.01436882, -1.65835945,  0.38232644, ..., -0.34249699,\n",
       "        -0.2841749 , -0.91180326],\n",
       "       [ 2.56541078, -1.65835945,  2.41653414, ...,  0.0948848 ,\n",
       "        -0.8900139 , -0.9511883 ],\n",
       "       [-1.26115217,  0.04055641, -0.2957428 , ...,  0.82385444,\n",
       "        -0.5870944 , -0.28164253]])"
      ]
     },
     "execution_count": 120,
     "metadata": {},
     "output_type": "execute_result"
    }
   ],
   "source": [
    "ss=StandardScaler()\n",
    "ss.fit_transform(features)"
   ]
  },
  {
   "cell_type": "markdown",
   "metadata": {},
   "source": [
    "#### Building Machine Learning Models"
   ]
  },
  {
   "cell_type": "code",
   "execution_count": 122,
   "metadata": {},
   "outputs": [],
   "source": [
    "# importing libraries\n",
    "from sklearn.linear_model import LinearRegression\n",
    "lr= LinearRegression()\n",
    "from sklearn.metrics import r2_score, mean_squared_error\n",
    "from sklearn.model_selection import train_test_split"
   ]
  },
  {
   "cell_type": "code",
   "execution_count": 123,
   "metadata": {},
   "outputs": [
    {
     "name": "stdout",
     "output_type": "stream",
     "text": [
      "At random state 0, the training accuractarget is:  0.4194141279589707\n",
      "At random state 0, the testing accuractarget is:   0.40737662936132724\n",
      "\n",
      "\n",
      "At random state 1, the training accuractarget is:  0.4161865032340155\n",
      "At random state 1, the testing accuractarget is:   0.42043173221096675\n",
      "\n",
      "\n",
      "At random state 2, the training accuractarget is:  0.41595533720632294\n",
      "At random state 2, the testing accuractarget is:   0.4194725098027352\n",
      "\n",
      "\n",
      "At random state 3, the training accuractarget is:  0.4074019952823086\n",
      "At random state 3, the testing accuractarget is:   0.4592633802812437\n",
      "\n",
      "\n",
      "At random state 4, the training accuractarget is:  0.42227622261047293\n",
      "At random state 4, the testing accuractarget is:   0.396720051504012\n",
      "\n",
      "\n",
      "At random state 5, the training accuractarget is:  0.41961487151943755\n",
      "At random state 5, the testing accuractarget is:   0.4070960810179164\n",
      "\n",
      "\n",
      "At random state 6, the training accuractarget is:  0.418943985029662\n",
      "At random state 6, the testing accuractarget is:   0.40865707274567487\n",
      "\n",
      "\n",
      "At random state 7, the training accuractarget is:  0.412114335249813\n",
      "At random state 7, the testing accuractarget is:   0.43743784819017606\n",
      "\n",
      "\n",
      "At random state 8, the training accuractarget is:  0.4189382236185407\n",
      "At random state 8, the testing accuractarget is:   0.4087763589216833\n",
      "\n",
      "\n",
      "At random state 9, the training accuractarget is:  0.4065023119845803\n",
      "At random state 9, the testing accuractarget is:   0.46332077708321573\n",
      "\n",
      "\n",
      "At random state 10, the training accuractarget is:  0.4220635850257639\n",
      "At random state 10, the testing accuractarget is:   0.3968239992255661\n",
      "\n",
      "\n",
      "At random state 11, the training accuractarget is:  0.4205825043081943\n",
      "At random state 11, the testing accuractarget is:   0.4026082536914658\n",
      "\n",
      "\n",
      "At random state 12, the training accuractarget is:  0.4193845677602631\n",
      "At random state 12, the testing accuractarget is:   0.407519102186474\n",
      "\n",
      "\n",
      "At random state 13, the training accuractarget is:  0.4184804679390761\n",
      "At random state 13, the testing accuractarget is:   0.4112277418869569\n",
      "\n",
      "\n",
      "At random state 14, the training accuractarget is:  0.42017879881456444\n",
      "At random state 14, the testing accuractarget is:   0.4055075678829807\n",
      "\n",
      "\n",
      "At random state 15, the training accuractarget is:  0.413348083493531\n",
      "At random state 15, the testing accuractarget is:   0.43082375859566147\n",
      "\n",
      "\n",
      "At random state 16, the training accuractarget is:  0.4132176330548396\n",
      "At random state 16, the testing accuractarget is:   0.4315270264030655\n",
      "\n",
      "\n",
      "At random state 17, the training accuractarget is:  0.4227527175007909\n",
      "At random state 17, the testing accuractarget is:   0.3947142064734611\n",
      "\n",
      "\n",
      "At random state 18, the training accuractarget is:  0.41475351262776405\n",
      "At random state 18, the testing accuractarget is:   0.424535950920532\n",
      "\n",
      "\n",
      "At random state 19, the training accuractarget is:  0.41839626932593943\n",
      "At random state 19, the testing accuractarget is:   0.41118494388791593\n",
      "\n",
      "\n",
      "At random state 20, the training accuractarget is:  0.4162994721466359\n",
      "At random state 20, the testing accuractarget is:   0.41970220281644144\n",
      "\n",
      "\n",
      "At random state 21, the training accuractarget is:  0.4171744724256147\n",
      "At random state 21, the testing accuractarget is:   0.4154176180882595\n",
      "\n",
      "\n",
      "At random state 22, the training accuractarget is:  0.41127733482995965\n",
      "At random state 22, the testing accuractarget is:   0.44365503698489805\n",
      "\n",
      "\n",
      "At random state 23, the training accuractarget is:  0.4107272940642508\n",
      "At random state 23, the testing accuractarget is:   0.4422581378503032\n",
      "\n",
      "\n",
      "At random state 24, the training accuractarget is:  0.4176655705053208\n",
      "At random state 24, the testing accuractarget is:   0.41412075993250774\n",
      "\n",
      "\n",
      "At random state 25, the training accuractarget is:  0.4201223096104154\n",
      "At random state 25, the testing accuractarget is:   0.40522422736210895\n",
      "\n",
      "\n",
      "At random state 26, the training accuractarget is:  0.43016004705141464\n",
      "At random state 26, the testing accuractarget is:   0.37059564076708496\n",
      "\n",
      "\n",
      "At random state 27, the training accuractarget is:  0.42206826655586394\n",
      "At random state 27, the testing accuractarget is:   0.3976657211936683\n",
      "\n",
      "\n",
      "At random state 28, the training accuractarget is:  0.41570919328788825\n",
      "At random state 28, the testing accuractarget is:   0.4214151269281943\n",
      "\n",
      "\n",
      "At random state 29, the training accuractarget is:  0.4158419597631544\n",
      "At random state 29, the testing accuractarget is:   0.4199845316021088\n",
      "\n",
      "\n",
      "At random state 30, the training accuractarget is:  0.4206471402855957\n",
      "At random state 30, the testing accuractarget is:   0.4003042025585757\n",
      "\n",
      "\n",
      "At random state 31, the training accuractarget is:  0.40858789027571074\n",
      "At random state 31, the testing accuractarget is:   0.4554882979563113\n",
      "\n",
      "\n",
      "At random state 32, the training accuractarget is:  0.41375379191108363\n",
      "At random state 32, the testing accuractarget is:   0.43066211444266034\n",
      "\n",
      "\n",
      "At random state 33, the training accuractarget is:  0.416650393863087\n",
      "At random state 33, the testing accuractarget is:   0.41770579350334025\n",
      "\n",
      "\n",
      "At random state 34, the training accuractarget is:  0.42074893394175494\n",
      "At random state 34, the testing accuractarget is:   0.402348252380456\n",
      "\n",
      "\n",
      "At random state 35, the training accuractarget is:  0.42227518678580434\n",
      "At random state 35, the testing accuractarget is:   0.39464943490261084\n",
      "\n",
      "\n",
      "At random state 36, the training accuractarget is:  0.4221012634179887\n",
      "At random state 36, the testing accuractarget is:   0.3962216057195008\n",
      "\n",
      "\n",
      "At random state 37, the training accuractarget is:  0.4176447299488749\n",
      "At random state 37, the testing accuractarget is:   0.413762562337602\n",
      "\n",
      "\n",
      "At random state 38, the training accuractarget is:  0.4125132640613265\n",
      "At random state 38, the testing accuractarget is:   0.4357549846749861\n",
      "\n",
      "\n",
      "At random state 39, the training accuractarget is:  0.4183122562927408\n",
      "At random state 39, the testing accuractarget is:   0.41165645716044197\n",
      "\n",
      "\n",
      "At random state 40, the training accuractarget is:  0.42620122653407133\n",
      "At random state 40, the testing accuractarget is:   0.38179498131282164\n",
      "\n",
      "\n",
      "At random state 41, the training accuractarget is:  0.4173476835986305\n",
      "At random state 41, the testing accuractarget is:   0.41519986294227695\n",
      "\n",
      "\n",
      "At random state 42, the training accuractarget is:  0.4122292846910601\n",
      "At random state 42, the testing accuractarget is:   0.4349025854446973\n",
      "\n",
      "\n",
      "At random state 43, the training accuractarget is:  0.4218633486631971\n",
      "At random state 43, the testing accuractarget is:   0.39927656658855215\n",
      "\n",
      "\n",
      "At random state 44, the training accuractarget is:  0.4197171305575417\n",
      "At random state 44, the testing accuractarget is:   0.40506102117906395\n",
      "\n",
      "\n",
      "At random state 45, the training accuractarget is:  0.4202365821640337\n",
      "At random state 45, the testing accuractarget is:   0.404321660578295\n",
      "\n",
      "\n",
      "At random state 46, the training accuractarget is:  0.41265340823934804\n",
      "At random state 46, the testing accuractarget is:   0.43580887909753585\n",
      "\n",
      "\n",
      "At random state 47, the training accuractarget is:  0.41401599649996734\n",
      "At random state 47, the testing accuractarget is:   0.4285843352151062\n",
      "\n",
      "\n",
      "At random state 48, the training accuractarget is:  0.42180951480894713\n",
      "At random state 48, the testing accuractarget is:   0.3993610946348627\n",
      "\n",
      "\n",
      "At random state 49, the training accuractarget is:  0.41163568678301654\n",
      "At random state 49, the testing accuractarget is:   0.43958065583216555\n",
      "\n",
      "\n",
      "At random state 50, the training accuractarget is:  0.41574326768732317\n",
      "At random state 50, the testing accuractarget is:   0.4212183494343371\n",
      "\n",
      "\n",
      "At random state 51, the training accuractarget is:  0.40785902131204554\n",
      "At random state 51, the testing accuractarget is:   0.4582424804528471\n",
      "\n",
      "\n",
      "At random state 52, the training accuractarget is:  0.41361710136429897\n",
      "At random state 52, the testing accuractarget is:   0.4309702954762563\n",
      "\n",
      "\n",
      "At random state 53, the training accuractarget is:  0.41450133493924746\n",
      "At random state 53, the testing accuractarget is:   0.4275171555233299\n",
      "\n",
      "\n",
      "At random state 54, the training accuractarget is:  0.4148251640105597\n",
      "At random state 54, the testing accuractarget is:   0.42548055488432635\n",
      "\n",
      "\n",
      "At random state 55, the training accuractarget is:  0.42025477419271895\n",
      "At random state 55, the testing accuractarget is:   0.40427098736149036\n",
      "\n",
      "\n",
      "At random state 56, the training accuractarget is:  0.4242403946982092\n",
      "At random state 56, the testing accuractarget is:   0.38874117457837576\n",
      "\n",
      "\n",
      "At random state 57, the training accuractarget is:  0.4216272231608855\n",
      "At random state 57, the testing accuractarget is:   0.3992845647427663\n",
      "\n",
      "\n",
      "At random state 58, the training accuractarget is:  0.4152761075342769\n",
      "At random state 58, the testing accuractarget is:   0.42155332857348515\n",
      "\n",
      "\n",
      "At random state 59, the training accuractarget is:  0.4160194578220848\n",
      "At random state 59, the testing accuractarget is:   0.4210492473779407\n",
      "\n",
      "\n",
      "At random state 60, the training accuractarget is:  0.41771288656558736\n",
      "At random state 60, the testing accuractarget is:   0.4143176944042415\n",
      "\n",
      "\n",
      "At random state 61, the training accuractarget is:  0.42164694477529463\n",
      "At random state 61, the testing accuractarget is:   0.3959116616402668\n",
      "\n",
      "\n",
      "At random state 62, the training accuractarget is:  0.41863192245752057\n",
      "At random state 62, the testing accuractarget is:   0.4099958393163061\n",
      "\n",
      "\n",
      "At random state 63, the training accuractarget is:  0.4226727042889735\n",
      "At random state 63, the testing accuractarget is:   0.3953217009570401\n",
      "\n",
      "\n",
      "At random state 64, the training accuractarget is:  0.4067527955676733\n",
      "At random state 64, the testing accuractarget is:   0.4624519633382682\n",
      "\n",
      "\n",
      "At random state 65, the training accuractarget is:  0.4189219326979575\n",
      "At random state 65, the testing accuractarget is:   0.40895859698997383\n",
      "\n",
      "\n",
      "At random state 66, the training accuractarget is:  0.42179250580471195\n",
      "At random state 66, the testing accuractarget is:   0.3993234029462762\n",
      "\n",
      "\n",
      "At random state 67, the training accuractarget is:  0.41808111968953265\n",
      "At random state 67, the testing accuractarget is:   0.41073206197743795\n",
      "\n",
      "\n",
      "At random state 68, the training accuractarget is:  0.4105850737357717\n",
      "At random state 68, the testing accuractarget is:   0.44264391747313037\n",
      "\n",
      "\n",
      "At random state 69, the training accuractarget is:  0.4103151618807863\n",
      "At random state 69, the testing accuractarget is:   0.44675390423376926\n",
      "\n",
      "\n",
      "At random state 70, the training accuractarget is:  0.42874035964496604\n",
      "At random state 70, the testing accuractarget is:   0.3683375726830824\n",
      "\n",
      "\n",
      "At random state 71, the training accuractarget is:  0.41567475538217924\n",
      "At random state 71, the testing accuractarget is:   0.42119811287354825\n",
      "\n",
      "\n",
      "At random state 72, the training accuractarget is:  0.4146519329270275\n",
      "At random state 72, the testing accuractarget is:   0.4260013984247346\n",
      "\n",
      "\n",
      "At random state 73, the training accuractarget is:  0.4146110453300923\n",
      "At random state 73, the testing accuractarget is:   0.42531464900526994\n",
      "\n",
      "\n",
      "At random state 74, the training accuractarget is:  0.4260610935700243\n",
      "At random state 74, the testing accuractarget is:   0.3843103434481423\n",
      "\n",
      "\n",
      "At random state 75, the training accuractarget is:  0.4172437553678042\n",
      "At random state 75, the testing accuractarget is:   0.4153740108513747\n",
      "\n",
      "\n",
      "At random state 76, the training accuractarget is:  0.408690701569676\n",
      "At random state 76, the testing accuractarget is:   0.4537329083647168\n",
      "\n",
      "\n",
      "At random state 77, the training accuractarget is:  0.4119872686162728\n",
      "At random state 77, the testing accuractarget is:   0.43813974554008095\n",
      "\n",
      "\n",
      "At random state 78, the training accuractarget is:  0.422486008606787\n",
      "At random state 78, the testing accuractarget is:   0.3954914052973707\n",
      "\n",
      "\n",
      "At random state 79, the training accuractarget is:  0.42354231558661615\n",
      "At random state 79, the testing accuractarget is:   0.3920536366471299\n",
      "\n",
      "\n",
      "At random state 80, the training accuractarget is:  0.4185601129990516\n",
      "At random state 80, the testing accuractarget is:   0.41042563223079387\n",
      "\n",
      "\n",
      "At random state 81, the training accuractarget is:  0.41253328772793707\n",
      "At random state 81, the testing accuractarget is:   0.43594206923123735\n",
      "\n",
      "\n",
      "At random state 82, the training accuractarget is:  0.42176120873399736\n",
      "At random state 82, the testing accuractarget is:   0.39861353326493454\n",
      "\n",
      "\n",
      "At random state 83, the training accuractarget is:  0.4221287216780849\n",
      "At random state 83, the testing accuractarget is:   0.39724916101593877\n",
      "\n",
      "\n",
      "At random state 84, the training accuractarget is:  0.41519379121484956\n",
      "At random state 84, the testing accuractarget is:   0.42463633221765595\n",
      "\n",
      "\n",
      "At random state 85, the training accuractarget is:  0.4080373597251894\n",
      "At random state 85, the testing accuractarget is:   0.4553865890283417\n",
      "\n",
      "\n",
      "At random state 86, the training accuractarget is:  0.4277688444285761\n",
      "At random state 86, the testing accuractarget is:   0.3770691198083359\n",
      "\n",
      "\n",
      "At random state 87, the training accuractarget is:  0.41991319459600085\n",
      "At random state 87, the testing accuractarget is:   0.4046361736102446\n",
      "\n",
      "\n",
      "At random state 88, the training accuractarget is:  0.42002996996287045\n",
      "At random state 88, the testing accuractarget is:   0.40473781846906154\n",
      "\n",
      "\n",
      "At random state 89, the training accuractarget is:  0.4192650799073874\n",
      "At random state 89, the testing accuractarget is:   0.4086024077854866\n",
      "\n",
      "\n",
      "At random state 90, the training accuractarget is:  0.4237875751297515\n",
      "At random state 90, the testing accuractarget is:   0.3917559960748659\n",
      "\n",
      "\n",
      "At random state 91, the training accuractarget is:  0.4154469165049406\n",
      "At random state 91, the testing accuractarget is:   0.42313964211469557\n",
      "\n",
      "\n",
      "At random state 92, the training accuractarget is:  0.41205553797717076\n",
      "At random state 92, the testing accuractarget is:   0.43773435678502237\n",
      "\n",
      "\n",
      "At random state 93, the training accuractarget is:  0.410050762836918\n",
      "At random state 93, the testing accuractarget is:   0.4473242264510845\n",
      "\n",
      "\n",
      "At random state 94, the training accuractarget is:  0.42659356164297\n",
      "At random state 94, the testing accuractarget is:   0.3863304802935321\n",
      "\n",
      "\n",
      "At random state 95, the training accuractarget is:  0.41729131984743306\n",
      "At random state 95, the testing accuractarget is:   0.41518761444421737\n",
      "\n",
      "\n",
      "At random state 96, the training accuractarget is:  0.4222096795319601\n",
      "At random state 96, the testing accuractarget is:   0.3973954608378306\n",
      "\n",
      "\n",
      "At random state 97, the training accuractarget is:  0.4141501212208294\n",
      "At random state 97, the testing accuractarget is:   0.42783309390369006\n",
      "\n",
      "\n",
      "At random state 98, the training accuractarget is:  0.4067309538064483\n",
      "At random state 98, the testing accuractarget is:   0.4648753020430516\n",
      "\n",
      "\n",
      "At random state 99, the training accuractarget is:  0.40979289043176836\n",
      "At random state 99, the testing accuractarget is:   0.448977823276024\n",
      "\n",
      "\n"
     ]
    }
   ],
   "source": [
    "for i in range (0,100):\n",
    "    features_train,features_test,target_train,target_test=train_test_split(features,target,test_size=.2,random_state=i)\n",
    "    lr.fit(features_train,target_train)\n",
    "    pred_train=lr.predict(features_train)\n",
    "    pred_test=lr.predict(features_test)\n",
    "    \n",
    "    print(f'At random state {i}, the training accuractarget is:  {r2_score(target_train,pred_train)}')\n",
    "    print(f\"At random state {i}, the testing accuractarget is:   {r2_score(target_test,pred_test)}\")\n",
    "    print(\"\\n\")"
   ]
  },
  {
   "cell_type": "markdown",
   "metadata": {},
   "source": [
    "At random state 51, the testing accuractarget is:   0.4582424804528471"
   ]
  },
  {
   "cell_type": "code",
   "execution_count": 124,
   "metadata": {},
   "outputs": [],
   "source": [
    "features_train,features_test,target_train,target_test=train_test_split(features,target,test_size=.2,random_state=51)"
   ]
  },
  {
   "cell_type": "code",
   "execution_count": 125,
   "metadata": {},
   "outputs": [
    {
     "data": {
      "text/plain": [
       "LinearRegression()"
      ]
     },
     "execution_count": 125,
     "metadata": {},
     "output_type": "execute_result"
    }
   ],
   "source": [
    "lr.fit(features_train,target_train)"
   ]
  },
  {
   "cell_type": "code",
   "execution_count": 126,
   "metadata": {},
   "outputs": [],
   "source": [
    "pred_test=lr.predict(features_test)"
   ]
  },
  {
   "cell_type": "code",
   "execution_count": 127,
   "metadata": {},
   "outputs": [
    {
     "name": "stdout",
     "output_type": "stream",
     "text": [
      "0.4582424804528471\n"
     ]
    }
   ],
   "source": [
    "print(r2_score(target_test,pred_test))"
   ]
  },
  {
   "cell_type": "code",
   "execution_count": 128,
   "metadata": {},
   "outputs": [],
   "source": [
    "pred=lr.predict(features_test)"
   ]
  },
  {
   "cell_type": "code",
   "execution_count": 129,
   "metadata": {},
   "outputs": [
    {
     "name": "stdout",
     "output_type": "stream",
     "text": [
      "Predicted Result [11947.97280603 13544.29195398 12409.57172803 ... 10951.65694493\n",
      "  3755.84662914 12156.94677135]\n"
     ]
    }
   ],
   "source": [
    "print(\"Predicted Result\",pred)"
   ]
  },
  {
   "cell_type": "code",
   "execution_count": 130,
   "metadata": {},
   "outputs": [
    {
     "name": "stdout",
     "output_type": "stream",
     "text": [
      "Actual Result 8153     10703\n",
      "2784     14053\n",
      "10371     7480\n",
      "9014      4049\n",
      "8200     11841\n",
      "         ...  \n",
      "5816      8854\n",
      "3868     14151\n",
      "9103      9646\n",
      "3296      4804\n",
      "6213      4757\n",
      "Name: Price, Length: 2137, dtype: int64\n"
     ]
    }
   ],
   "source": [
    "print(\"Actual Result\",target_test)"
   ]
  },
  {
   "cell_type": "code",
   "execution_count": 131,
   "metadata": {},
   "outputs": [
    {
     "data": {
      "text/plain": [
       "0.40785902131204554"
      ]
     },
     "execution_count": 131,
     "metadata": {},
     "output_type": "execute_result"
    }
   ],
   "source": [
    "lr.score(features_train,target_train)"
   ]
  },
  {
   "cell_type": "code",
   "execution_count": 132,
   "metadata": {},
   "outputs": [
    {
     "data": {
      "image/png": "[encoded data removed]",
      "text/plain": [
       "<Figure size 576x432 with 1 Axes>"
      ]
     },
     "metadata": {
      "needs_background": "light"
     },
     "output_type": "display_data"
    }
   ],
   "source": [
    "plt.figure(figsize=(8,6))\n",
    "plt.scatter(x=target_test,y=pred_test , color='red')\n",
    "plt.plot(target_test,target_test,color='blue')\n",
    "plt.xlabel(\"Actual Price\",fontsize=18)\n",
    "plt.ylabel(\"Predicted Price\",fontsize=18)\n",
    "plt.title(\"Linear Regression\",fontsize=18)\n",
    "plt.show()"
   ]
  },
  {
   "cell_type": "markdown",
   "metadata": {},
   "source": [
    "##### Random Forest Regressor"
   ]
  },
  {
   "cell_type": "code",
   "execution_count": 134,
   "metadata": {},
   "outputs": [],
   "source": [
    "from sklearn.ensemble import RandomForestRegressor"
   ]
  },
  {
   "cell_type": "code",
   "execution_count": 135,
   "metadata": {},
   "outputs": [],
   "source": [
    "rfr=RandomForestRegressor()"
   ]
  },
  {
   "cell_type": "code",
   "execution_count": 136,
   "metadata": {},
   "outputs": [
    {
     "data": {
      "text/plain": [
       "RandomForestRegressor()"
      ]
     },
     "execution_count": 136,
     "metadata": {},
     "output_type": "execute_result"
    }
   ],
   "source": [
    "rfr.fit(features_train,target_train)"
   ]
  },
  {
   "cell_type": "code",
   "execution_count": 137,
   "metadata": {},
   "outputs": [],
   "source": [
    "target_pred=rfr.predict(features_test)"
   ]
  },
  {
   "cell_type": "code",
   "execution_count": 138,
   "metadata": {},
   "outputs": [
    {
     "data": {
      "text/plain": [
       "0.9522442616091933"
      ]
     },
     "execution_count": 138,
     "metadata": {},
     "output_type": "execute_result"
    }
   ],
   "source": [
    "rfr.score(features_train,target_train)"
   ]
  },
  {
   "cell_type": "code",
   "execution_count": 139,
   "metadata": {},
   "outputs": [
    {
     "data": {
      "text/plain": [
       "0.8325189876796428"
      ]
     },
     "execution_count": 139,
     "metadata": {},
     "output_type": "execute_result"
    }
   ],
   "source": [
    "rfr.score(features_test,target_test)"
   ]
  },
  {
   "cell_type": "code",
   "execution_count": 140,
   "metadata": {},
   "outputs": [],
   "source": [
    "# the testing score is 80% for RFR"
   ]
  },
  {
   "cell_type": "markdown",
   "metadata": {},
   "source": [
    "#### DecisionTreeRegressor"
   ]
  },
  {
   "cell_type": "code",
   "execution_count": 142,
   "metadata": {},
   "outputs": [],
   "source": [
    "from sklearn.tree import DecisionTreeRegressor"
   ]
  },
  {
   "cell_type": "code",
   "execution_count": 143,
   "metadata": {},
   "outputs": [],
   "source": [
    "dtr=DecisionTreeRegressor()"
   ]
  },
  {
   "cell_type": "code",
   "execution_count": 144,
   "metadata": {},
   "outputs": [
    {
     "data": {
      "text/plain": [
       "DecisionTreeRegressor()"
      ]
     },
     "execution_count": 144,
     "metadata": {},
     "output_type": "execute_result"
    }
   ],
   "source": [
    "dtr.fit(features_train,target_train)"
   ]
  },
  {
   "cell_type": "code",
   "execution_count": 145,
   "metadata": {},
   "outputs": [],
   "source": [
    "dtr_target_pred=dtr.predict(features_test)"
   ]
  },
  {
   "cell_type": "code",
   "execution_count": 146,
   "metadata": {},
   "outputs": [
    {
     "data": {
      "text/plain": [
       "0.9707544435379534"
      ]
     },
     "execution_count": 146,
     "metadata": {},
     "output_type": "execute_result"
    }
   ],
   "source": [
    "dtr.score(features_train,target_train)"
   ]
  },
  {
   "cell_type": "code",
   "execution_count": 147,
   "metadata": {},
   "outputs": [
    {
     "data": {
      "text/plain": [
       "0.7303268168022391"
      ]
     },
     "execution_count": 147,
     "metadata": {},
     "output_type": "execute_result"
    }
   ],
   "source": [
    "dtr.score(features_test,target_test)"
   ]
  },
  {
   "cell_type": "code",
   "execution_count": 148,
   "metadata": {},
   "outputs": [],
   "source": [
    "# the testing score is 71%"
   ]
  },
  {
   "cell_type": "code",
   "execution_count": null,
   "metadata": {},
   "outputs": [],
   "source": []
  },
  {
   "cell_type": "code",
   "execution_count": 149,
   "metadata": {},
   "outputs": [],
   "source": [
    "###### Importing Merics"
   ]
  },
  {
   "cell_type": "code",
   "execution_count": 150,
   "metadata": {},
   "outputs": [],
   "source": [
    "from sklearn import metrics"
   ]
  },
  {
   "cell_type": "code",
   "execution_count": 151,
   "metadata": {},
   "outputs": [
    {
     "name": "stdout",
     "output_type": "stream",
     "text": [
      "MAE 1122.8297573599646\n",
      "MSE 3139648.562761579\n",
      "MAE 1771.9053481384324\n"
     ]
    }
   ],
   "source": [
    "print('MAE',metrics.mean_absolute_error(target_test,target_pred))\n",
    "print('MSE',metrics.mean_squared_error(target_test,target_pred))\n",
    "print('MAE',np.sqrt(metrics.mean_squared_error(target_test,target_pred)))"
   ]
  },
  {
   "cell_type": "code",
   "execution_count": 152,
   "metadata": {},
   "outputs": [],
   "source": [
    "### Hyperparameter Tuning"
   ]
  },
  {
   "cell_type": "code",
   "execution_count": 153,
   "metadata": {},
   "outputs": [],
   "source": [
    "from sklearn.model_selection import RandomizedSearchCV"
   ]
  },
  {
   "cell_type": "code",
   "execution_count": 154,
   "metadata": {},
   "outputs": [],
   "source": [
    "n_estimators = [int(x) for x in np.linspace(start=100,stop=1200, num=12)] #no. of trees in forest\n",
    "max_features = ['auto','squrt']                                          # features\n",
    "max_depth = [int(x) for x in np.linspace(5,30,num=6)]                    # max no of trees\n",
    "min_samples_split=[2,5,10,15,100]                                        # min samples to split\n",
    "min_sample_leaf=[1,2,5,10]                                              # min sample at each leaf node"
   ]
  },
  {
   "cell_type": "code",
   "execution_count": 155,
   "metadata": {},
   "outputs": [],
   "source": [
    "random_grid = {'n_estimators': n_estimators,\n",
    "              'max_features': max_features,\n",
    "              'max_depth':max_depth,\n",
    "              'min_samples_split':min_samples_split,\n",
    "              'min_sample_leaf':min_sample_leaf}"
   ]
  },
  {
   "cell_type": "code",
   "execution_count": null,
   "metadata": {},
   "outputs": [],
   "source": []
  },
  {
   "cell_type": "code",
   "execution_count": 156,
   "metadata": {},
   "outputs": [],
   "source": [
    "# creating para list to pass GridSearchCV\n",
    "\n",
    "parameters =  {\"criterion\": [\"mse\", \"mae\"],\n",
    "              \"min_samples_split\": [10, 20, 40],\n",
    "              \"max_depth\": [2, 6, 8],\n",
    "              \"min_samples_leaf\": [20, 40, 100],\n",
    "              \"max_leaf_nodes\": [5, 20, 100],\n",
    "              }"
   ]
  },
  {
   "cell_type": "code",
   "execution_count": 157,
   "metadata": {},
   "outputs": [],
   "source": [
    "# using cv =5\n",
    "rf_random = RandomizedSearchCV(estimator = rfr, param_distributions = parameters ,n_iter=10,cv=5,verbose=2,random_state=51, n_jobs=1)"
   ]
  },
  {
   "cell_type": "code",
   "execution_count": 158,
   "metadata": {
    "scrolled": true
   },
   "outputs": [
    {
     "name": "stdout",
     "output_type": "stream",
     "text": [
      "Fitting 5 folds for each of 10 candidates, totalling 50 fits\n",
      "[CV] min_samples_split=40, min_samples_leaf=100, max_leaf_nodes=20, max_depth=6, criterion=mae \n"
     ]
    },
    {
     "name": "stderr",
     "output_type": "stream",
     "text": [
      "[Parallel(n_jobs=1)]: Using backend SequentialBackend with 1 concurrent workers.\n"
     ]
    },
    {
     "name": "stdout",
     "output_type": "stream",
     "text": [
      "[CV]  min_samples_split=40, min_samples_leaf=100, max_leaf_nodes=20, max_depth=6, criterion=mae, total=  34.0s\n",
      "[CV] min_samples_split=40, min_samples_leaf=100, max_leaf_nodes=20, max_depth=6, criterion=mae \n"
     ]
    },
    {
     "name": "stderr",
     "output_type": "stream",
     "text": [
      "[Parallel(n_jobs=1)]: Done   1 out of   1 | elapsed:   33.9s remaining:    0.0s\n"
     ]
    },
    {
     "name": "stdout",
     "output_type": "stream",
     "text": [
      "[CV]  min_samples_split=40, min_samples_leaf=100, max_leaf_nodes=20, max_depth=6, criterion=mae, total=  34.8s\n",
      "[CV] min_samples_split=40, min_samples_leaf=100, max_leaf_nodes=20, max_depth=6, criterion=mae \n",
      "[CV]  min_samples_split=40, min_samples_leaf=100, max_leaf_nodes=20, max_depth=6, criterion=mae, total=  34.3s\n",
      "[CV] min_samples_split=40, min_samples_leaf=100, max_leaf_nodes=20, max_depth=6, criterion=mae \n",
      "[CV]  min_samples_split=40, min_samples_leaf=100, max_leaf_nodes=20, max_depth=6, criterion=mae, total=  33.5s\n",
      "[CV] min_samples_split=40, min_samples_leaf=100, max_leaf_nodes=20, max_depth=6, criterion=mae \n",
      "[CV]  min_samples_split=40, min_samples_leaf=100, max_leaf_nodes=20, max_depth=6, criterion=mae, total=  33.8s\n",
      "[CV] min_samples_split=20, min_samples_leaf=40, max_leaf_nodes=5, max_depth=2, criterion=mse \n",
      "[CV]  min_samples_split=20, min_samples_leaf=40, max_leaf_nodes=5, max_depth=2, criterion=mse, total=   0.3s\n",
      "[CV] min_samples_split=20, min_samples_leaf=40, max_leaf_nodes=5, max_depth=2, criterion=mse \n",
      "[CV]  min_samples_split=20, min_samples_leaf=40, max_leaf_nodes=5, max_depth=2, criterion=mse, total=   0.3s\n",
      "[CV] min_samples_split=20, min_samples_leaf=40, max_leaf_nodes=5, max_depth=2, criterion=mse \n",
      "[CV]  min_samples_split=20, min_samples_leaf=40, max_leaf_nodes=5, max_depth=2, criterion=mse, total=   0.3s\n",
      "[CV] min_samples_split=20, min_samples_leaf=40, max_leaf_nodes=5, max_depth=2, criterion=mse \n",
      "[CV]  min_samples_split=20, min_samples_leaf=40, max_leaf_nodes=5, max_depth=2, criterion=mse, total=   0.3s\n",
      "[CV] min_samples_split=20, min_samples_leaf=40, max_leaf_nodes=5, max_depth=2, criterion=mse \n",
      "[CV]  min_samples_split=20, min_samples_leaf=40, max_leaf_nodes=5, max_depth=2, criterion=mse, total=   0.3s\n",
      "[CV] min_samples_split=20, min_samples_leaf=40, max_leaf_nodes=20, max_depth=2, criterion=mse \n",
      "[CV]  min_samples_split=20, min_samples_leaf=40, max_leaf_nodes=20, max_depth=2, criterion=mse, total=   0.3s\n",
      "[CV] min_samples_split=20, min_samples_leaf=40, max_leaf_nodes=20, max_depth=2, criterion=mse \n",
      "[CV]  min_samples_split=20, min_samples_leaf=40, max_leaf_nodes=20, max_depth=2, criterion=mse, total=   0.3s\n",
      "[CV] min_samples_split=20, min_samples_leaf=40, max_leaf_nodes=20, max_depth=2, criterion=mse \n",
      "[CV]  min_samples_split=20, min_samples_leaf=40, max_leaf_nodes=20, max_depth=2, criterion=mse, total=   0.3s\n",
      "[CV] min_samples_split=20, min_samples_leaf=40, max_leaf_nodes=20, max_depth=2, criterion=mse \n",
      "[CV]  min_samples_split=20, min_samples_leaf=40, max_leaf_nodes=20, max_depth=2, criterion=mse, total=   0.3s\n",
      "[CV] min_samples_split=20, min_samples_leaf=40, max_leaf_nodes=20, max_depth=2, criterion=mse \n",
      "[CV]  min_samples_split=20, min_samples_leaf=40, max_leaf_nodes=20, max_depth=2, criterion=mse, total=   0.3s\n",
      "[CV] min_samples_split=20, min_samples_leaf=40, max_leaf_nodes=100, max_depth=8, criterion=mae \n",
      "[CV]  min_samples_split=20, min_samples_leaf=40, max_leaf_nodes=100, max_depth=8, criterion=mae, total=  35.8s\n",
      "[CV] min_samples_split=20, min_samples_leaf=40, max_leaf_nodes=100, max_depth=8, criterion=mae \n",
      "[CV]  min_samples_split=20, min_samples_leaf=40, max_leaf_nodes=100, max_depth=8, criterion=mae, total=  36.7s\n",
      "[CV] min_samples_split=20, min_samples_leaf=40, max_leaf_nodes=100, max_depth=8, criterion=mae \n",
      "[CV]  min_samples_split=20, min_samples_leaf=40, max_leaf_nodes=100, max_depth=8, criterion=mae, total=  37.2s\n",
      "[CV] min_samples_split=20, min_samples_leaf=40, max_leaf_nodes=100, max_depth=8, criterion=mae \n",
      "[CV]  min_samples_split=20, min_samples_leaf=40, max_leaf_nodes=100, max_depth=8, criterion=mae, total=  36.2s\n",
      "[CV] min_samples_split=20, min_samples_leaf=40, max_leaf_nodes=100, max_depth=8, criterion=mae \n",
      "[CV]  min_samples_split=20, min_samples_leaf=40, max_leaf_nodes=100, max_depth=8, criterion=mae, total=  36.3s\n",
      "[CV] min_samples_split=20, min_samples_leaf=100, max_leaf_nodes=5, max_depth=8, criterion=mse \n",
      "[CV]  min_samples_split=20, min_samples_leaf=100, max_leaf_nodes=5, max_depth=8, criterion=mse, total=   0.4s\n",
      "[CV] min_samples_split=20, min_samples_leaf=100, max_leaf_nodes=5, max_depth=8, criterion=mse \n",
      "[CV]  min_samples_split=20, min_samples_leaf=100, max_leaf_nodes=5, max_depth=8, criterion=mse, total=   0.4s\n",
      "[CV] min_samples_split=20, min_samples_leaf=100, max_leaf_nodes=5, max_depth=8, criterion=mse \n",
      "[CV]  min_samples_split=20, min_samples_leaf=100, max_leaf_nodes=5, max_depth=8, criterion=mse, total=   0.4s\n",
      "[CV] min_samples_split=20, min_samples_leaf=100, max_leaf_nodes=5, max_depth=8, criterion=mse \n",
      "[CV]  min_samples_split=20, min_samples_leaf=100, max_leaf_nodes=5, max_depth=8, criterion=mse, total=   0.4s\n",
      "[CV] min_samples_split=20, min_samples_leaf=100, max_leaf_nodes=5, max_depth=8, criterion=mse \n",
      "[CV]  min_samples_split=20, min_samples_leaf=100, max_leaf_nodes=5, max_depth=8, criterion=mse, total=   0.4s\n",
      "[CV] min_samples_split=20, min_samples_leaf=40, max_leaf_nodes=5, max_depth=6, criterion=mse \n",
      "[CV]  min_samples_split=20, min_samples_leaf=40, max_leaf_nodes=5, max_depth=6, criterion=mse, total=   0.4s\n",
      "[CV] min_samples_split=20, min_samples_leaf=40, max_leaf_nodes=5, max_depth=6, criterion=mse \n",
      "[CV]  min_samples_split=20, min_samples_leaf=40, max_leaf_nodes=5, max_depth=6, criterion=mse, total=   0.4s\n",
      "[CV] min_samples_split=20, min_samples_leaf=40, max_leaf_nodes=5, max_depth=6, criterion=mse \n",
      "[CV]  min_samples_split=20, min_samples_leaf=40, max_leaf_nodes=5, max_depth=6, criterion=mse, total=   0.4s\n",
      "[CV] min_samples_split=20, min_samples_leaf=40, max_leaf_nodes=5, max_depth=6, criterion=mse \n",
      "[CV]  min_samples_split=20, min_samples_leaf=40, max_leaf_nodes=5, max_depth=6, criterion=mse, total=   0.4s\n",
      "[CV] min_samples_split=20, min_samples_leaf=40, max_leaf_nodes=5, max_depth=6, criterion=mse \n",
      "[CV]  min_samples_split=20, min_samples_leaf=40, max_leaf_nodes=5, max_depth=6, criterion=mse, total=   0.4s\n",
      "[CV] min_samples_split=20, min_samples_leaf=100, max_leaf_nodes=5, max_depth=2, criterion=mse \n",
      "[CV]  min_samples_split=20, min_samples_leaf=100, max_leaf_nodes=5, max_depth=2, criterion=mse, total=   0.3s\n",
      "[CV] min_samples_split=20, min_samples_leaf=100, max_leaf_nodes=5, max_depth=2, criterion=mse \n",
      "[CV]  min_samples_split=20, min_samples_leaf=100, max_leaf_nodes=5, max_depth=2, criterion=mse, total=   0.3s\n",
      "[CV] min_samples_split=20, min_samples_leaf=100, max_leaf_nodes=5, max_depth=2, criterion=mse \n",
      "[CV]  min_samples_split=20, min_samples_leaf=100, max_leaf_nodes=5, max_depth=2, criterion=mse, total=   0.3s\n",
      "[CV] min_samples_split=20, min_samples_leaf=100, max_leaf_nodes=5, max_depth=2, criterion=mse \n",
      "[CV]  min_samples_split=20, min_samples_leaf=100, max_leaf_nodes=5, max_depth=2, criterion=mse, total=   0.3s\n",
      "[CV] min_samples_split=20, min_samples_leaf=100, max_leaf_nodes=5, max_depth=2, criterion=mse \n",
      "[CV]  min_samples_split=20, min_samples_leaf=100, max_leaf_nodes=5, max_depth=2, criterion=mse, total=   0.3s\n",
      "[CV] min_samples_split=10, min_samples_leaf=40, max_leaf_nodes=5, max_depth=6, criterion=mae \n",
      "[CV]  min_samples_split=10, min_samples_leaf=40, max_leaf_nodes=5, max_depth=6, criterion=mae, total=  29.9s\n",
      "[CV] min_samples_split=10, min_samples_leaf=40, max_leaf_nodes=5, max_depth=6, criterion=mae \n",
      "[CV]  min_samples_split=10, min_samples_leaf=40, max_leaf_nodes=5, max_depth=6, criterion=mae, total=  30.5s\n",
      "[CV] min_samples_split=10, min_samples_leaf=40, max_leaf_nodes=5, max_depth=6, criterion=mae \n",
      "[CV]  min_samples_split=10, min_samples_leaf=40, max_leaf_nodes=5, max_depth=6, criterion=mae, total=  30.5s\n",
      "[CV] min_samples_split=10, min_samples_leaf=40, max_leaf_nodes=5, max_depth=6, criterion=mae \n",
      "[CV]  min_samples_split=10, min_samples_leaf=40, max_leaf_nodes=5, max_depth=6, criterion=mae, total=  29.8s\n",
      "[CV] min_samples_split=10, min_samples_leaf=40, max_leaf_nodes=5, max_depth=6, criterion=mae \n",
      "[CV]  min_samples_split=10, min_samples_leaf=40, max_leaf_nodes=5, max_depth=6, criterion=mae, total=  30.0s\n",
      "[CV] min_samples_split=20, min_samples_leaf=20, max_leaf_nodes=20, max_depth=2, criterion=mse \n",
      "[CV]  min_samples_split=20, min_samples_leaf=20, max_leaf_nodes=20, max_depth=2, criterion=mse, total=   0.3s\n",
      "[CV] min_samples_split=20, min_samples_leaf=20, max_leaf_nodes=20, max_depth=2, criterion=mse \n",
      "[CV]  min_samples_split=20, min_samples_leaf=20, max_leaf_nodes=20, max_depth=2, criterion=mse, total=   0.3s\n",
      "[CV] min_samples_split=20, min_samples_leaf=20, max_leaf_nodes=20, max_depth=2, criterion=mse \n",
      "[CV]  min_samples_split=20, min_samples_leaf=20, max_leaf_nodes=20, max_depth=2, criterion=mse, total=   0.3s\n",
      "[CV] min_samples_split=20, min_samples_leaf=20, max_leaf_nodes=20, max_depth=2, criterion=mse \n",
      "[CV]  min_samples_split=20, min_samples_leaf=20, max_leaf_nodes=20, max_depth=2, criterion=mse, total=   0.3s\n",
      "[CV] min_samples_split=20, min_samples_leaf=20, max_leaf_nodes=20, max_depth=2, criterion=mse \n",
      "[CV]  min_samples_split=20, min_samples_leaf=20, max_leaf_nodes=20, max_depth=2, criterion=mse, total=   0.3s\n",
      "[CV] min_samples_split=20, min_samples_leaf=20, max_leaf_nodes=5, max_depth=2, criterion=mae \n",
      "[CV]  min_samples_split=20, min_samples_leaf=20, max_leaf_nodes=5, max_depth=2, criterion=mae, total=  24.1s\n",
      "[CV] min_samples_split=20, min_samples_leaf=20, max_leaf_nodes=5, max_depth=2, criterion=mae \n",
      "[CV]  min_samples_split=20, min_samples_leaf=20, max_leaf_nodes=5, max_depth=2, criterion=mae, total=  24.9s\n",
      "[CV] min_samples_split=20, min_samples_leaf=20, max_leaf_nodes=5, max_depth=2, criterion=mae \n",
      "[CV]  min_samples_split=20, min_samples_leaf=20, max_leaf_nodes=5, max_depth=2, criterion=mae, total=  24.7s\n",
      "[CV] min_samples_split=20, min_samples_leaf=20, max_leaf_nodes=5, max_depth=2, criterion=mae \n",
      "[CV]  min_samples_split=20, min_samples_leaf=20, max_leaf_nodes=5, max_depth=2, criterion=mae, total=  24.6s\n",
      "[CV] min_samples_split=20, min_samples_leaf=20, max_leaf_nodes=5, max_depth=2, criterion=mae \n",
      "[CV]  min_samples_split=20, min_samples_leaf=20, max_leaf_nodes=5, max_depth=2, criterion=mae, total=  24.6s\n"
     ]
    },
    {
     "name": "stderr",
     "output_type": "stream",
     "text": [
      "[Parallel(n_jobs=1)]: Done  50 out of  50 | elapsed: 10.6min finished\n"
     ]
    },
    {
     "data": {
      "text/plain": [
       "RandomizedSearchCV(cv=5, estimator=RandomForestRegressor(), n_jobs=1,\n",
       "                   param_distributions={'criterion': ['mse', 'mae'],\n",
       "                                        'max_depth': [2, 6, 8],\n",
       "                                        'max_leaf_nodes': [5, 20, 100],\n",
       "                                        'min_samples_leaf': [20, 40, 100],\n",
       "                                        'min_samples_split': [10, 20, 40]},\n",
       "                   random_state=51, verbose=2)"
      ]
     },
     "execution_count": 158,
     "metadata": {},
     "output_type": "execute_result"
    }
   ],
   "source": [
    "rf_random.fit(features_train,target_train)"
   ]
  },
  {
   "cell_type": "code",
   "execution_count": 159,
   "metadata": {},
   "outputs": [
    {
     "data": {
      "text/plain": [
       "{'min_samples_split': 20,\n",
       " 'min_samples_leaf': 40,\n",
       " 'max_leaf_nodes': 100,\n",
       " 'max_depth': 8,\n",
       " 'criterion': 'mae'}"
      ]
     },
     "execution_count": 159,
     "metadata": {},
     "output_type": "execute_result"
    }
   ],
   "source": [
    "rf_random.best_params_"
   ]
  },
  {
   "cell_type": "code",
   "execution_count": 160,
   "metadata": {},
   "outputs": [],
   "source": [
    "rfr_prediction = rf_random.predict(features_test)"
   ]
  },
  {
   "cell_type": "code",
   "execution_count": 163,
   "metadata": {},
   "outputs": [
    {
     "data": {
      "text/plain": [
       "0.8008980842314759"
      ]
     },
     "execution_count": 163,
     "metadata": {},
     "output_type": "execute_result"
    }
   ],
   "source": [
    "rfr.score(features_test,rfr_prediction)"
   ]
  },
  {
   "cell_type": "code",
   "execution_count": 164,
   "metadata": {},
   "outputs": [
    {
     "data": {
      "image/png": "[encoded data removed]",
      "text/plain": [
       "<Figure size 432x288 with 1 Axes>"
      ]
     },
     "metadata": {
      "needs_background": "light"
     },
     "output_type": "display_data"
    }
   ],
   "source": [
    "ax=sns.distplot(target_test-rfr_prediction)\n",
    "plt.show()"
   ]
  },
  {
   "cell_type": "code",
   "execution_count": null,
   "metadata": {},
   "outputs": [],
   "source": []
  },
  {
   "cell_type": "code",
   "execution_count": 228,
   "metadata": {},
   "outputs": [],
   "source": [
    "import pickle\n",
    "\n",
    "filename = 'flight_price.pkl'\n",
    "pickle.dump(rf_random, open(filename,'wb'))"
   ]
  },
  {
   "cell_type": "code",
   "execution_count": null,
   "metadata": {},
   "outputs": [],
   "source": []
  },
  {
   "cell_type": "code",
   "execution_count": null,
   "metadata": {},
   "outputs": [],
   "source": []
  },
  {
   "cell_type": "code",
   "execution_count": null,
   "metadata": {},
   "outputs": [],
   "source": []
  },
  {
   "cell_type": "markdown",
   "metadata": {},
   "source": [
    "### TEST DATA"
   ]
  },
  {
   "cell_type": "code",
   "execution_count": 169,
   "metadata": {},
   "outputs": [],
   "source": [
    "# using same steps as done in training data...."
   ]
  },
  {
   "cell_type": "code",
   "execution_count": 170,
   "metadata": {},
   "outputs": [],
   "source": [
    "df_test=pd.read_excel('Flight Price Prediction_Test.xlsx')"
   ]
  },
  {
   "cell_type": "code",
   "execution_count": 171,
   "metadata": {},
   "outputs": [
    {
     "data": {
      "text/html": [
       "<div>\n",
       "<style scoped>\n",
       "    .dataframe tbody tr th:only-of-type {\n",
       "        vertical-align: middle;\n",
       "    }\n",
       "\n",
       "    .dataframe tbody tr th {\n",
       "        vertical-align: top;\n",
       "    }\n",
       "\n",
       "    .dataframe thead th {\n",
       "        text-align: right;\n",
       "    }\n",
       "</style>\n",
       "<table border=\"1\" class=\"dataframe\">\n",
       "  <thead>\n",
       "    <tr style=\"text-align: right;\">\n",
       "      <th></th>\n",
       "      <th>Airline</th>\n",
       "      <th>Date_of_Journey</th>\n",
       "      <th>Source</th>\n",
       "      <th>Destination</th>\n",
       "      <th>Route</th>\n",
       "      <th>Dep_Time</th>\n",
       "      <th>Arrival_Time</th>\n",
       "      <th>Duration</th>\n",
       "      <th>Total_Stops</th>\n",
       "      <th>Additional_Info</th>\n",
       "    </tr>\n",
       "  </thead>\n",
       "  <tbody>\n",
       "    <tr>\n",
       "      <th>0</th>\n",
       "      <td>Jet Airways</td>\n",
       "      <td>6/06/2019</td>\n",
       "      <td>Delhi</td>\n",
       "      <td>Cochin</td>\n",
       "      <td>DEL → BOM → COK</td>\n",
       "      <td>17:30</td>\n",
       "      <td>04:25 07 Jun</td>\n",
       "      <td>10h 55m</td>\n",
       "      <td>1 stop</td>\n",
       "      <td>No info</td>\n",
       "    </tr>\n",
       "    <tr>\n",
       "      <th>1</th>\n",
       "      <td>IndiGo</td>\n",
       "      <td>12/05/2019</td>\n",
       "      <td>Kolkata</td>\n",
       "      <td>Banglore</td>\n",
       "      <td>CCU → MAA → BLR</td>\n",
       "      <td>06:20</td>\n",
       "      <td>10:20</td>\n",
       "      <td>4h</td>\n",
       "      <td>1 stop</td>\n",
       "      <td>No info</td>\n",
       "    </tr>\n",
       "    <tr>\n",
       "      <th>2</th>\n",
       "      <td>Jet Airways</td>\n",
       "      <td>21/05/2019</td>\n",
       "      <td>Delhi</td>\n",
       "      <td>Cochin</td>\n",
       "      <td>DEL → BOM → COK</td>\n",
       "      <td>19:15</td>\n",
       "      <td>19:00 22 May</td>\n",
       "      <td>23h 45m</td>\n",
       "      <td>1 stop</td>\n",
       "      <td>In-flight meal not included</td>\n",
       "    </tr>\n",
       "    <tr>\n",
       "      <th>3</th>\n",
       "      <td>Multiple carriers</td>\n",
       "      <td>21/05/2019</td>\n",
       "      <td>Delhi</td>\n",
       "      <td>Cochin</td>\n",
       "      <td>DEL → BOM → COK</td>\n",
       "      <td>08:00</td>\n",
       "      <td>21:00</td>\n",
       "      <td>13h</td>\n",
       "      <td>1 stop</td>\n",
       "      <td>No info</td>\n",
       "    </tr>\n",
       "    <tr>\n",
       "      <th>4</th>\n",
       "      <td>Air Asia</td>\n",
       "      <td>24/06/2019</td>\n",
       "      <td>Banglore</td>\n",
       "      <td>Delhi</td>\n",
       "      <td>BLR → DEL</td>\n",
       "      <td>23:55</td>\n",
       "      <td>02:45 25 Jun</td>\n",
       "      <td>2h 50m</td>\n",
       "      <td>non-stop</td>\n",
       "      <td>No info</td>\n",
       "    </tr>\n",
       "  </tbody>\n",
       "</table>\n",
       "</div>"
      ],
      "text/plain": [
       "             Airline Date_of_Journey    Source Destination            Route  \\\n",
       "0        Jet Airways       6/06/2019     Delhi      Cochin  DEL → BOM → COK   \n",
       "1             IndiGo      12/05/2019   Kolkata    Banglore  CCU → MAA → BLR   \n",
       "2        Jet Airways      21/05/2019     Delhi      Cochin  DEL → BOM → COK   \n",
       "3  Multiple carriers      21/05/2019     Delhi      Cochin  DEL → BOM → COK   \n",
       "4           Air Asia      24/06/2019  Banglore       Delhi        BLR → DEL   \n",
       "\n",
       "  Dep_Time  Arrival_Time Duration Total_Stops              Additional_Info  \n",
       "0    17:30  04:25 07 Jun  10h 55m      1 stop                      No info  \n",
       "1    06:20         10:20       4h      1 stop                      No info  \n",
       "2    19:15  19:00 22 May  23h 45m      1 stop  In-flight meal not included  \n",
       "3    08:00         21:00      13h      1 stop                      No info  \n",
       "4    23:55  02:45 25 Jun   2h 50m    non-stop                      No info  "
      ]
     },
     "execution_count": 171,
     "metadata": {},
     "output_type": "execute_result"
    }
   ],
   "source": [
    "df_test.head()"
   ]
  },
  {
   "cell_type": "code",
   "execution_count": 172,
   "metadata": {},
   "outputs": [
    {
     "data": {
      "text/plain": [
       "Airline            0\n",
       "Date_of_Journey    0\n",
       "Source             0\n",
       "Destination        0\n",
       "Route              0\n",
       "Dep_Time           0\n",
       "Arrival_Time       0\n",
       "Duration           0\n",
       "Total_Stops        0\n",
       "Additional_Info    0\n",
       "dtype: int64"
      ]
     },
     "execution_count": 172,
     "metadata": {},
     "output_type": "execute_result"
    }
   ],
   "source": [
    "df_test.isnull().sum()"
   ]
  },
  {
   "cell_type": "code",
   "execution_count": 173,
   "metadata": {},
   "outputs": [],
   "source": [
    "df_test.drop(columns=['Additional_Info'],inplace=True)"
   ]
  },
  {
   "cell_type": "code",
   "execution_count": null,
   "metadata": {},
   "outputs": [],
   "source": []
  },
  {
   "cell_type": "code",
   "execution_count": 174,
   "metadata": {},
   "outputs": [
    {
     "data": {
      "text/plain": [
       "(2671, 9)"
      ]
     },
     "execution_count": 174,
     "metadata": {},
     "output_type": "execute_result"
    }
   ],
   "source": [
    "df_test.shape"
   ]
  },
  {
   "cell_type": "code",
   "execution_count": 175,
   "metadata": {},
   "outputs": [
    {
     "name": "stdout",
     "output_type": "stream",
     "text": [
      "<class 'pandas.core.frame.DataFrame'>\n",
      "RangeIndex: 2671 entries, 0 to 2670\n",
      "Data columns (total 9 columns):\n",
      " #   Column           Non-Null Count  Dtype \n",
      "---  ------           --------------  ----- \n",
      " 0   Airline          2671 non-null   object\n",
      " 1   Date_of_Journey  2671 non-null   object\n",
      " 2   Source           2671 non-null   object\n",
      " 3   Destination      2671 non-null   object\n",
      " 4   Route            2671 non-null   object\n",
      " 5   Dep_Time         2671 non-null   object\n",
      " 6   Arrival_Time     2671 non-null   object\n",
      " 7   Duration         2671 non-null   object\n",
      " 8   Total_Stops      2671 non-null   object\n",
      "dtypes: object(9)\n",
      "memory usage: 187.9+ KB\n"
     ]
    }
   ],
   "source": [
    "df_test.info()"
   ]
  },
  {
   "cell_type": "code",
   "execution_count": 176,
   "metadata": {},
   "outputs": [],
   "source": [
    "#Extracting date time from Date_ofJourney.\n",
    "\n",
    "\n",
    "df_test['JourneyDate']=pd.to_datetime(df_test.Date_of_Journey, format='%d/%m/%Y').dt.day\n",
    "df_test['JourneyMonth']=pd.to_datetime(df_test.Date_of_Journey, format='%d/%m/%Y').dt.month"
   ]
  },
  {
   "cell_type": "code",
   "execution_count": 177,
   "metadata": {},
   "outputs": [],
   "source": [
    "#dropping Date_of_Journey\n",
    "\n",
    "df_test.drop(columns=['Date_of_Journey'],inplace=True)"
   ]
  },
  {
   "cell_type": "code",
   "execution_count": 178,
   "metadata": {},
   "outputs": [],
   "source": [
    "# Extracting Departure time \n",
    "\n",
    "\n",
    "df_test['Dep_hr']=pd.to_datetime(df_test['Dep_Time']).dt.hour\n",
    "df_test['Dep_min']=pd.to_datetime(df_test['Dep_Time']).dt.minute\n",
    "\n",
    "# Now dropping the Dep_Time\n",
    "df_test.drop(columns=['Dep_Time'],inplace=True)"
   ]
  },
  {
   "cell_type": "code",
   "execution_count": 179,
   "metadata": {},
   "outputs": [],
   "source": [
    "#extracting Arrival time\n",
    "\n",
    "df_test['Arrival_hr']=pd.to_datetime(df_test.Arrival_Time).dt.hour\n",
    "\n",
    "df_test['Arrival_min']=pd.to_datetime(df_test.Arrival_Time).dt.minute\n",
    "\n",
    "df_test.drop(columns=['Arrival_Time'],inplace=True)"
   ]
  },
  {
   "cell_type": "code",
   "execution_count": 180,
   "metadata": {},
   "outputs": [
    {
     "data": {
      "text/html": [
       "<div>\n",
       "<style scoped>\n",
       "    .dataframe tbody tr th:only-of-type {\n",
       "        vertical-align: middle;\n",
       "    }\n",
       "\n",
       "    .dataframe tbody tr th {\n",
       "        vertical-align: top;\n",
       "    }\n",
       "\n",
       "    .dataframe thead th {\n",
       "        text-align: right;\n",
       "    }\n",
       "</style>\n",
       "<table border=\"1\" class=\"dataframe\">\n",
       "  <thead>\n",
       "    <tr style=\"text-align: right;\">\n",
       "      <th></th>\n",
       "      <th>Airline</th>\n",
       "      <th>Source</th>\n",
       "      <th>Destination</th>\n",
       "      <th>Route</th>\n",
       "      <th>Duration</th>\n",
       "      <th>Total_Stops</th>\n",
       "      <th>JourneyDate</th>\n",
       "      <th>JourneyMonth</th>\n",
       "      <th>Dep_hr</th>\n",
       "      <th>Dep_min</th>\n",
       "      <th>Arrival_hr</th>\n",
       "      <th>Arrival_min</th>\n",
       "    </tr>\n",
       "  </thead>\n",
       "  <tbody>\n",
       "    <tr>\n",
       "      <th>0</th>\n",
       "      <td>Jet Airways</td>\n",
       "      <td>Delhi</td>\n",
       "      <td>Cochin</td>\n",
       "      <td>DEL → BOM → COK</td>\n",
       "      <td>10h 55m</td>\n",
       "      <td>1 stop</td>\n",
       "      <td>6</td>\n",
       "      <td>6</td>\n",
       "      <td>17</td>\n",
       "      <td>30</td>\n",
       "      <td>4</td>\n",
       "      <td>25</td>\n",
       "    </tr>\n",
       "    <tr>\n",
       "      <th>1</th>\n",
       "      <td>IndiGo</td>\n",
       "      <td>Kolkata</td>\n",
       "      <td>Banglore</td>\n",
       "      <td>CCU → MAA → BLR</td>\n",
       "      <td>4h</td>\n",
       "      <td>1 stop</td>\n",
       "      <td>12</td>\n",
       "      <td>5</td>\n",
       "      <td>6</td>\n",
       "      <td>20</td>\n",
       "      <td>10</td>\n",
       "      <td>20</td>\n",
       "    </tr>\n",
       "    <tr>\n",
       "      <th>2</th>\n",
       "      <td>Jet Airways</td>\n",
       "      <td>Delhi</td>\n",
       "      <td>Cochin</td>\n",
       "      <td>DEL → BOM → COK</td>\n",
       "      <td>23h 45m</td>\n",
       "      <td>1 stop</td>\n",
       "      <td>21</td>\n",
       "      <td>5</td>\n",
       "      <td>19</td>\n",
       "      <td>15</td>\n",
       "      <td>19</td>\n",
       "      <td>0</td>\n",
       "    </tr>\n",
       "    <tr>\n",
       "      <th>3</th>\n",
       "      <td>Multiple carriers</td>\n",
       "      <td>Delhi</td>\n",
       "      <td>Cochin</td>\n",
       "      <td>DEL → BOM → COK</td>\n",
       "      <td>13h</td>\n",
       "      <td>1 stop</td>\n",
       "      <td>21</td>\n",
       "      <td>5</td>\n",
       "      <td>8</td>\n",
       "      <td>0</td>\n",
       "      <td>21</td>\n",
       "      <td>0</td>\n",
       "    </tr>\n",
       "    <tr>\n",
       "      <th>4</th>\n",
       "      <td>Air Asia</td>\n",
       "      <td>Banglore</td>\n",
       "      <td>Delhi</td>\n",
       "      <td>BLR → DEL</td>\n",
       "      <td>2h 50m</td>\n",
       "      <td>non-stop</td>\n",
       "      <td>24</td>\n",
       "      <td>6</td>\n",
       "      <td>23</td>\n",
       "      <td>55</td>\n",
       "      <td>2</td>\n",
       "      <td>45</td>\n",
       "    </tr>\n",
       "  </tbody>\n",
       "</table>\n",
       "</div>"
      ],
      "text/plain": [
       "             Airline    Source Destination            Route Duration  \\\n",
       "0        Jet Airways     Delhi      Cochin  DEL → BOM → COK  10h 55m   \n",
       "1             IndiGo   Kolkata    Banglore  CCU → MAA → BLR       4h   \n",
       "2        Jet Airways     Delhi      Cochin  DEL → BOM → COK  23h 45m   \n",
       "3  Multiple carriers     Delhi      Cochin  DEL → BOM → COK      13h   \n",
       "4           Air Asia  Banglore       Delhi        BLR → DEL   2h 50m   \n",
       "\n",
       "  Total_Stops  JourneyDate  JourneyMonth  Dep_hr  Dep_min  Arrival_hr  \\\n",
       "0      1 stop            6             6      17       30           4   \n",
       "1      1 stop           12             5       6       20          10   \n",
       "2      1 stop           21             5      19       15          19   \n",
       "3      1 stop           21             5       8        0          21   \n",
       "4    non-stop           24             6      23       55           2   \n",
       "\n",
       "   Arrival_min  \n",
       "0           25  \n",
       "1           20  \n",
       "2            0  \n",
       "3            0  \n",
       "4           45  "
      ]
     },
     "execution_count": 180,
     "metadata": {},
     "output_type": "execute_result"
    }
   ],
   "source": [
    "df_test.head()"
   ]
  },
  {
   "cell_type": "markdown",
   "metadata": {},
   "source": [
    "###### Extracting duraion..\n",
    "\n",
    "So in duration column\n",
    "- I'm going to split the data in betwwn hr and mins\n",
    "- check null values in new columns..\n",
    "- clean it further..\n",
    "- then convert hrs in mins by multi by 60\n",
    "- then adding converted mins to mins..\n",
    "- then adding new data in main data frame.."
   ]
  },
  {
   "cell_type": "code",
   "execution_count": 182,
   "metadata": {},
   "outputs": [
    {
     "data": {
      "text/plain": [
       "0       [10,  55m]\n",
       "1            [4, ]\n",
       "2       [23,  45m]\n",
       "3           [13, ]\n",
       "4        [2,  50m]\n",
       "           ...    \n",
       "2666    [23,  55m]\n",
       "2667     [2,  35m]\n",
       "2668     [6,  35m]\n",
       "2669    [15,  15m]\n",
       "2670    [14,  20m]\n",
       "Name: Duration, Length: 2671, dtype: object"
      ]
     },
     "execution_count": 182,
     "metadata": {},
     "output_type": "execute_result"
    }
   ],
   "source": [
    "df_test['Duration'].str.split('h')"
   ]
  },
  {
   "cell_type": "code",
   "execution_count": 183,
   "metadata": {},
   "outputs": [],
   "source": [
    "x=df_test['Duration'].str.split('h',expand=True)"
   ]
  },
  {
   "cell_type": "code",
   "execution_count": 184,
   "metadata": {},
   "outputs": [
    {
     "data": {
      "text/html": [
       "<div>\n",
       "<style scoped>\n",
       "    .dataframe tbody tr th:only-of-type {\n",
       "        vertical-align: middle;\n",
       "    }\n",
       "\n",
       "    .dataframe tbody tr th {\n",
       "        vertical-align: top;\n",
       "    }\n",
       "\n",
       "    .dataframe thead th {\n",
       "        text-align: right;\n",
       "    }\n",
       "</style>\n",
       "<table border=\"1\" class=\"dataframe\">\n",
       "  <thead>\n",
       "    <tr style=\"text-align: right;\">\n",
       "      <th></th>\n",
       "      <th>0</th>\n",
       "      <th>1</th>\n",
       "    </tr>\n",
       "  </thead>\n",
       "  <tbody>\n",
       "    <tr>\n",
       "      <th>0</th>\n",
       "      <td>10</td>\n",
       "      <td>55m</td>\n",
       "    </tr>\n",
       "    <tr>\n",
       "      <th>1</th>\n",
       "      <td>4</td>\n",
       "      <td></td>\n",
       "    </tr>\n",
       "    <tr>\n",
       "      <th>2</th>\n",
       "      <td>23</td>\n",
       "      <td>45m</td>\n",
       "    </tr>\n",
       "    <tr>\n",
       "      <th>3</th>\n",
       "      <td>13</td>\n",
       "      <td></td>\n",
       "    </tr>\n",
       "    <tr>\n",
       "      <th>4</th>\n",
       "      <td>2</td>\n",
       "      <td>50m</td>\n",
       "    </tr>\n",
       "    <tr>\n",
       "      <th>...</th>\n",
       "      <td>...</td>\n",
       "      <td>...</td>\n",
       "    </tr>\n",
       "    <tr>\n",
       "      <th>2666</th>\n",
       "      <td>23</td>\n",
       "      <td>55m</td>\n",
       "    </tr>\n",
       "    <tr>\n",
       "      <th>2667</th>\n",
       "      <td>2</td>\n",
       "      <td>35m</td>\n",
       "    </tr>\n",
       "    <tr>\n",
       "      <th>2668</th>\n",
       "      <td>6</td>\n",
       "      <td>35m</td>\n",
       "    </tr>\n",
       "    <tr>\n",
       "      <th>2669</th>\n",
       "      <td>15</td>\n",
       "      <td>15m</td>\n",
       "    </tr>\n",
       "    <tr>\n",
       "      <th>2670</th>\n",
       "      <td>14</td>\n",
       "      <td>20m</td>\n",
       "    </tr>\n",
       "  </tbody>\n",
       "</table>\n",
       "<p>2671 rows × 2 columns</p>\n",
       "</div>"
      ],
      "text/plain": [
       "       0     1\n",
       "0     10   55m\n",
       "1      4      \n",
       "2     23   45m\n",
       "3     13      \n",
       "4      2   50m\n",
       "...   ..   ...\n",
       "2666  23   55m\n",
       "2667   2   35m\n",
       "2668   6   35m\n",
       "2669  15   15m\n",
       "2670  14   20m\n",
       "\n",
       "[2671 rows x 2 columns]"
      ]
     },
     "execution_count": 184,
     "metadata": {},
     "output_type": "execute_result"
    }
   ],
   "source": [
    "x"
   ]
  },
  {
   "cell_type": "code",
   "execution_count": 185,
   "metadata": {},
   "outputs": [
    {
     "data": {
      "text/plain": [
       "0    0\n",
       "1    1\n",
       "dtype: int64"
      ]
     },
     "execution_count": 185,
     "metadata": {},
     "output_type": "execute_result"
    }
   ],
   "source": [
    "x.isnull().sum()"
   ]
  },
  {
   "cell_type": "code",
   "execution_count": 186,
   "metadata": {},
   "outputs": [],
   "source": [
    " x[1] = x[1].fillna(0)"
   ]
  },
  {
   "cell_type": "code",
   "execution_count": 187,
   "metadata": {},
   "outputs": [],
   "source": [
    "x.rename(columns={0:'Duration_Hrs',1:'Duration_mins'},inplace=True)"
   ]
  },
  {
   "cell_type": "code",
   "execution_count": 188,
   "metadata": {},
   "outputs": [
    {
     "data": {
      "text/html": [
       "<div>\n",
       "<style scoped>\n",
       "    .dataframe tbody tr th:only-of-type {\n",
       "        vertical-align: middle;\n",
       "    }\n",
       "\n",
       "    .dataframe tbody tr th {\n",
       "        vertical-align: top;\n",
       "    }\n",
       "\n",
       "    .dataframe thead th {\n",
       "        text-align: right;\n",
       "    }\n",
       "</style>\n",
       "<table border=\"1\" class=\"dataframe\">\n",
       "  <thead>\n",
       "    <tr style=\"text-align: right;\">\n",
       "      <th></th>\n",
       "      <th>Duration_Hrs</th>\n",
       "      <th>Duration_mins</th>\n",
       "    </tr>\n",
       "  </thead>\n",
       "  <tbody>\n",
       "    <tr>\n",
       "      <th>0</th>\n",
       "      <td>10</td>\n",
       "      <td>55m</td>\n",
       "    </tr>\n",
       "    <tr>\n",
       "      <th>1</th>\n",
       "      <td>4</td>\n",
       "      <td></td>\n",
       "    </tr>\n",
       "    <tr>\n",
       "      <th>2</th>\n",
       "      <td>23</td>\n",
       "      <td>45m</td>\n",
       "    </tr>\n",
       "    <tr>\n",
       "      <th>3</th>\n",
       "      <td>13</td>\n",
       "      <td></td>\n",
       "    </tr>\n",
       "    <tr>\n",
       "      <th>4</th>\n",
       "      <td>2</td>\n",
       "      <td>50m</td>\n",
       "    </tr>\n",
       "    <tr>\n",
       "      <th>...</th>\n",
       "      <td>...</td>\n",
       "      <td>...</td>\n",
       "    </tr>\n",
       "    <tr>\n",
       "      <th>2666</th>\n",
       "      <td>23</td>\n",
       "      <td>55m</td>\n",
       "    </tr>\n",
       "    <tr>\n",
       "      <th>2667</th>\n",
       "      <td>2</td>\n",
       "      <td>35m</td>\n",
       "    </tr>\n",
       "    <tr>\n",
       "      <th>2668</th>\n",
       "      <td>6</td>\n",
       "      <td>35m</td>\n",
       "    </tr>\n",
       "    <tr>\n",
       "      <th>2669</th>\n",
       "      <td>15</td>\n",
       "      <td>15m</td>\n",
       "    </tr>\n",
       "    <tr>\n",
       "      <th>2670</th>\n",
       "      <td>14</td>\n",
       "      <td>20m</td>\n",
       "    </tr>\n",
       "  </tbody>\n",
       "</table>\n",
       "<p>2671 rows × 2 columns</p>\n",
       "</div>"
      ],
      "text/plain": [
       "     Duration_Hrs Duration_mins\n",
       "0              10           55m\n",
       "1               4              \n",
       "2              23           45m\n",
       "3              13              \n",
       "4               2           50m\n",
       "...           ...           ...\n",
       "2666           23           55m\n",
       "2667            2           35m\n",
       "2668            6           35m\n",
       "2669           15           15m\n",
       "2670           14           20m\n",
       "\n",
       "[2671 rows x 2 columns]"
      ]
     },
     "execution_count": 188,
     "metadata": {},
     "output_type": "execute_result"
    }
   ],
   "source": [
    "x"
   ]
  },
  {
   "cell_type": "code",
   "execution_count": 189,
   "metadata": {},
   "outputs": [
    {
     "data": {
      "text/plain": [
       "array([' 55m', '', ' 45m', ' 50m', ' 20m', ' 5m', ' 15m', ' 40m', ' 10m',\n",
       "       ' 35m', ' 30m', ' 25m', 0], dtype=object)"
      ]
     },
     "execution_count": 189,
     "metadata": {},
     "output_type": "execute_result"
    }
   ],
   "source": [
    "x['Duration_mins'].unique()"
   ]
  },
  {
   "cell_type": "code",
   "execution_count": 190,
   "metadata": {},
   "outputs": [],
   "source": [
    "x['Duration_mins']=x.Duration_mins.str.replace(' None','0')"
   ]
  },
  {
   "cell_type": "code",
   "execution_count": 191,
   "metadata": {},
   "outputs": [],
   "source": [
    "y=x['Duration_mins'].str.split(' ',expand=True)"
   ]
  },
  {
   "cell_type": "code",
   "execution_count": 192,
   "metadata": {},
   "outputs": [
    {
     "data": {
      "text/html": [
       "<div>\n",
       "<style scoped>\n",
       "    .dataframe tbody tr th:only-of-type {\n",
       "        vertical-align: middle;\n",
       "    }\n",
       "\n",
       "    .dataframe tbody tr th {\n",
       "        vertical-align: top;\n",
       "    }\n",
       "\n",
       "    .dataframe thead th {\n",
       "        text-align: right;\n",
       "    }\n",
       "</style>\n",
       "<table border=\"1\" class=\"dataframe\">\n",
       "  <thead>\n",
       "    <tr style=\"text-align: right;\">\n",
       "      <th></th>\n",
       "      <th>0</th>\n",
       "      <th>1</th>\n",
       "    </tr>\n",
       "  </thead>\n",
       "  <tbody>\n",
       "    <tr>\n",
       "      <th>0</th>\n",
       "      <td></td>\n",
       "      <td>55m</td>\n",
       "    </tr>\n",
       "    <tr>\n",
       "      <th>1</th>\n",
       "      <td></td>\n",
       "      <td>None</td>\n",
       "    </tr>\n",
       "    <tr>\n",
       "      <th>2</th>\n",
       "      <td></td>\n",
       "      <td>45m</td>\n",
       "    </tr>\n",
       "    <tr>\n",
       "      <th>3</th>\n",
       "      <td></td>\n",
       "      <td>None</td>\n",
       "    </tr>\n",
       "    <tr>\n",
       "      <th>4</th>\n",
       "      <td></td>\n",
       "      <td>50m</td>\n",
       "    </tr>\n",
       "    <tr>\n",
       "      <th>...</th>\n",
       "      <td>...</td>\n",
       "      <td>...</td>\n",
       "    </tr>\n",
       "    <tr>\n",
       "      <th>2666</th>\n",
       "      <td></td>\n",
       "      <td>55m</td>\n",
       "    </tr>\n",
       "    <tr>\n",
       "      <th>2667</th>\n",
       "      <td></td>\n",
       "      <td>35m</td>\n",
       "    </tr>\n",
       "    <tr>\n",
       "      <th>2668</th>\n",
       "      <td></td>\n",
       "      <td>35m</td>\n",
       "    </tr>\n",
       "    <tr>\n",
       "      <th>2669</th>\n",
       "      <td></td>\n",
       "      <td>15m</td>\n",
       "    </tr>\n",
       "    <tr>\n",
       "      <th>2670</th>\n",
       "      <td></td>\n",
       "      <td>20m</td>\n",
       "    </tr>\n",
       "  </tbody>\n",
       "</table>\n",
       "<p>2671 rows × 2 columns</p>\n",
       "</div>"
      ],
      "text/plain": [
       "     0      1\n",
       "0         55m\n",
       "1        None\n",
       "2         45m\n",
       "3        None\n",
       "4         50m\n",
       "...  ..   ...\n",
       "2666      55m\n",
       "2667      35m\n",
       "2668      35m\n",
       "2669      15m\n",
       "2670      20m\n",
       "\n",
       "[2671 rows x 2 columns]"
      ]
     },
     "execution_count": 192,
     "metadata": {},
     "output_type": "execute_result"
    }
   ],
   "source": [
    "y"
   ]
  },
  {
   "cell_type": "code",
   "execution_count": 193,
   "metadata": {},
   "outputs": [],
   "source": [
    "# further splitting coluns to extract just the numbers..."
   ]
  },
  {
   "cell_type": "code",
   "execution_count": 194,
   "metadata": {},
   "outputs": [],
   "source": [
    "z=y[1].str.split('m',expand =True)"
   ]
  },
  {
   "cell_type": "code",
   "execution_count": 195,
   "metadata": {},
   "outputs": [
    {
     "data": {
      "text/html": [
       "<div>\n",
       "<style scoped>\n",
       "    .dataframe tbody tr th:only-of-type {\n",
       "        vertical-align: middle;\n",
       "    }\n",
       "\n",
       "    .dataframe tbody tr th {\n",
       "        vertical-align: top;\n",
       "    }\n",
       "\n",
       "    .dataframe thead th {\n",
       "        text-align: right;\n",
       "    }\n",
       "</style>\n",
       "<table border=\"1\" class=\"dataframe\">\n",
       "  <thead>\n",
       "    <tr style=\"text-align: right;\">\n",
       "      <th></th>\n",
       "      <th>0</th>\n",
       "      <th>1</th>\n",
       "    </tr>\n",
       "  </thead>\n",
       "  <tbody>\n",
       "    <tr>\n",
       "      <th>0</th>\n",
       "      <td>55</td>\n",
       "      <td></td>\n",
       "    </tr>\n",
       "    <tr>\n",
       "      <th>1</th>\n",
       "      <td>None</td>\n",
       "      <td>None</td>\n",
       "    </tr>\n",
       "    <tr>\n",
       "      <th>2</th>\n",
       "      <td>45</td>\n",
       "      <td></td>\n",
       "    </tr>\n",
       "    <tr>\n",
       "      <th>3</th>\n",
       "      <td>None</td>\n",
       "      <td>None</td>\n",
       "    </tr>\n",
       "    <tr>\n",
       "      <th>4</th>\n",
       "      <td>50</td>\n",
       "      <td></td>\n",
       "    </tr>\n",
       "    <tr>\n",
       "      <th>...</th>\n",
       "      <td>...</td>\n",
       "      <td>...</td>\n",
       "    </tr>\n",
       "    <tr>\n",
       "      <th>2666</th>\n",
       "      <td>55</td>\n",
       "      <td></td>\n",
       "    </tr>\n",
       "    <tr>\n",
       "      <th>2667</th>\n",
       "      <td>35</td>\n",
       "      <td></td>\n",
       "    </tr>\n",
       "    <tr>\n",
       "      <th>2668</th>\n",
       "      <td>35</td>\n",
       "      <td></td>\n",
       "    </tr>\n",
       "    <tr>\n",
       "      <th>2669</th>\n",
       "      <td>15</td>\n",
       "      <td></td>\n",
       "    </tr>\n",
       "    <tr>\n",
       "      <th>2670</th>\n",
       "      <td>20</td>\n",
       "      <td></td>\n",
       "    </tr>\n",
       "  </tbody>\n",
       "</table>\n",
       "<p>2671 rows × 2 columns</p>\n",
       "</div>"
      ],
      "text/plain": [
       "         0     1\n",
       "0       55      \n",
       "1     None  None\n",
       "2       45      \n",
       "3     None  None\n",
       "4       50      \n",
       "...    ...   ...\n",
       "2666    55      \n",
       "2667    35      \n",
       "2668    35      \n",
       "2669    15      \n",
       "2670    20      \n",
       "\n",
       "[2671 rows x 2 columns]"
      ]
     },
     "execution_count": 195,
     "metadata": {},
     "output_type": "execute_result"
    }
   ],
   "source": [
    "z"
   ]
  },
  {
   "cell_type": "code",
   "execution_count": 196,
   "metadata": {},
   "outputs": [],
   "source": [
    "z.rename(columns={0:'min'}, inplace= True)"
   ]
  },
  {
   "cell_type": "code",
   "execution_count": 197,
   "metadata": {},
   "outputs": [
    {
     "data": {
      "text/plain": [
       "array(['55', None, '45', '50', '20', '5', '15', '40', '10', '35', '30',\n",
       "       '25', nan], dtype=object)"
      ]
     },
     "execution_count": 197,
     "metadata": {},
     "output_type": "execute_result"
    }
   ],
   "source": [
    "z['min'].unique()"
   ]
  },
  {
   "cell_type": "code",
   "execution_count": 198,
   "metadata": {},
   "outputs": [],
   "source": [
    "z['min']=z['min'].fillna(0)"
   ]
  },
  {
   "cell_type": "code",
   "execution_count": 199,
   "metadata": {},
   "outputs": [],
   "source": [
    "z['min']=z['min'].astype(str).astype(int)"
   ]
  },
  {
   "cell_type": "code",
   "execution_count": 200,
   "metadata": {},
   "outputs": [
    {
     "data": {
      "text/plain": [
       "min     int32\n",
       "1      object\n",
       "dtype: object"
      ]
     },
     "execution_count": 200,
     "metadata": {},
     "output_type": "execute_result"
    }
   ],
   "source": [
    "z.dtypes"
   ]
  },
  {
   "cell_type": "code",
   "execution_count": 201,
   "metadata": {},
   "outputs": [],
   "source": [
    "#concatnating two dataframes.....\n",
    "\n",
    "\n",
    "\n",
    "durr=pd.concat([z,x],axis=1)"
   ]
  },
  {
   "cell_type": "code",
   "execution_count": 202,
   "metadata": {},
   "outputs": [
    {
     "data": {
      "text/html": [
       "<div>\n",
       "<style scoped>\n",
       "    .dataframe tbody tr th:only-of-type {\n",
       "        vertical-align: middle;\n",
       "    }\n",
       "\n",
       "    .dataframe tbody tr th {\n",
       "        vertical-align: top;\n",
       "    }\n",
       "\n",
       "    .dataframe thead th {\n",
       "        text-align: right;\n",
       "    }\n",
       "</style>\n",
       "<table border=\"1\" class=\"dataframe\">\n",
       "  <thead>\n",
       "    <tr style=\"text-align: right;\">\n",
       "      <th></th>\n",
       "      <th>min</th>\n",
       "      <th>1</th>\n",
       "      <th>Duration_Hrs</th>\n",
       "      <th>Duration_mins</th>\n",
       "    </tr>\n",
       "  </thead>\n",
       "  <tbody>\n",
       "    <tr>\n",
       "      <th>0</th>\n",
       "      <td>55</td>\n",
       "      <td></td>\n",
       "      <td>10</td>\n",
       "      <td>55m</td>\n",
       "    </tr>\n",
       "    <tr>\n",
       "      <th>1</th>\n",
       "      <td>0</td>\n",
       "      <td>None</td>\n",
       "      <td>4</td>\n",
       "      <td></td>\n",
       "    </tr>\n",
       "    <tr>\n",
       "      <th>2</th>\n",
       "      <td>45</td>\n",
       "      <td></td>\n",
       "      <td>23</td>\n",
       "      <td>45m</td>\n",
       "    </tr>\n",
       "    <tr>\n",
       "      <th>3</th>\n",
       "      <td>0</td>\n",
       "      <td>None</td>\n",
       "      <td>13</td>\n",
       "      <td></td>\n",
       "    </tr>\n",
       "    <tr>\n",
       "      <th>4</th>\n",
       "      <td>50</td>\n",
       "      <td></td>\n",
       "      <td>2</td>\n",
       "      <td>50m</td>\n",
       "    </tr>\n",
       "    <tr>\n",
       "      <th>...</th>\n",
       "      <td>...</td>\n",
       "      <td>...</td>\n",
       "      <td>...</td>\n",
       "      <td>...</td>\n",
       "    </tr>\n",
       "    <tr>\n",
       "      <th>2666</th>\n",
       "      <td>55</td>\n",
       "      <td></td>\n",
       "      <td>23</td>\n",
       "      <td>55m</td>\n",
       "    </tr>\n",
       "    <tr>\n",
       "      <th>2667</th>\n",
       "      <td>35</td>\n",
       "      <td></td>\n",
       "      <td>2</td>\n",
       "      <td>35m</td>\n",
       "    </tr>\n",
       "    <tr>\n",
       "      <th>2668</th>\n",
       "      <td>35</td>\n",
       "      <td></td>\n",
       "      <td>6</td>\n",
       "      <td>35m</td>\n",
       "    </tr>\n",
       "    <tr>\n",
       "      <th>2669</th>\n",
       "      <td>15</td>\n",
       "      <td></td>\n",
       "      <td>15</td>\n",
       "      <td>15m</td>\n",
       "    </tr>\n",
       "    <tr>\n",
       "      <th>2670</th>\n",
       "      <td>20</td>\n",
       "      <td></td>\n",
       "      <td>14</td>\n",
       "      <td>20m</td>\n",
       "    </tr>\n",
       "  </tbody>\n",
       "</table>\n",
       "<p>2671 rows × 4 columns</p>\n",
       "</div>"
      ],
      "text/plain": [
       "      min     1 Duration_Hrs Duration_mins\n",
       "0      55                 10           55m\n",
       "1       0  None            4              \n",
       "2      45                 23           45m\n",
       "3       0  None           13              \n",
       "4      50                  2           50m\n",
       "...   ...   ...          ...           ...\n",
       "2666   55                 23           55m\n",
       "2667   35                  2           35m\n",
       "2668   35                  6           35m\n",
       "2669   15                 15           15m\n",
       "2670   20                 14           20m\n",
       "\n",
       "[2671 rows x 4 columns]"
      ]
     },
     "execution_count": 202,
     "metadata": {},
     "output_type": "execute_result"
    }
   ],
   "source": [
    "durr"
   ]
  },
  {
   "cell_type": "code",
   "execution_count": 203,
   "metadata": {},
   "outputs": [],
   "source": [
    "# DROPPING COLUMNS\n",
    "\n",
    "durr.drop(columns=[1,'Duration_mins'],inplace=True)"
   ]
  },
  {
   "cell_type": "code",
   "execution_count": 204,
   "metadata": {},
   "outputs": [
    {
     "data": {
      "text/plain": [
       "array(['10', '4', '23', '13', '2', '18', '15', '5', '6', '28', '9', '17',\n",
       "       '12', '14', '11', '25', '19', '7', '3', '1', '27', '26', '8', '21',\n",
       "       '16', '22', '33', '24', '38', '20', '35', '31', '34', '29', '30',\n",
       "       '37', '36', '39', '32', '40', '5m'], dtype=object)"
      ]
     },
     "execution_count": 204,
     "metadata": {},
     "output_type": "execute_result"
    }
   ],
   "source": [
    "durr['Duration_Hrs'].unique()"
   ]
  },
  {
   "cell_type": "code",
   "execution_count": 205,
   "metadata": {},
   "outputs": [],
   "source": [
    "durr['Duration_Hrs']=durr.Duration_Hrs.str.replace('5m','0')"
   ]
  },
  {
   "cell_type": "code",
   "execution_count": 206,
   "metadata": {},
   "outputs": [],
   "source": [
    "durr['Duration_Hrs']=durr['Duration_Hrs'].astype(str).astype(int)"
   ]
  },
  {
   "cell_type": "code",
   "execution_count": 207,
   "metadata": {},
   "outputs": [],
   "source": [
    "#coverting hrs to mins...\n",
    "\n",
    "durr['Duration_Hrs']=durr['Duration_Hrs']*60"
   ]
  },
  {
   "cell_type": "code",
   "execution_count": 208,
   "metadata": {},
   "outputs": [
    {
     "data": {
      "text/plain": [
       "0        600\n",
       "1        240\n",
       "2       1380\n",
       "3        780\n",
       "4        120\n",
       "        ... \n",
       "2666    1380\n",
       "2667     120\n",
       "2668     360\n",
       "2669     900\n",
       "2670     840\n",
       "Name: Duration_Hrs, Length: 2671, dtype: int32"
      ]
     },
     "execution_count": 208,
     "metadata": {},
     "output_type": "execute_result"
    }
   ],
   "source": [
    "durr['Duration_Hrs']"
   ]
  },
  {
   "cell_type": "code",
   "execution_count": 209,
   "metadata": {},
   "outputs": [],
   "source": [
    "#adding Converted hr and mins....\n",
    "\n",
    "\n",
    "\n",
    "durr['Total_Duration(mins)']=durr.sum(axis=1)"
   ]
  },
  {
   "cell_type": "code",
   "execution_count": 210,
   "metadata": {},
   "outputs": [
    {
     "data": {
      "text/html": [
       "<div>\n",
       "<style scoped>\n",
       "    .dataframe tbody tr th:only-of-type {\n",
       "        vertical-align: middle;\n",
       "    }\n",
       "\n",
       "    .dataframe tbody tr th {\n",
       "        vertical-align: top;\n",
       "    }\n",
       "\n",
       "    .dataframe thead th {\n",
       "        text-align: right;\n",
       "    }\n",
       "</style>\n",
       "<table border=\"1\" class=\"dataframe\">\n",
       "  <thead>\n",
       "    <tr style=\"text-align: right;\">\n",
       "      <th></th>\n",
       "      <th>min</th>\n",
       "      <th>Duration_Hrs</th>\n",
       "      <th>Total_Duration(mins)</th>\n",
       "    </tr>\n",
       "  </thead>\n",
       "  <tbody>\n",
       "    <tr>\n",
       "      <th>0</th>\n",
       "      <td>55</td>\n",
       "      <td>600</td>\n",
       "      <td>655</td>\n",
       "    </tr>\n",
       "    <tr>\n",
       "      <th>1</th>\n",
       "      <td>0</td>\n",
       "      <td>240</td>\n",
       "      <td>240</td>\n",
       "    </tr>\n",
       "    <tr>\n",
       "      <th>2</th>\n",
       "      <td>45</td>\n",
       "      <td>1380</td>\n",
       "      <td>1425</td>\n",
       "    </tr>\n",
       "    <tr>\n",
       "      <th>3</th>\n",
       "      <td>0</td>\n",
       "      <td>780</td>\n",
       "      <td>780</td>\n",
       "    </tr>\n",
       "    <tr>\n",
       "      <th>4</th>\n",
       "      <td>50</td>\n",
       "      <td>120</td>\n",
       "      <td>170</td>\n",
       "    </tr>\n",
       "    <tr>\n",
       "      <th>...</th>\n",
       "      <td>...</td>\n",
       "      <td>...</td>\n",
       "      <td>...</td>\n",
       "    </tr>\n",
       "    <tr>\n",
       "      <th>2666</th>\n",
       "      <td>55</td>\n",
       "      <td>1380</td>\n",
       "      <td>1435</td>\n",
       "    </tr>\n",
       "    <tr>\n",
       "      <th>2667</th>\n",
       "      <td>35</td>\n",
       "      <td>120</td>\n",
       "      <td>155</td>\n",
       "    </tr>\n",
       "    <tr>\n",
       "      <th>2668</th>\n",
       "      <td>35</td>\n",
       "      <td>360</td>\n",
       "      <td>395</td>\n",
       "    </tr>\n",
       "    <tr>\n",
       "      <th>2669</th>\n",
       "      <td>15</td>\n",
       "      <td>900</td>\n",
       "      <td>915</td>\n",
       "    </tr>\n",
       "    <tr>\n",
       "      <th>2670</th>\n",
       "      <td>20</td>\n",
       "      <td>840</td>\n",
       "      <td>860</td>\n",
       "    </tr>\n",
       "  </tbody>\n",
       "</table>\n",
       "<p>2671 rows × 3 columns</p>\n",
       "</div>"
      ],
      "text/plain": [
       "      min  Duration_Hrs  Total_Duration(mins)\n",
       "0      55           600                   655\n",
       "1       0           240                   240\n",
       "2      45          1380                  1425\n",
       "3       0           780                   780\n",
       "4      50           120                   170\n",
       "...   ...           ...                   ...\n",
       "2666   55          1380                  1435\n",
       "2667   35           120                   155\n",
       "2668   35           360                   395\n",
       "2669   15           900                   915\n",
       "2670   20           840                   860\n",
       "\n",
       "[2671 rows x 3 columns]"
      ]
     },
     "execution_count": 210,
     "metadata": {},
     "output_type": "execute_result"
    }
   ],
   "source": [
    "durr"
   ]
  },
  {
   "cell_type": "code",
   "execution_count": 211,
   "metadata": {},
   "outputs": [],
   "source": [
    "# now i'll be dropping min and hrs column \n",
    "\n",
    "\n",
    "durr.drop(columns=['min','Duration_Hrs'],inplace=True)"
   ]
  },
  {
   "cell_type": "code",
   "execution_count": 212,
   "metadata": {},
   "outputs": [
    {
     "data": {
      "text/html": [
       "<div>\n",
       "<style scoped>\n",
       "    .dataframe tbody tr th:only-of-type {\n",
       "        vertical-align: middle;\n",
       "    }\n",
       "\n",
       "    .dataframe tbody tr th {\n",
       "        vertical-align: top;\n",
       "    }\n",
       "\n",
       "    .dataframe thead th {\n",
       "        text-align: right;\n",
       "    }\n",
       "</style>\n",
       "<table border=\"1\" class=\"dataframe\">\n",
       "  <thead>\n",
       "    <tr style=\"text-align: right;\">\n",
       "      <th></th>\n",
       "      <th>Total_Duration(mins)</th>\n",
       "    </tr>\n",
       "  </thead>\n",
       "  <tbody>\n",
       "    <tr>\n",
       "      <th>0</th>\n",
       "      <td>655</td>\n",
       "    </tr>\n",
       "    <tr>\n",
       "      <th>1</th>\n",
       "      <td>240</td>\n",
       "    </tr>\n",
       "    <tr>\n",
       "      <th>2</th>\n",
       "      <td>1425</td>\n",
       "    </tr>\n",
       "    <tr>\n",
       "      <th>3</th>\n",
       "      <td>780</td>\n",
       "    </tr>\n",
       "    <tr>\n",
       "      <th>4</th>\n",
       "      <td>170</td>\n",
       "    </tr>\n",
       "    <tr>\n",
       "      <th>...</th>\n",
       "      <td>...</td>\n",
       "    </tr>\n",
       "    <tr>\n",
       "      <th>2666</th>\n",
       "      <td>1435</td>\n",
       "    </tr>\n",
       "    <tr>\n",
       "      <th>2667</th>\n",
       "      <td>155</td>\n",
       "    </tr>\n",
       "    <tr>\n",
       "      <th>2668</th>\n",
       "      <td>395</td>\n",
       "    </tr>\n",
       "    <tr>\n",
       "      <th>2669</th>\n",
       "      <td>915</td>\n",
       "    </tr>\n",
       "    <tr>\n",
       "      <th>2670</th>\n",
       "      <td>860</td>\n",
       "    </tr>\n",
       "  </tbody>\n",
       "</table>\n",
       "<p>2671 rows × 1 columns</p>\n",
       "</div>"
      ],
      "text/plain": [
       "      Total_Duration(mins)\n",
       "0                      655\n",
       "1                      240\n",
       "2                     1425\n",
       "3                      780\n",
       "4                      170\n",
       "...                    ...\n",
       "2666                  1435\n",
       "2667                   155\n",
       "2668                   395\n",
       "2669                   915\n",
       "2670                   860\n",
       "\n",
       "[2671 rows x 1 columns]"
      ]
     },
     "execution_count": 212,
     "metadata": {},
     "output_type": "execute_result"
    }
   ],
   "source": [
    "durr"
   ]
  },
  {
   "cell_type": "code",
   "execution_count": 213,
   "metadata": {},
   "outputs": [],
   "source": [
    "#concatnating two dataframes.\n",
    "\n",
    "df_test=pd.concat([df_test,durr],axis=1)"
   ]
  },
  {
   "cell_type": "code",
   "execution_count": 214,
   "metadata": {},
   "outputs": [],
   "source": [
    "# dropping duration column from dataframe\n",
    "\n",
    "\n",
    "df_test.drop(columns=['Duration'],inplace=True)"
   ]
  },
  {
   "cell_type": "code",
   "execution_count": 215,
   "metadata": {},
   "outputs": [
    {
     "data": {
      "text/html": [
       "<div>\n",
       "<style scoped>\n",
       "    .dataframe tbody tr th:only-of-type {\n",
       "        vertical-align: middle;\n",
       "    }\n",
       "\n",
       "    .dataframe tbody tr th {\n",
       "        vertical-align: top;\n",
       "    }\n",
       "\n",
       "    .dataframe thead th {\n",
       "        text-align: right;\n",
       "    }\n",
       "</style>\n",
       "<table border=\"1\" class=\"dataframe\">\n",
       "  <thead>\n",
       "    <tr style=\"text-align: right;\">\n",
       "      <th></th>\n",
       "      <th>Airline</th>\n",
       "      <th>Source</th>\n",
       "      <th>Destination</th>\n",
       "      <th>Route</th>\n",
       "      <th>Total_Stops</th>\n",
       "      <th>JourneyDate</th>\n",
       "      <th>JourneyMonth</th>\n",
       "      <th>Dep_hr</th>\n",
       "      <th>Dep_min</th>\n",
       "      <th>Arrival_hr</th>\n",
       "      <th>Arrival_min</th>\n",
       "      <th>Total_Duration(mins)</th>\n",
       "    </tr>\n",
       "  </thead>\n",
       "  <tbody>\n",
       "    <tr>\n",
       "      <th>0</th>\n",
       "      <td>Jet Airways</td>\n",
       "      <td>Delhi</td>\n",
       "      <td>Cochin</td>\n",
       "      <td>DEL → BOM → COK</td>\n",
       "      <td>1 stop</td>\n",
       "      <td>6</td>\n",
       "      <td>6</td>\n",
       "      <td>17</td>\n",
       "      <td>30</td>\n",
       "      <td>4</td>\n",
       "      <td>25</td>\n",
       "      <td>655</td>\n",
       "    </tr>\n",
       "    <tr>\n",
       "      <th>1</th>\n",
       "      <td>IndiGo</td>\n",
       "      <td>Kolkata</td>\n",
       "      <td>Banglore</td>\n",
       "      <td>CCU → MAA → BLR</td>\n",
       "      <td>1 stop</td>\n",
       "      <td>12</td>\n",
       "      <td>5</td>\n",
       "      <td>6</td>\n",
       "      <td>20</td>\n",
       "      <td>10</td>\n",
       "      <td>20</td>\n",
       "      <td>240</td>\n",
       "    </tr>\n",
       "    <tr>\n",
       "      <th>2</th>\n",
       "      <td>Jet Airways</td>\n",
       "      <td>Delhi</td>\n",
       "      <td>Cochin</td>\n",
       "      <td>DEL → BOM → COK</td>\n",
       "      <td>1 stop</td>\n",
       "      <td>21</td>\n",
       "      <td>5</td>\n",
       "      <td>19</td>\n",
       "      <td>15</td>\n",
       "      <td>19</td>\n",
       "      <td>0</td>\n",
       "      <td>1425</td>\n",
       "    </tr>\n",
       "    <tr>\n",
       "      <th>3</th>\n",
       "      <td>Multiple carriers</td>\n",
       "      <td>Delhi</td>\n",
       "      <td>Cochin</td>\n",
       "      <td>DEL → BOM → COK</td>\n",
       "      <td>1 stop</td>\n",
       "      <td>21</td>\n",
       "      <td>5</td>\n",
       "      <td>8</td>\n",
       "      <td>0</td>\n",
       "      <td>21</td>\n",
       "      <td>0</td>\n",
       "      <td>780</td>\n",
       "    </tr>\n",
       "    <tr>\n",
       "      <th>4</th>\n",
       "      <td>Air Asia</td>\n",
       "      <td>Banglore</td>\n",
       "      <td>Delhi</td>\n",
       "      <td>BLR → DEL</td>\n",
       "      <td>non-stop</td>\n",
       "      <td>24</td>\n",
       "      <td>6</td>\n",
       "      <td>23</td>\n",
       "      <td>55</td>\n",
       "      <td>2</td>\n",
       "      <td>45</td>\n",
       "      <td>170</td>\n",
       "    </tr>\n",
       "  </tbody>\n",
       "</table>\n",
       "</div>"
      ],
      "text/plain": [
       "             Airline    Source Destination            Route Total_Stops  \\\n",
       "0        Jet Airways     Delhi      Cochin  DEL → BOM → COK      1 stop   \n",
       "1             IndiGo   Kolkata    Banglore  CCU → MAA → BLR      1 stop   \n",
       "2        Jet Airways     Delhi      Cochin  DEL → BOM → COK      1 stop   \n",
       "3  Multiple carriers     Delhi      Cochin  DEL → BOM → COK      1 stop   \n",
       "4           Air Asia  Banglore       Delhi        BLR → DEL    non-stop   \n",
       "\n",
       "   JourneyDate  JourneyMonth  Dep_hr  Dep_min  Arrival_hr  Arrival_min  \\\n",
       "0            6             6      17       30           4           25   \n",
       "1           12             5       6       20          10           20   \n",
       "2           21             5      19       15          19            0   \n",
       "3           21             5       8        0          21            0   \n",
       "4           24             6      23       55           2           45   \n",
       "\n",
       "   Total_Duration(mins)  \n",
       "0                   655  \n",
       "1                   240  \n",
       "2                  1425  \n",
       "3                   780  \n",
       "4                   170  "
      ]
     },
     "execution_count": 215,
     "metadata": {},
     "output_type": "execute_result"
    }
   ],
   "source": [
    "df_test.head()"
   ]
  },
  {
   "cell_type": "code",
   "execution_count": 216,
   "metadata": {},
   "outputs": [],
   "source": [
    "###### Route and stops are working in the same manner..\n",
    "\n",
    "# Number of stops are equal to Routs\n",
    "\n",
    "#so dropping route column\n",
    "\n",
    "df_test.drop(columns=['Route'],inplace=True)"
   ]
  },
  {
   "cell_type": "code",
   "execution_count": 217,
   "metadata": {},
   "outputs": [],
   "source": [
    "### Encoding "
   ]
  },
  {
   "cell_type": "code",
   "execution_count": 218,
   "metadata": {},
   "outputs": [],
   "source": [
    "from sklearn import preprocessing\n",
    "le = preprocessing.LabelEncoder()"
   ]
  },
  {
   "cell_type": "code",
   "execution_count": 219,
   "metadata": {},
   "outputs": [],
   "source": [
    "for i in df_test.columns:\n",
    "    if df_test[i].dtypes==\"object\":\n",
    "        df_test[i]=le.fit_transform(df_test[i].values.reshape(-1,1))"
   ]
  },
  {
   "cell_type": "code",
   "execution_count": 220,
   "metadata": {},
   "outputs": [],
   "source": [
    "### Pre-processing Pipeline"
   ]
  },
  {
   "cell_type": "code",
   "execution_count": 221,
   "metadata": {},
   "outputs": [
    {
     "name": "stdout",
     "output_type": "stream",
     "text": [
      "Airline\n",
      "AxesSubplot(0.125,0.125;0.775x0.755)\n"
     ]
    },
    {
     "data": {
      "image/png": "[encoded data removed]",
      "text/plain": [
       "<Figure size 432x288 with 1 Axes>"
      ]
     },
     "metadata": {
      "needs_background": "light"
     },
     "output_type": "display_data"
    },
    {
     "name": "stdout",
     "output_type": "stream",
     "text": [
      "Source\n",
      "AxesSubplot(0.125,0.125;0.775x0.755)\n"
     ]
    },
    {
     "data": {
      "image/png": "[encoded data removed]",
      "text/plain": [
       "<Figure size 432x288 with 1 Axes>"
      ]
     },
     "metadata": {
      "needs_background": "light"
     },
     "output_type": "display_data"
    },
    {
     "name": "stdout",
     "output_type": "stream",
     "text": [
      "Destination\n",
      "AxesSubplot(0.125,0.125;0.775x0.755)\n"
     ]
    },
    {
     "data": {
      "image/png": "[encoded data removed]",
      "text/plain": [
       "<Figure size 432x288 with 1 Axes>"
      ]
     },
     "metadata": {
      "needs_background": "light"
     },
     "output_type": "display_data"
    },
    {
     "name": "stdout",
     "output_type": "stream",
     "text": [
      "Total_Stops\n",
      "AxesSubplot(0.125,0.125;0.775x0.755)\n"
     ]
    },
    {
     "data": {
      "image/png": "[encoded data removed]",
      "text/plain": [
       "<Figure size 432x288 with 1 Axes>"
      ]
     },
     "metadata": {
      "needs_background": "light"
     },
     "output_type": "display_data"
    },
    {
     "name": "stdout",
     "output_type": "stream",
     "text": [
      "JourneyDate\n",
      "AxesSubplot(0.125,0.125;0.775x0.755)\n"
     ]
    },
    {
     "data": {
      "image/png": "[encoded data removed]",
      "text/plain": [
       "<Figure size 432x288 with 1 Axes>"
      ]
     },
     "metadata": {
      "needs_background": "light"
     },
     "output_type": "display_data"
    },
    {
     "name": "stdout",
     "output_type": "stream",
     "text": [
      "JourneyMonth\n",
      "AxesSubplot(0.125,0.125;0.775x0.755)\n"
     ]
    },
    {
     "data": {
      "image/png": "[encoded data removed]",
      "text/plain": [
       "<Figure size 432x288 with 1 Axes>"
      ]
     },
     "metadata": {
      "needs_background": "light"
     },
     "output_type": "display_data"
    },
    {
     "name": "stdout",
     "output_type": "stream",
     "text": [
      "Dep_hr\n",
      "AxesSubplot(0.125,0.125;0.775x0.755)\n"
     ]
    },
    {
     "data": {
      "image/png": "[encoded data removed]",
      "text/plain": [
       "<Figure size 432x288 with 1 Axes>"
      ]
     },
     "metadata": {
      "needs_background": "light"
     },
     "output_type": "display_data"
    },
    {
     "name": "stdout",
     "output_type": "stream",
     "text": [
      "Dep_min\n",
      "AxesSubplot(0.125,0.125;0.775x0.755)\n"
     ]
    },
    {
     "data": {
      "image/png": "[encoded data removed]",
      "text/plain": [
       "<Figure size 432x288 with 1 Axes>"
      ]
     },
     "metadata": {
      "needs_background": "light"
     },
     "output_type": "display_data"
    },
    {
     "name": "stdout",
     "output_type": "stream",
     "text": [
      "Arrival_hr\n",
      "AxesSubplot(0.125,0.125;0.775x0.755)\n"
     ]
    },
    {
     "data": {
      "image/png": "[encoded data removed]",
      "text/plain": [
       "<Figure size 432x288 with 1 Axes>"
      ]
     },
     "metadata": {
      "needs_background": "light"
     },
     "output_type": "display_data"
    },
    {
     "name": "stdout",
     "output_type": "stream",
     "text": [
      "Arrival_min\n",
      "AxesSubplot(0.125,0.125;0.775x0.755)\n"
     ]
    },
    {
     "data": {
      "image/png": "[encoded data removed]",
      "text/plain": [
       "<Figure size 432x288 with 1 Axes>"
      ]
     },
     "metadata": {
      "needs_background": "light"
     },
     "output_type": "display_data"
    },
    {
     "name": "stdout",
     "output_type": "stream",
     "text": [
      "Total_Duration(mins)\n",
      "AxesSubplot(0.125,0.125;0.775x0.755)\n"
     ]
    },
    {
     "data": {
      "image/png": "[encoded data removed]",
      "text/plain": [
       "<Figure size 432x288 with 1 Axes>"
      ]
     },
     "metadata": {
      "needs_background": "light"
     },
     "output_type": "display_data"
    }
   ],
   "source": [
    "for i in df_test:\n",
    "    print(i)\n",
    "    print(df_test[i].plot.box())\n",
    "    plt.show()"
   ]
  },
  {
   "cell_type": "code",
   "execution_count": 222,
   "metadata": {},
   "outputs": [
    {
     "data": {
      "text/plain": [
       "Airline                 0.483882\n",
       "Source                 -0.424997\n",
       "Destination             1.263630\n",
       "Total_Stops             0.672623\n",
       "JourneyDate             0.199540\n",
       "JourneyMonth           -0.403700\n",
       "Dep_hr                  0.093759\n",
       "Dep_min                 0.128515\n",
       "Arrival_hr             -0.443166\n",
       "Arrival_min             0.115267\n",
       "Total_Duration(mins)    0.896084\n",
       "dtype: float64"
      ]
     },
     "execution_count": 222,
     "metadata": {},
     "output_type": "execute_result"
    }
   ],
   "source": [
    "# checking skewness..\n",
    "\n",
    "\n",
    "\n",
    "df_test.skew()"
   ]
  },
  {
   "cell_type": "code",
   "execution_count": 223,
   "metadata": {},
   "outputs": [],
   "source": [
    "### scaling"
   ]
  },
  {
   "cell_type": "code",
   "execution_count": 224,
   "metadata": {},
   "outputs": [
    {
     "data": {
      "text/plain": [
       "array([[ 0.01190758,  0.03256662, -0.29488167, ..., -1.36170869,\n",
       "         0.02633999,  0.03039304],\n",
       "       [-0.42377921,  0.87708559, -0.97622158, ..., -0.50932437,\n",
       "        -0.27177067, -0.79614329],\n",
       "       [ 0.01190758,  0.03256662, -0.29488167, ...,  0.76925212,\n",
       "        -1.46421332,  1.56396648],\n",
       "       ...,\n",
       "       [ 0.01190758,  0.03256662, -0.29488167, ..., -1.36170869,\n",
       "         0.02633999, -0.48743695],\n",
       "       [-1.29515278,  0.03256662, -0.29488167, ...,  0.76925212,\n",
       "        -0.56988133,  0.54822303],\n",
       "       [ 0.88328115,  0.03256662, -0.29488167, ...,  0.76925212,\n",
       "        -0.56988133,  0.43868207]])"
      ]
     },
     "execution_count": 224,
     "metadata": {},
     "output_type": "execute_result"
    }
   ],
   "source": [
    "from sklearn.preprocessing import StandardScaler\n",
    "\n",
    "\n",
    "ss=StandardScaler()\n",
    "ss.fit_transform(df_test)"
   ]
  },
  {
   "cell_type": "code",
   "execution_count": 225,
   "metadata": {},
   "outputs": [
    {
     "data": {
      "text/html": [
       "<div>\n",
       "<style scoped>\n",
       "    .dataframe tbody tr th:only-of-type {\n",
       "        vertical-align: middle;\n",
       "    }\n",
       "\n",
       "    .dataframe tbody tr th {\n",
       "        vertical-align: top;\n",
       "    }\n",
       "\n",
       "    .dataframe thead th {\n",
       "        text-align: right;\n",
       "    }\n",
       "</style>\n",
       "<table border=\"1\" class=\"dataframe\">\n",
       "  <thead>\n",
       "    <tr style=\"text-align: right;\">\n",
       "      <th></th>\n",
       "      <th>Airline</th>\n",
       "      <th>Source</th>\n",
       "      <th>Destination</th>\n",
       "      <th>Total_Stops</th>\n",
       "      <th>JourneyDate</th>\n",
       "      <th>JourneyMonth</th>\n",
       "      <th>Dep_hr</th>\n",
       "      <th>Dep_min</th>\n",
       "      <th>Arrival_hr</th>\n",
       "      <th>Arrival_min</th>\n",
       "      <th>Total_Duration(mins)</th>\n",
       "    </tr>\n",
       "  </thead>\n",
       "  <tbody>\n",
       "    <tr>\n",
       "      <th>0</th>\n",
       "      <td>4</td>\n",
       "      <td>2</td>\n",
       "      <td>1</td>\n",
       "      <td>0</td>\n",
       "      <td>6</td>\n",
       "      <td>6</td>\n",
       "      <td>17</td>\n",
       "      <td>30</td>\n",
       "      <td>4</td>\n",
       "      <td>25</td>\n",
       "      <td>655</td>\n",
       "    </tr>\n",
       "    <tr>\n",
       "      <th>1</th>\n",
       "      <td>3</td>\n",
       "      <td>3</td>\n",
       "      <td>0</td>\n",
       "      <td>0</td>\n",
       "      <td>12</td>\n",
       "      <td>5</td>\n",
       "      <td>6</td>\n",
       "      <td>20</td>\n",
       "      <td>10</td>\n",
       "      <td>20</td>\n",
       "      <td>240</td>\n",
       "    </tr>\n",
       "    <tr>\n",
       "      <th>2</th>\n",
       "      <td>4</td>\n",
       "      <td>2</td>\n",
       "      <td>1</td>\n",
       "      <td>0</td>\n",
       "      <td>21</td>\n",
       "      <td>5</td>\n",
       "      <td>19</td>\n",
       "      <td>15</td>\n",
       "      <td>19</td>\n",
       "      <td>0</td>\n",
       "      <td>1425</td>\n",
       "    </tr>\n",
       "    <tr>\n",
       "      <th>3</th>\n",
       "      <td>6</td>\n",
       "      <td>2</td>\n",
       "      <td>1</td>\n",
       "      <td>0</td>\n",
       "      <td>21</td>\n",
       "      <td>5</td>\n",
       "      <td>8</td>\n",
       "      <td>0</td>\n",
       "      <td>21</td>\n",
       "      <td>0</td>\n",
       "      <td>780</td>\n",
       "    </tr>\n",
       "    <tr>\n",
       "      <th>4</th>\n",
       "      <td>0</td>\n",
       "      <td>0</td>\n",
       "      <td>2</td>\n",
       "      <td>4</td>\n",
       "      <td>24</td>\n",
       "      <td>6</td>\n",
       "      <td>23</td>\n",
       "      <td>55</td>\n",
       "      <td>2</td>\n",
       "      <td>45</td>\n",
       "      <td>170</td>\n",
       "    </tr>\n",
       "  </tbody>\n",
       "</table>\n",
       "</div>"
      ],
      "text/plain": [
       "   Airline  Source  Destination  Total_Stops  JourneyDate  JourneyMonth  \\\n",
       "0        4       2            1            0            6             6   \n",
       "1        3       3            0            0           12             5   \n",
       "2        4       2            1            0           21             5   \n",
       "3        6       2            1            0           21             5   \n",
       "4        0       0            2            4           24             6   \n",
       "\n",
       "   Dep_hr  Dep_min  Arrival_hr  Arrival_min  Total_Duration(mins)  \n",
       "0      17       30           4           25                   655  \n",
       "1       6       20          10           20                   240  \n",
       "2      19       15          19            0                  1425  \n",
       "3       8        0          21            0                   780  \n",
       "4      23       55           2           45                   170  "
      ]
     },
     "execution_count": 225,
     "metadata": {},
     "output_type": "execute_result"
    }
   ],
   "source": [
    "df_test.head()"
   ]
  },
  {
   "cell_type": "code",
   "execution_count": 226,
   "metadata": {},
   "outputs": [
    {
     "data": {
      "text/html": [
       "<div>\n",
       "<style scoped>\n",
       "    .dataframe tbody tr th:only-of-type {\n",
       "        vertical-align: middle;\n",
       "    }\n",
       "\n",
       "    .dataframe tbody tr th {\n",
       "        vertical-align: top;\n",
       "    }\n",
       "\n",
       "    .dataframe thead th {\n",
       "        text-align: right;\n",
       "    }\n",
       "</style>\n",
       "<table border=\"1\" class=\"dataframe\">\n",
       "  <thead>\n",
       "    <tr style=\"text-align: right;\">\n",
       "      <th></th>\n",
       "      <th>Airline</th>\n",
       "      <th>Source</th>\n",
       "      <th>Destination</th>\n",
       "      <th>Total_Stops</th>\n",
       "      <th>Price</th>\n",
       "      <th>JourneyDate</th>\n",
       "      <th>JourneyMonth</th>\n",
       "      <th>Dep_hr</th>\n",
       "      <th>Dep_min</th>\n",
       "      <th>Arrival_hr</th>\n",
       "      <th>Arrival_min</th>\n",
       "      <th>Total_Duration(mins)</th>\n",
       "    </tr>\n",
       "  </thead>\n",
       "  <tbody>\n",
       "    <tr>\n",
       "      <th>0</th>\n",
       "      <td>3</td>\n",
       "      <td>0</td>\n",
       "      <td>5</td>\n",
       "      <td>4</td>\n",
       "      <td>3897</td>\n",
       "      <td>24</td>\n",
       "      <td>3</td>\n",
       "      <td>22</td>\n",
       "      <td>20</td>\n",
       "      <td>1</td>\n",
       "      <td>10</td>\n",
       "      <td>170</td>\n",
       "    </tr>\n",
       "    <tr>\n",
       "      <th>1</th>\n",
       "      <td>1</td>\n",
       "      <td>3</td>\n",
       "      <td>0</td>\n",
       "      <td>1</td>\n",
       "      <td>7662</td>\n",
       "      <td>1</td>\n",
       "      <td>5</td>\n",
       "      <td>5</td>\n",
       "      <td>50</td>\n",
       "      <td>13</td>\n",
       "      <td>15</td>\n",
       "      <td>445</td>\n",
       "    </tr>\n",
       "    <tr>\n",
       "      <th>2</th>\n",
       "      <td>4</td>\n",
       "      <td>2</td>\n",
       "      <td>1</td>\n",
       "      <td>1</td>\n",
       "      <td>13882</td>\n",
       "      <td>9</td>\n",
       "      <td>6</td>\n",
       "      <td>9</td>\n",
       "      <td>25</td>\n",
       "      <td>4</td>\n",
       "      <td>25</td>\n",
       "      <td>1140</td>\n",
       "    </tr>\n",
       "    <tr>\n",
       "      <th>3</th>\n",
       "      <td>3</td>\n",
       "      <td>3</td>\n",
       "      <td>0</td>\n",
       "      <td>0</td>\n",
       "      <td>6218</td>\n",
       "      <td>12</td>\n",
       "      <td>5</td>\n",
       "      <td>18</td>\n",
       "      <td>5</td>\n",
       "      <td>23</td>\n",
       "      <td>30</td>\n",
       "      <td>325</td>\n",
       "    </tr>\n",
       "    <tr>\n",
       "      <th>4</th>\n",
       "      <td>3</td>\n",
       "      <td>0</td>\n",
       "      <td>5</td>\n",
       "      <td>0</td>\n",
       "      <td>13302</td>\n",
       "      <td>1</td>\n",
       "      <td>3</td>\n",
       "      <td>16</td>\n",
       "      <td>50</td>\n",
       "      <td>21</td>\n",
       "      <td>35</td>\n",
       "      <td>285</td>\n",
       "    </tr>\n",
       "  </tbody>\n",
       "</table>\n",
       "</div>"
      ],
      "text/plain": [
       "   Airline  Source  Destination  Total_Stops  Price  JourneyDate  \\\n",
       "0        3       0            5            4   3897           24   \n",
       "1        1       3            0            1   7662            1   \n",
       "2        4       2            1            1  13882            9   \n",
       "3        3       3            0            0   6218           12   \n",
       "4        3       0            5            0  13302            1   \n",
       "\n",
       "   JourneyMonth  Dep_hr  Dep_min  Arrival_hr  Arrival_min  \\\n",
       "0             3      22       20           1           10   \n",
       "1             5       5       50          13           15   \n",
       "2             6       9       25           4           25   \n",
       "3             5      18        5          23           30   \n",
       "4             3      16       50          21           35   \n",
       "\n",
       "   Total_Duration(mins)  \n",
       "0                   170  \n",
       "1                   445  \n",
       "2                  1140  \n",
       "3                   325  \n",
       "4                   285  "
      ]
     },
     "execution_count": 226,
     "metadata": {},
     "output_type": "execute_result"
    }
   ],
   "source": [
    "df.head()"
   ]
  },
  {
   "cell_type": "code",
   "execution_count": 227,
   "metadata": {},
   "outputs": [],
   "source": [
    "# Test data is ready..!!"
   ]
  },
  {
   "cell_type": "markdown",
   "metadata": {},
   "source": [
    "import pickle\n",
    "\n",
    "filename = 'flight_price.pkl'\n",
    "pickle.dump(rf_random, open(filename,'wb'))"
   ]
  },
  {
   "cell_type": "code",
   "execution_count": 230,
   "metadata": {},
   "outputs": [],
   "source": [
    "# loading the model\n",
    "\n",
    "fitted_model = pickle.load(open('flight_price.pkl','rb'))"
   ]
  },
  {
   "cell_type": "code",
   "execution_count": 231,
   "metadata": {},
   "outputs": [
    {
     "data": {
      "text/plain": [
       "RandomizedSearchCV(cv=5, estimator=RandomForestRegressor(), n_jobs=1,\n",
       "                   param_distributions={'criterion': ['mse', 'mae'],\n",
       "                                        'max_depth': [2, 6, 8],\n",
       "                                        'max_leaf_nodes': [5, 20, 100],\n",
       "                                        'min_samples_leaf': [20, 40, 100],\n",
       "                                        'min_samples_split': [10, 20, 40]},\n",
       "                   random_state=51, verbose=2)"
      ]
     },
     "execution_count": 231,
     "metadata": {},
     "output_type": "execute_result"
    }
   ],
   "source": [
    "fitted_model"
   ]
  },
  {
   "cell_type": "code",
   "execution_count": 232,
   "metadata": {},
   "outputs": [],
   "source": [
    "# prediction on test data\n",
    "\n",
    "\n",
    "predictions = fitted_model.predict(df_test)"
   ]
  },
  {
   "cell_type": "code",
   "execution_count": 233,
   "metadata": {},
   "outputs": [
    {
     "data": {
      "text/plain": [
       "array([11941.56 ,  5138.125, 12797.44 , ..., 16838.485, 10762.56 ,\n",
       "        8043.945])"
      ]
     },
     "execution_count": 233,
     "metadata": {},
     "output_type": "execute_result"
    }
   ],
   "source": [
    "predictions"
   ]
  },
  {
   "cell_type": "code",
   "execution_count": null,
   "metadata": {},
   "outputs": [],
   "source": []
  }
 ],
 "metadata": {
  "kernelspec": {
   "display_name": "Python 3",
   "language": "python",
   "name": "python3"
  },
  "language_info": {
   "codemirror_mode": {
    "name": "ipython",
    "version": 3
   },
   "file_extension": ".py",
   "mimetype": "text/x-python",
   "name": "python",
   "nbconvert_exporter": "python",
   "pygments_lexer": "ipython3",
   "version": "3.8.3"
  }
 },
 "nbformat": 4,
 "nbformat_minor": 4
}
